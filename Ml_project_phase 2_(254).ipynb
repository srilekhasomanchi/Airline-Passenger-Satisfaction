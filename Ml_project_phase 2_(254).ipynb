{
  "nbformat": 4,
  "nbformat_minor": 5,
  "metadata": {
    "kernelspec": {
      "display_name": "Python 3",
      "language": "python",
      "name": "python3"
    },
    "language_info": {
      "codemirror_mode": {
        "name": "ipython",
        "version": 3
      },
      "file_extension": ".py",
      "mimetype": "text/x-python",
      "name": "python",
      "nbconvert_exporter": "python",
      "pygments_lexer": "ipython3",
      "version": "3.8.8"
    },
    "colab": {
      "name": "Ml_project_phase 2_DT.ipynb",
      "provenance": [],
      "collapsed_sections": [
        "30b78f47",
        "e484e2e0",
        "323c3b57",
        "b59cab43",
        "3e50cb9d",
        "aece4988",
        "8cd79c35",
        "2cb24154"
      ]
    },
    "accelerator": "GPU"
  },
  "cells": [
    {
      "cell_type": "markdown",
      "metadata": {
        "id": "c172713d"
      },
      "source": [
        "### ML Project Phase 2\n",
        "### Srilekha Somanchi, AM.EN.U4CSE19254"
      ],
      "id": "c172713d"
    },
    {
      "cell_type": "markdown",
      "metadata": {
        "id": "21d3451d"
      },
      "source": [
        "### 1. Data pre-processing"
      ],
      "id": "21d3451d"
    },
    {
      "cell_type": "markdown",
      "metadata": {
        "id": "30b78f47"
      },
      "source": [
        "### a) Data Cleaning"
      ],
      "id": "30b78f47"
    },
    {
      "cell_type": "code",
      "metadata": {
        "id": "91001444"
      },
      "source": [
        "import pandas as pd\n",
        "import numpy as np\n",
        "import matplotlib.pyplot as plt\n",
        "import seaborn as sns"
      ],
      "id": "91001444",
      "execution_count": 1,
      "outputs": []
    },
    {
      "cell_type": "code",
      "metadata": {
        "id": "CfYiGuToJ96K",
        "colab": {
          "base_uri": "https://localhost:8080/"
        },
        "outputId": "a10d2075-2747-4e0b-e27a-7211b24a212a"
      },
      "source": [
        "from google.colab import drive\n",
        "drive.mount('/content/drive')"
      ],
      "id": "CfYiGuToJ96K",
      "execution_count": 2,
      "outputs": [
        {
          "output_type": "stream",
          "name": "stdout",
          "text": [
            "Mounted at /content/drive\n"
          ]
        }
      ]
    },
    {
      "cell_type": "code",
      "metadata": {
        "id": "b8715d5a",
        "colab": {
          "base_uri": "https://localhost:8080/",
          "height": 358
        },
        "outputId": "4564a3f7-15e2-45ab-ab12-26c7de1f14c1"
      },
      "source": [
        "df = pd.read_csv('/content/drive/MyDrive/Ml Project/airline_train-1.csv')\n",
        "df.head()"
      ],
      "id": "b8715d5a",
      "execution_count": 3,
      "outputs": [
        {
          "output_type": "execute_result",
          "data": {
            "text/html": [
              "<div>\n",
              "<style scoped>\n",
              "    .dataframe tbody tr th:only-of-type {\n",
              "        vertical-align: middle;\n",
              "    }\n",
              "\n",
              "    .dataframe tbody tr th {\n",
              "        vertical-align: top;\n",
              "    }\n",
              "\n",
              "    .dataframe thead th {\n",
              "        text-align: right;\n",
              "    }\n",
              "</style>\n",
              "<table border=\"1\" class=\"dataframe\">\n",
              "  <thead>\n",
              "    <tr style=\"text-align: right;\">\n",
              "      <th></th>\n",
              "      <th>Unnamed: 0</th>\n",
              "      <th>id</th>\n",
              "      <th>Gender</th>\n",
              "      <th>Customer Type</th>\n",
              "      <th>Age</th>\n",
              "      <th>Type of Travel</th>\n",
              "      <th>Class</th>\n",
              "      <th>Flight Distance</th>\n",
              "      <th>Inflight wifi service</th>\n",
              "      <th>Departure/Arrival time convenient</th>\n",
              "      <th>Ease of Online booking</th>\n",
              "      <th>Gate location</th>\n",
              "      <th>Food and drink</th>\n",
              "      <th>Online boarding</th>\n",
              "      <th>Seat comfort</th>\n",
              "      <th>Inflight entertainment</th>\n",
              "      <th>On-board service</th>\n",
              "      <th>Leg room service</th>\n",
              "      <th>Baggage handling</th>\n",
              "      <th>Checkin service</th>\n",
              "      <th>Inflight service</th>\n",
              "      <th>Cleanliness</th>\n",
              "      <th>Departure Delay in Minutes</th>\n",
              "      <th>Arrival Delay in Minutes</th>\n",
              "      <th>satisfaction</th>\n",
              "    </tr>\n",
              "  </thead>\n",
              "  <tbody>\n",
              "    <tr>\n",
              "      <th>0</th>\n",
              "      <td>0</td>\n",
              "      <td>70172</td>\n",
              "      <td>Male</td>\n",
              "      <td>Loyal Customer</td>\n",
              "      <td>13</td>\n",
              "      <td>Personal Travel</td>\n",
              "      <td>Eco Plus</td>\n",
              "      <td>460</td>\n",
              "      <td>3</td>\n",
              "      <td>4</td>\n",
              "      <td>3</td>\n",
              "      <td>1</td>\n",
              "      <td>5</td>\n",
              "      <td>3</td>\n",
              "      <td>5</td>\n",
              "      <td>5</td>\n",
              "      <td>4</td>\n",
              "      <td>3</td>\n",
              "      <td>4</td>\n",
              "      <td>4</td>\n",
              "      <td>5</td>\n",
              "      <td>5</td>\n",
              "      <td>25</td>\n",
              "      <td>18.0</td>\n",
              "      <td>neutral or dissatisfied</td>\n",
              "    </tr>\n",
              "    <tr>\n",
              "      <th>1</th>\n",
              "      <td>1</td>\n",
              "      <td>5047</td>\n",
              "      <td>Male</td>\n",
              "      <td>disloyal Customer</td>\n",
              "      <td>25</td>\n",
              "      <td>Business travel</td>\n",
              "      <td>Business</td>\n",
              "      <td>235</td>\n",
              "      <td>3</td>\n",
              "      <td>2</td>\n",
              "      <td>3</td>\n",
              "      <td>3</td>\n",
              "      <td>1</td>\n",
              "      <td>3</td>\n",
              "      <td>1</td>\n",
              "      <td>1</td>\n",
              "      <td>1</td>\n",
              "      <td>5</td>\n",
              "      <td>3</td>\n",
              "      <td>1</td>\n",
              "      <td>4</td>\n",
              "      <td>1</td>\n",
              "      <td>1</td>\n",
              "      <td>6.0</td>\n",
              "      <td>neutral or dissatisfied</td>\n",
              "    </tr>\n",
              "    <tr>\n",
              "      <th>2</th>\n",
              "      <td>2</td>\n",
              "      <td>110028</td>\n",
              "      <td>Female</td>\n",
              "      <td>Loyal Customer</td>\n",
              "      <td>26</td>\n",
              "      <td>Business travel</td>\n",
              "      <td>Business</td>\n",
              "      <td>1142</td>\n",
              "      <td>2</td>\n",
              "      <td>2</td>\n",
              "      <td>2</td>\n",
              "      <td>2</td>\n",
              "      <td>5</td>\n",
              "      <td>5</td>\n",
              "      <td>5</td>\n",
              "      <td>5</td>\n",
              "      <td>4</td>\n",
              "      <td>3</td>\n",
              "      <td>4</td>\n",
              "      <td>4</td>\n",
              "      <td>4</td>\n",
              "      <td>5</td>\n",
              "      <td>0</td>\n",
              "      <td>0.0</td>\n",
              "      <td>satisfied</td>\n",
              "    </tr>\n",
              "    <tr>\n",
              "      <th>3</th>\n",
              "      <td>3</td>\n",
              "      <td>24026</td>\n",
              "      <td>Female</td>\n",
              "      <td>Loyal Customer</td>\n",
              "      <td>25</td>\n",
              "      <td>Business travel</td>\n",
              "      <td>Business</td>\n",
              "      <td>562</td>\n",
              "      <td>2</td>\n",
              "      <td>5</td>\n",
              "      <td>5</td>\n",
              "      <td>5</td>\n",
              "      <td>2</td>\n",
              "      <td>2</td>\n",
              "      <td>2</td>\n",
              "      <td>2</td>\n",
              "      <td>2</td>\n",
              "      <td>5</td>\n",
              "      <td>3</td>\n",
              "      <td>1</td>\n",
              "      <td>4</td>\n",
              "      <td>2</td>\n",
              "      <td>11</td>\n",
              "      <td>9.0</td>\n",
              "      <td>neutral or dissatisfied</td>\n",
              "    </tr>\n",
              "    <tr>\n",
              "      <th>4</th>\n",
              "      <td>4</td>\n",
              "      <td>119299</td>\n",
              "      <td>Male</td>\n",
              "      <td>Loyal Customer</td>\n",
              "      <td>61</td>\n",
              "      <td>Business travel</td>\n",
              "      <td>Business</td>\n",
              "      <td>214</td>\n",
              "      <td>3</td>\n",
              "      <td>3</td>\n",
              "      <td>3</td>\n",
              "      <td>3</td>\n",
              "      <td>4</td>\n",
              "      <td>5</td>\n",
              "      <td>5</td>\n",
              "      <td>3</td>\n",
              "      <td>3</td>\n",
              "      <td>4</td>\n",
              "      <td>4</td>\n",
              "      <td>3</td>\n",
              "      <td>3</td>\n",
              "      <td>3</td>\n",
              "      <td>0</td>\n",
              "      <td>0.0</td>\n",
              "      <td>satisfied</td>\n",
              "    </tr>\n",
              "  </tbody>\n",
              "</table>\n",
              "</div>"
            ],
            "text/plain": [
              "   Unnamed: 0      id  ... Arrival Delay in Minutes             satisfaction\n",
              "0           0   70172  ...                     18.0  neutral or dissatisfied\n",
              "1           1    5047  ...                      6.0  neutral or dissatisfied\n",
              "2           2  110028  ...                      0.0                satisfied\n",
              "3           3   24026  ...                      9.0  neutral or dissatisfied\n",
              "4           4  119299  ...                      0.0                satisfied\n",
              "\n",
              "[5 rows x 25 columns]"
            ]
          },
          "metadata": {},
          "execution_count": 3
        }
      ]
    },
    {
      "cell_type": "code",
      "metadata": {
        "id": "1d75abaf",
        "colab": {
          "base_uri": "https://localhost:8080/",
          "height": 358
        },
        "outputId": "a7acc1e6-c14a-4e19-9a77-894ec2f41904"
      },
      "source": [
        "df1 = pd.read_csv('/content/drive/MyDrive/Ml Project/airline_test-1.csv')\n",
        "df1.head()"
      ],
      "id": "1d75abaf",
      "execution_count": 4,
      "outputs": [
        {
          "output_type": "execute_result",
          "data": {
            "text/html": [
              "<div>\n",
              "<style scoped>\n",
              "    .dataframe tbody tr th:only-of-type {\n",
              "        vertical-align: middle;\n",
              "    }\n",
              "\n",
              "    .dataframe tbody tr th {\n",
              "        vertical-align: top;\n",
              "    }\n",
              "\n",
              "    .dataframe thead th {\n",
              "        text-align: right;\n",
              "    }\n",
              "</style>\n",
              "<table border=\"1\" class=\"dataframe\">\n",
              "  <thead>\n",
              "    <tr style=\"text-align: right;\">\n",
              "      <th></th>\n",
              "      <th>Unnamed: 0</th>\n",
              "      <th>id</th>\n",
              "      <th>Gender</th>\n",
              "      <th>Customer Type</th>\n",
              "      <th>Age</th>\n",
              "      <th>Type of Travel</th>\n",
              "      <th>Class</th>\n",
              "      <th>Flight Distance</th>\n",
              "      <th>Inflight wifi service</th>\n",
              "      <th>Departure/Arrival time convenient</th>\n",
              "      <th>Ease of Online booking</th>\n",
              "      <th>Gate location</th>\n",
              "      <th>Food and drink</th>\n",
              "      <th>Online boarding</th>\n",
              "      <th>Seat comfort</th>\n",
              "      <th>Inflight entertainment</th>\n",
              "      <th>On-board service</th>\n",
              "      <th>Leg room service</th>\n",
              "      <th>Baggage handling</th>\n",
              "      <th>Checkin service</th>\n",
              "      <th>Inflight service</th>\n",
              "      <th>Cleanliness</th>\n",
              "      <th>Departure Delay in Minutes</th>\n",
              "      <th>Arrival Delay in Minutes</th>\n",
              "      <th>satisfaction</th>\n",
              "    </tr>\n",
              "  </thead>\n",
              "  <tbody>\n",
              "    <tr>\n",
              "      <th>0</th>\n",
              "      <td>0</td>\n",
              "      <td>19556</td>\n",
              "      <td>Female</td>\n",
              "      <td>Loyal Customer</td>\n",
              "      <td>52</td>\n",
              "      <td>Business travel</td>\n",
              "      <td>Eco</td>\n",
              "      <td>160</td>\n",
              "      <td>5</td>\n",
              "      <td>4</td>\n",
              "      <td>3</td>\n",
              "      <td>4</td>\n",
              "      <td>3</td>\n",
              "      <td>4</td>\n",
              "      <td>3</td>\n",
              "      <td>5</td>\n",
              "      <td>5</td>\n",
              "      <td>5</td>\n",
              "      <td>5</td>\n",
              "      <td>2</td>\n",
              "      <td>5</td>\n",
              "      <td>5</td>\n",
              "      <td>50</td>\n",
              "      <td>44.0</td>\n",
              "      <td>satisfied</td>\n",
              "    </tr>\n",
              "    <tr>\n",
              "      <th>1</th>\n",
              "      <td>1</td>\n",
              "      <td>90035</td>\n",
              "      <td>Female</td>\n",
              "      <td>Loyal Customer</td>\n",
              "      <td>36</td>\n",
              "      <td>Business travel</td>\n",
              "      <td>Business</td>\n",
              "      <td>2863</td>\n",
              "      <td>1</td>\n",
              "      <td>1</td>\n",
              "      <td>3</td>\n",
              "      <td>1</td>\n",
              "      <td>5</td>\n",
              "      <td>4</td>\n",
              "      <td>5</td>\n",
              "      <td>4</td>\n",
              "      <td>4</td>\n",
              "      <td>4</td>\n",
              "      <td>4</td>\n",
              "      <td>3</td>\n",
              "      <td>4</td>\n",
              "      <td>5</td>\n",
              "      <td>0</td>\n",
              "      <td>0.0</td>\n",
              "      <td>satisfied</td>\n",
              "    </tr>\n",
              "    <tr>\n",
              "      <th>2</th>\n",
              "      <td>2</td>\n",
              "      <td>12360</td>\n",
              "      <td>Male</td>\n",
              "      <td>disloyal Customer</td>\n",
              "      <td>20</td>\n",
              "      <td>Business travel</td>\n",
              "      <td>Eco</td>\n",
              "      <td>192</td>\n",
              "      <td>2</td>\n",
              "      <td>0</td>\n",
              "      <td>2</td>\n",
              "      <td>4</td>\n",
              "      <td>2</td>\n",
              "      <td>2</td>\n",
              "      <td>2</td>\n",
              "      <td>2</td>\n",
              "      <td>4</td>\n",
              "      <td>1</td>\n",
              "      <td>3</td>\n",
              "      <td>2</td>\n",
              "      <td>2</td>\n",
              "      <td>2</td>\n",
              "      <td>0</td>\n",
              "      <td>0.0</td>\n",
              "      <td>neutral or dissatisfied</td>\n",
              "    </tr>\n",
              "    <tr>\n",
              "      <th>3</th>\n",
              "      <td>3</td>\n",
              "      <td>77959</td>\n",
              "      <td>Male</td>\n",
              "      <td>Loyal Customer</td>\n",
              "      <td>44</td>\n",
              "      <td>Business travel</td>\n",
              "      <td>Business</td>\n",
              "      <td>3377</td>\n",
              "      <td>0</td>\n",
              "      <td>0</td>\n",
              "      <td>0</td>\n",
              "      <td>2</td>\n",
              "      <td>3</td>\n",
              "      <td>4</td>\n",
              "      <td>4</td>\n",
              "      <td>1</td>\n",
              "      <td>1</td>\n",
              "      <td>1</td>\n",
              "      <td>1</td>\n",
              "      <td>3</td>\n",
              "      <td>1</td>\n",
              "      <td>4</td>\n",
              "      <td>0</td>\n",
              "      <td>6.0</td>\n",
              "      <td>satisfied</td>\n",
              "    </tr>\n",
              "    <tr>\n",
              "      <th>4</th>\n",
              "      <td>4</td>\n",
              "      <td>36875</td>\n",
              "      <td>Female</td>\n",
              "      <td>Loyal Customer</td>\n",
              "      <td>49</td>\n",
              "      <td>Business travel</td>\n",
              "      <td>Eco</td>\n",
              "      <td>1182</td>\n",
              "      <td>2</td>\n",
              "      <td>3</td>\n",
              "      <td>4</td>\n",
              "      <td>3</td>\n",
              "      <td>4</td>\n",
              "      <td>1</td>\n",
              "      <td>2</td>\n",
              "      <td>2</td>\n",
              "      <td>2</td>\n",
              "      <td>2</td>\n",
              "      <td>2</td>\n",
              "      <td>4</td>\n",
              "      <td>2</td>\n",
              "      <td>4</td>\n",
              "      <td>0</td>\n",
              "      <td>20.0</td>\n",
              "      <td>satisfied</td>\n",
              "    </tr>\n",
              "  </tbody>\n",
              "</table>\n",
              "</div>"
            ],
            "text/plain": [
              "   Unnamed: 0     id  ... Arrival Delay in Minutes             satisfaction\n",
              "0           0  19556  ...                     44.0                satisfied\n",
              "1           1  90035  ...                      0.0                satisfied\n",
              "2           2  12360  ...                      0.0  neutral or dissatisfied\n",
              "3           3  77959  ...                      6.0                satisfied\n",
              "4           4  36875  ...                     20.0                satisfied\n",
              "\n",
              "[5 rows x 25 columns]"
            ]
          },
          "metadata": {},
          "execution_count": 4
        }
      ]
    },
    {
      "cell_type": "code",
      "metadata": {
        "id": "961916a8",
        "colab": {
          "base_uri": "https://localhost:8080/"
        },
        "outputId": "54a2d909-58f7-403c-c261-ddea6e0f2cba"
      },
      "source": [
        "df.shape"
      ],
      "id": "961916a8",
      "execution_count": 5,
      "outputs": [
        {
          "output_type": "execute_result",
          "data": {
            "text/plain": [
              "(25974, 25)"
            ]
          },
          "metadata": {},
          "execution_count": 5
        }
      ]
    },
    {
      "cell_type": "code",
      "metadata": {
        "id": "0cf2aafc",
        "colab": {
          "base_uri": "https://localhost:8080/"
        },
        "outputId": "5d55c0f6-d19c-42ca-9ba3-9450fb97fb8c"
      },
      "source": [
        "df1.shape"
      ],
      "id": "0cf2aafc",
      "execution_count": 6,
      "outputs": [
        {
          "output_type": "execute_result",
          "data": {
            "text/plain": [
              "(6492, 25)"
            ]
          },
          "metadata": {},
          "execution_count": 6
        }
      ]
    },
    {
      "cell_type": "markdown",
      "metadata": {
        "id": "e484e2e0"
      },
      "source": [
        "#### Converting the output binary class to 0 and 1 in both the test and train sets."
      ],
      "id": "e484e2e0"
    },
    {
      "cell_type": "code",
      "metadata": {
        "id": "f707393b"
      },
      "source": [
        "new_values = []\n",
        "for x in df['satisfaction']:\n",
        "    if (x == 'satisfied'):\n",
        "        new_values.append(1)\n",
        "    else:\n",
        "        new_values.append(0)\n",
        "df['satisfaction'] = new_values"
      ],
      "id": "f707393b",
      "execution_count": 7,
      "outputs": []
    },
    {
      "cell_type": "code",
      "metadata": {
        "id": "c094ad74",
        "colab": {
          "base_uri": "https://localhost:8080/"
        },
        "outputId": "a30994dc-386f-45b6-a5c0-4c9827a25f42"
      },
      "source": [
        "df['satisfaction'].head()"
      ],
      "id": "c094ad74",
      "execution_count": 8,
      "outputs": [
        {
          "output_type": "execute_result",
          "data": {
            "text/plain": [
              "0    0\n",
              "1    0\n",
              "2    1\n",
              "3    0\n",
              "4    1\n",
              "Name: satisfaction, dtype: int64"
            ]
          },
          "metadata": {},
          "execution_count": 8
        }
      ]
    },
    {
      "cell_type": "code",
      "metadata": {
        "id": "ff77ae16"
      },
      "source": [
        "new_values = []\n",
        "for x in df1['satisfaction']:\n",
        "    if (x == 'satisfied'):\n",
        "        new_values.append(1)\n",
        "    else:\n",
        "        new_values.append(0)\n",
        "df1['satisfaction'] = new_values"
      ],
      "id": "ff77ae16",
      "execution_count": 9,
      "outputs": []
    },
    {
      "cell_type": "code",
      "metadata": {
        "id": "97dcc1d9",
        "colab": {
          "base_uri": "https://localhost:8080/"
        },
        "outputId": "156aca28-3dfc-454b-d9d6-742fb236bfe3"
      },
      "source": [
        "df1['satisfaction'].head()"
      ],
      "id": "97dcc1d9",
      "execution_count": 10,
      "outputs": [
        {
          "output_type": "execute_result",
          "data": {
            "text/plain": [
              "0    1\n",
              "1    1\n",
              "2    0\n",
              "3    1\n",
              "4    1\n",
              "Name: satisfaction, dtype: int64"
            ]
          },
          "metadata": {},
          "execution_count": 10
        }
      ]
    },
    {
      "cell_type": "code",
      "metadata": {
        "id": "544fa47d",
        "colab": {
          "base_uri": "https://localhost:8080/",
          "height": 0
        },
        "outputId": "3625e954-5150-4945-fad8-e9733dad3735"
      },
      "source": [
        "df.head()"
      ],
      "id": "544fa47d",
      "execution_count": 11,
      "outputs": [
        {
          "output_type": "execute_result",
          "data": {
            "text/html": [
              "<div>\n",
              "<style scoped>\n",
              "    .dataframe tbody tr th:only-of-type {\n",
              "        vertical-align: middle;\n",
              "    }\n",
              "\n",
              "    .dataframe tbody tr th {\n",
              "        vertical-align: top;\n",
              "    }\n",
              "\n",
              "    .dataframe thead th {\n",
              "        text-align: right;\n",
              "    }\n",
              "</style>\n",
              "<table border=\"1\" class=\"dataframe\">\n",
              "  <thead>\n",
              "    <tr style=\"text-align: right;\">\n",
              "      <th></th>\n",
              "      <th>Unnamed: 0</th>\n",
              "      <th>id</th>\n",
              "      <th>Gender</th>\n",
              "      <th>Customer Type</th>\n",
              "      <th>Age</th>\n",
              "      <th>Type of Travel</th>\n",
              "      <th>Class</th>\n",
              "      <th>Flight Distance</th>\n",
              "      <th>Inflight wifi service</th>\n",
              "      <th>Departure/Arrival time convenient</th>\n",
              "      <th>Ease of Online booking</th>\n",
              "      <th>Gate location</th>\n",
              "      <th>Food and drink</th>\n",
              "      <th>Online boarding</th>\n",
              "      <th>Seat comfort</th>\n",
              "      <th>Inflight entertainment</th>\n",
              "      <th>On-board service</th>\n",
              "      <th>Leg room service</th>\n",
              "      <th>Baggage handling</th>\n",
              "      <th>Checkin service</th>\n",
              "      <th>Inflight service</th>\n",
              "      <th>Cleanliness</th>\n",
              "      <th>Departure Delay in Minutes</th>\n",
              "      <th>Arrival Delay in Minutes</th>\n",
              "      <th>satisfaction</th>\n",
              "    </tr>\n",
              "  </thead>\n",
              "  <tbody>\n",
              "    <tr>\n",
              "      <th>0</th>\n",
              "      <td>0</td>\n",
              "      <td>70172</td>\n",
              "      <td>Male</td>\n",
              "      <td>Loyal Customer</td>\n",
              "      <td>13</td>\n",
              "      <td>Personal Travel</td>\n",
              "      <td>Eco Plus</td>\n",
              "      <td>460</td>\n",
              "      <td>3</td>\n",
              "      <td>4</td>\n",
              "      <td>3</td>\n",
              "      <td>1</td>\n",
              "      <td>5</td>\n",
              "      <td>3</td>\n",
              "      <td>5</td>\n",
              "      <td>5</td>\n",
              "      <td>4</td>\n",
              "      <td>3</td>\n",
              "      <td>4</td>\n",
              "      <td>4</td>\n",
              "      <td>5</td>\n",
              "      <td>5</td>\n",
              "      <td>25</td>\n",
              "      <td>18.0</td>\n",
              "      <td>0</td>\n",
              "    </tr>\n",
              "    <tr>\n",
              "      <th>1</th>\n",
              "      <td>1</td>\n",
              "      <td>5047</td>\n",
              "      <td>Male</td>\n",
              "      <td>disloyal Customer</td>\n",
              "      <td>25</td>\n",
              "      <td>Business travel</td>\n",
              "      <td>Business</td>\n",
              "      <td>235</td>\n",
              "      <td>3</td>\n",
              "      <td>2</td>\n",
              "      <td>3</td>\n",
              "      <td>3</td>\n",
              "      <td>1</td>\n",
              "      <td>3</td>\n",
              "      <td>1</td>\n",
              "      <td>1</td>\n",
              "      <td>1</td>\n",
              "      <td>5</td>\n",
              "      <td>3</td>\n",
              "      <td>1</td>\n",
              "      <td>4</td>\n",
              "      <td>1</td>\n",
              "      <td>1</td>\n",
              "      <td>6.0</td>\n",
              "      <td>0</td>\n",
              "    </tr>\n",
              "    <tr>\n",
              "      <th>2</th>\n",
              "      <td>2</td>\n",
              "      <td>110028</td>\n",
              "      <td>Female</td>\n",
              "      <td>Loyal Customer</td>\n",
              "      <td>26</td>\n",
              "      <td>Business travel</td>\n",
              "      <td>Business</td>\n",
              "      <td>1142</td>\n",
              "      <td>2</td>\n",
              "      <td>2</td>\n",
              "      <td>2</td>\n",
              "      <td>2</td>\n",
              "      <td>5</td>\n",
              "      <td>5</td>\n",
              "      <td>5</td>\n",
              "      <td>5</td>\n",
              "      <td>4</td>\n",
              "      <td>3</td>\n",
              "      <td>4</td>\n",
              "      <td>4</td>\n",
              "      <td>4</td>\n",
              "      <td>5</td>\n",
              "      <td>0</td>\n",
              "      <td>0.0</td>\n",
              "      <td>1</td>\n",
              "    </tr>\n",
              "    <tr>\n",
              "      <th>3</th>\n",
              "      <td>3</td>\n",
              "      <td>24026</td>\n",
              "      <td>Female</td>\n",
              "      <td>Loyal Customer</td>\n",
              "      <td>25</td>\n",
              "      <td>Business travel</td>\n",
              "      <td>Business</td>\n",
              "      <td>562</td>\n",
              "      <td>2</td>\n",
              "      <td>5</td>\n",
              "      <td>5</td>\n",
              "      <td>5</td>\n",
              "      <td>2</td>\n",
              "      <td>2</td>\n",
              "      <td>2</td>\n",
              "      <td>2</td>\n",
              "      <td>2</td>\n",
              "      <td>5</td>\n",
              "      <td>3</td>\n",
              "      <td>1</td>\n",
              "      <td>4</td>\n",
              "      <td>2</td>\n",
              "      <td>11</td>\n",
              "      <td>9.0</td>\n",
              "      <td>0</td>\n",
              "    </tr>\n",
              "    <tr>\n",
              "      <th>4</th>\n",
              "      <td>4</td>\n",
              "      <td>119299</td>\n",
              "      <td>Male</td>\n",
              "      <td>Loyal Customer</td>\n",
              "      <td>61</td>\n",
              "      <td>Business travel</td>\n",
              "      <td>Business</td>\n",
              "      <td>214</td>\n",
              "      <td>3</td>\n",
              "      <td>3</td>\n",
              "      <td>3</td>\n",
              "      <td>3</td>\n",
              "      <td>4</td>\n",
              "      <td>5</td>\n",
              "      <td>5</td>\n",
              "      <td>3</td>\n",
              "      <td>3</td>\n",
              "      <td>4</td>\n",
              "      <td>4</td>\n",
              "      <td>3</td>\n",
              "      <td>3</td>\n",
              "      <td>3</td>\n",
              "      <td>0</td>\n",
              "      <td>0.0</td>\n",
              "      <td>1</td>\n",
              "    </tr>\n",
              "  </tbody>\n",
              "</table>\n",
              "</div>"
            ],
            "text/plain": [
              "   Unnamed: 0      id  ... Arrival Delay in Minutes satisfaction\n",
              "0           0   70172  ...                     18.0            0\n",
              "1           1    5047  ...                      6.0            0\n",
              "2           2  110028  ...                      0.0            1\n",
              "3           3   24026  ...                      9.0            0\n",
              "4           4  119299  ...                      0.0            1\n",
              "\n",
              "[5 rows x 25 columns]"
            ]
          },
          "metadata": {},
          "execution_count": 11
        }
      ]
    },
    {
      "cell_type": "code",
      "metadata": {
        "id": "e7e643ba",
        "colab": {
          "base_uri": "https://localhost:8080/",
          "height": 0
        },
        "outputId": "0b35feed-6666-4a39-ffe2-474d2cf04d9f"
      },
      "source": [
        "df1.head()"
      ],
      "id": "e7e643ba",
      "execution_count": 12,
      "outputs": [
        {
          "output_type": "execute_result",
          "data": {
            "text/html": [
              "<div>\n",
              "<style scoped>\n",
              "    .dataframe tbody tr th:only-of-type {\n",
              "        vertical-align: middle;\n",
              "    }\n",
              "\n",
              "    .dataframe tbody tr th {\n",
              "        vertical-align: top;\n",
              "    }\n",
              "\n",
              "    .dataframe thead th {\n",
              "        text-align: right;\n",
              "    }\n",
              "</style>\n",
              "<table border=\"1\" class=\"dataframe\">\n",
              "  <thead>\n",
              "    <tr style=\"text-align: right;\">\n",
              "      <th></th>\n",
              "      <th>Unnamed: 0</th>\n",
              "      <th>id</th>\n",
              "      <th>Gender</th>\n",
              "      <th>Customer Type</th>\n",
              "      <th>Age</th>\n",
              "      <th>Type of Travel</th>\n",
              "      <th>Class</th>\n",
              "      <th>Flight Distance</th>\n",
              "      <th>Inflight wifi service</th>\n",
              "      <th>Departure/Arrival time convenient</th>\n",
              "      <th>Ease of Online booking</th>\n",
              "      <th>Gate location</th>\n",
              "      <th>Food and drink</th>\n",
              "      <th>Online boarding</th>\n",
              "      <th>Seat comfort</th>\n",
              "      <th>Inflight entertainment</th>\n",
              "      <th>On-board service</th>\n",
              "      <th>Leg room service</th>\n",
              "      <th>Baggage handling</th>\n",
              "      <th>Checkin service</th>\n",
              "      <th>Inflight service</th>\n",
              "      <th>Cleanliness</th>\n",
              "      <th>Departure Delay in Minutes</th>\n",
              "      <th>Arrival Delay in Minutes</th>\n",
              "      <th>satisfaction</th>\n",
              "    </tr>\n",
              "  </thead>\n",
              "  <tbody>\n",
              "    <tr>\n",
              "      <th>0</th>\n",
              "      <td>0</td>\n",
              "      <td>19556</td>\n",
              "      <td>Female</td>\n",
              "      <td>Loyal Customer</td>\n",
              "      <td>52</td>\n",
              "      <td>Business travel</td>\n",
              "      <td>Eco</td>\n",
              "      <td>160</td>\n",
              "      <td>5</td>\n",
              "      <td>4</td>\n",
              "      <td>3</td>\n",
              "      <td>4</td>\n",
              "      <td>3</td>\n",
              "      <td>4</td>\n",
              "      <td>3</td>\n",
              "      <td>5</td>\n",
              "      <td>5</td>\n",
              "      <td>5</td>\n",
              "      <td>5</td>\n",
              "      <td>2</td>\n",
              "      <td>5</td>\n",
              "      <td>5</td>\n",
              "      <td>50</td>\n",
              "      <td>44.0</td>\n",
              "      <td>1</td>\n",
              "    </tr>\n",
              "    <tr>\n",
              "      <th>1</th>\n",
              "      <td>1</td>\n",
              "      <td>90035</td>\n",
              "      <td>Female</td>\n",
              "      <td>Loyal Customer</td>\n",
              "      <td>36</td>\n",
              "      <td>Business travel</td>\n",
              "      <td>Business</td>\n",
              "      <td>2863</td>\n",
              "      <td>1</td>\n",
              "      <td>1</td>\n",
              "      <td>3</td>\n",
              "      <td>1</td>\n",
              "      <td>5</td>\n",
              "      <td>4</td>\n",
              "      <td>5</td>\n",
              "      <td>4</td>\n",
              "      <td>4</td>\n",
              "      <td>4</td>\n",
              "      <td>4</td>\n",
              "      <td>3</td>\n",
              "      <td>4</td>\n",
              "      <td>5</td>\n",
              "      <td>0</td>\n",
              "      <td>0.0</td>\n",
              "      <td>1</td>\n",
              "    </tr>\n",
              "    <tr>\n",
              "      <th>2</th>\n",
              "      <td>2</td>\n",
              "      <td>12360</td>\n",
              "      <td>Male</td>\n",
              "      <td>disloyal Customer</td>\n",
              "      <td>20</td>\n",
              "      <td>Business travel</td>\n",
              "      <td>Eco</td>\n",
              "      <td>192</td>\n",
              "      <td>2</td>\n",
              "      <td>0</td>\n",
              "      <td>2</td>\n",
              "      <td>4</td>\n",
              "      <td>2</td>\n",
              "      <td>2</td>\n",
              "      <td>2</td>\n",
              "      <td>2</td>\n",
              "      <td>4</td>\n",
              "      <td>1</td>\n",
              "      <td>3</td>\n",
              "      <td>2</td>\n",
              "      <td>2</td>\n",
              "      <td>2</td>\n",
              "      <td>0</td>\n",
              "      <td>0.0</td>\n",
              "      <td>0</td>\n",
              "    </tr>\n",
              "    <tr>\n",
              "      <th>3</th>\n",
              "      <td>3</td>\n",
              "      <td>77959</td>\n",
              "      <td>Male</td>\n",
              "      <td>Loyal Customer</td>\n",
              "      <td>44</td>\n",
              "      <td>Business travel</td>\n",
              "      <td>Business</td>\n",
              "      <td>3377</td>\n",
              "      <td>0</td>\n",
              "      <td>0</td>\n",
              "      <td>0</td>\n",
              "      <td>2</td>\n",
              "      <td>3</td>\n",
              "      <td>4</td>\n",
              "      <td>4</td>\n",
              "      <td>1</td>\n",
              "      <td>1</td>\n",
              "      <td>1</td>\n",
              "      <td>1</td>\n",
              "      <td>3</td>\n",
              "      <td>1</td>\n",
              "      <td>4</td>\n",
              "      <td>0</td>\n",
              "      <td>6.0</td>\n",
              "      <td>1</td>\n",
              "    </tr>\n",
              "    <tr>\n",
              "      <th>4</th>\n",
              "      <td>4</td>\n",
              "      <td>36875</td>\n",
              "      <td>Female</td>\n",
              "      <td>Loyal Customer</td>\n",
              "      <td>49</td>\n",
              "      <td>Business travel</td>\n",
              "      <td>Eco</td>\n",
              "      <td>1182</td>\n",
              "      <td>2</td>\n",
              "      <td>3</td>\n",
              "      <td>4</td>\n",
              "      <td>3</td>\n",
              "      <td>4</td>\n",
              "      <td>1</td>\n",
              "      <td>2</td>\n",
              "      <td>2</td>\n",
              "      <td>2</td>\n",
              "      <td>2</td>\n",
              "      <td>2</td>\n",
              "      <td>4</td>\n",
              "      <td>2</td>\n",
              "      <td>4</td>\n",
              "      <td>0</td>\n",
              "      <td>20.0</td>\n",
              "      <td>1</td>\n",
              "    </tr>\n",
              "  </tbody>\n",
              "</table>\n",
              "</div>"
            ],
            "text/plain": [
              "   Unnamed: 0     id  ... Arrival Delay in Minutes satisfaction\n",
              "0           0  19556  ...                     44.0            1\n",
              "1           1  90035  ...                      0.0            1\n",
              "2           2  12360  ...                      0.0            0\n",
              "3           3  77959  ...                      6.0            1\n",
              "4           4  36875  ...                     20.0            1\n",
              "\n",
              "[5 rows x 25 columns]"
            ]
          },
          "metadata": {},
          "execution_count": 12
        }
      ]
    },
    {
      "cell_type": "markdown",
      "metadata": {
        "id": "323c3b57"
      },
      "source": [
        "#### Converting the string features to numeric in both training and testing sets."
      ],
      "id": "323c3b57"
    },
    {
      "cell_type": "code",
      "metadata": {
        "id": "59721bb3",
        "colab": {
          "base_uri": "https://localhost:8080/",
          "height": 0
        },
        "outputId": "44de41b6-8d40-455c-a5f4-3a8506fd4449"
      },
      "source": [
        "df[['satisfaction','Gender']].groupby('Gender').mean()"
      ],
      "id": "59721bb3",
      "execution_count": 13,
      "outputs": [
        {
          "output_type": "execute_result",
          "data": {
            "text/html": [
              "<div>\n",
              "<style scoped>\n",
              "    .dataframe tbody tr th:only-of-type {\n",
              "        vertical-align: middle;\n",
              "    }\n",
              "\n",
              "    .dataframe tbody tr th {\n",
              "        vertical-align: top;\n",
              "    }\n",
              "\n",
              "    .dataframe thead th {\n",
              "        text-align: right;\n",
              "    }\n",
              "</style>\n",
              "<table border=\"1\" class=\"dataframe\">\n",
              "  <thead>\n",
              "    <tr style=\"text-align: right;\">\n",
              "      <th></th>\n",
              "      <th>satisfaction</th>\n",
              "    </tr>\n",
              "    <tr>\n",
              "      <th>Gender</th>\n",
              "      <th></th>\n",
              "    </tr>\n",
              "  </thead>\n",
              "  <tbody>\n",
              "    <tr>\n",
              "      <th>Female</th>\n",
              "      <td>0.432678</td>\n",
              "    </tr>\n",
              "    <tr>\n",
              "      <th>Male</th>\n",
              "      <td>0.442449</td>\n",
              "    </tr>\n",
              "  </tbody>\n",
              "</table>\n",
              "</div>"
            ],
            "text/plain": [
              "        satisfaction\n",
              "Gender              \n",
              "Female      0.432678\n",
              "Male        0.442449"
            ]
          },
          "metadata": {},
          "execution_count": 13
        }
      ]
    },
    {
      "cell_type": "code",
      "metadata": {
        "id": "a976f4d6"
      },
      "source": [
        "l1 = []\n",
        "for x in df['Gender']:\n",
        "    if (x == 'Male'):\n",
        "        l1.append(1)\n",
        "    else:\n",
        "        l1.append(0)\n",
        "df['Gender'] = l1 "
      ],
      "id": "a976f4d6",
      "execution_count": 14,
      "outputs": []
    },
    {
      "cell_type": "code",
      "metadata": {
        "id": "fd78a0f1",
        "colab": {
          "base_uri": "https://localhost:8080/",
          "height": 0
        },
        "outputId": "440a4dda-e6b2-4f3f-84bf-cf16bc7170e9"
      },
      "source": [
        "df1[['satisfaction','Gender']].groupby('Gender').mean()"
      ],
      "id": "fd78a0f1",
      "execution_count": 15,
      "outputs": [
        {
          "output_type": "execute_result",
          "data": {
            "text/html": [
              "<div>\n",
              "<style scoped>\n",
              "    .dataframe tbody tr th:only-of-type {\n",
              "        vertical-align: middle;\n",
              "    }\n",
              "\n",
              "    .dataframe tbody tr th {\n",
              "        vertical-align: top;\n",
              "    }\n",
              "\n",
              "    .dataframe thead th {\n",
              "        text-align: right;\n",
              "    }\n",
              "</style>\n",
              "<table border=\"1\" class=\"dataframe\">\n",
              "  <thead>\n",
              "    <tr style=\"text-align: right;\">\n",
              "      <th></th>\n",
              "      <th>satisfaction</th>\n",
              "    </tr>\n",
              "    <tr>\n",
              "      <th>Gender</th>\n",
              "      <th></th>\n",
              "    </tr>\n",
              "  </thead>\n",
              "  <tbody>\n",
              "    <tr>\n",
              "      <th>Female</th>\n",
              "      <td>0.424102</td>\n",
              "    </tr>\n",
              "    <tr>\n",
              "      <th>Male</th>\n",
              "      <td>0.449449</td>\n",
              "    </tr>\n",
              "  </tbody>\n",
              "</table>\n",
              "</div>"
            ],
            "text/plain": [
              "        satisfaction\n",
              "Gender              \n",
              "Female      0.424102\n",
              "Male        0.449449"
            ]
          },
          "metadata": {},
          "execution_count": 15
        }
      ]
    },
    {
      "cell_type": "code",
      "metadata": {
        "id": "2382b031"
      },
      "source": [
        "l1 = []\n",
        "for x in df1['Gender']:\n",
        "    if (x == 'Male'):\n",
        "        l1.append(1)\n",
        "    else:\n",
        "        l1.append(0)\n",
        "df1['Gender'] = l1 "
      ],
      "id": "2382b031",
      "execution_count": 16,
      "outputs": []
    },
    {
      "cell_type": "code",
      "metadata": {
        "id": "676d7e2e",
        "colab": {
          "base_uri": "https://localhost:8080/",
          "height": 0
        },
        "outputId": "dfb36467-3170-4f79-8629-3243b8058971"
      },
      "source": [
        "df[['satisfaction','Customer Type']].groupby('Customer Type').mean()"
      ],
      "id": "676d7e2e",
      "execution_count": 17,
      "outputs": [
        {
          "output_type": "execute_result",
          "data": {
            "text/html": [
              "<div>\n",
              "<style scoped>\n",
              "    .dataframe tbody tr th:only-of-type {\n",
              "        vertical-align: middle;\n",
              "    }\n",
              "\n",
              "    .dataframe tbody tr th {\n",
              "        vertical-align: top;\n",
              "    }\n",
              "\n",
              "    .dataframe thead th {\n",
              "        text-align: right;\n",
              "    }\n",
              "</style>\n",
              "<table border=\"1\" class=\"dataframe\">\n",
              "  <thead>\n",
              "    <tr style=\"text-align: right;\">\n",
              "      <th></th>\n",
              "      <th>satisfaction</th>\n",
              "    </tr>\n",
              "    <tr>\n",
              "      <th>Customer Type</th>\n",
              "      <th></th>\n",
              "    </tr>\n",
              "  </thead>\n",
              "  <tbody>\n",
              "    <tr>\n",
              "      <th>Loyal Customer</th>\n",
              "      <td>0.480024</td>\n",
              "    </tr>\n",
              "    <tr>\n",
              "      <th>disloyal Customer</th>\n",
              "      <td>0.246030</td>\n",
              "    </tr>\n",
              "  </tbody>\n",
              "</table>\n",
              "</div>"
            ],
            "text/plain": [
              "                   satisfaction\n",
              "Customer Type                  \n",
              "Loyal Customer         0.480024\n",
              "disloyal Customer      0.246030"
            ]
          },
          "metadata": {},
          "execution_count": 17
        }
      ]
    },
    {
      "cell_type": "code",
      "metadata": {
        "id": "aa0d9879"
      },
      "source": [
        "l2 = []\n",
        "for x in df['Customer Type']:\n",
        "    if (x == 'Loyal Customer'):\n",
        "        l2.append(1)\n",
        "    else:\n",
        "        l2.append(0)\n",
        "df['Customer Type'] = l2"
      ],
      "id": "aa0d9879",
      "execution_count": 18,
      "outputs": []
    },
    {
      "cell_type": "code",
      "metadata": {
        "id": "74719fca",
        "colab": {
          "base_uri": "https://localhost:8080/",
          "height": 0
        },
        "outputId": "ae015f77-70e7-41e7-ed6b-8db63344def9"
      },
      "source": [
        "df1[['satisfaction','Customer Type']].groupby('Customer Type').mean()"
      ],
      "id": "74719fca",
      "execution_count": 19,
      "outputs": [
        {
          "output_type": "execute_result",
          "data": {
            "text/html": [
              "<div>\n",
              "<style scoped>\n",
              "    .dataframe tbody tr th:only-of-type {\n",
              "        vertical-align: middle;\n",
              "    }\n",
              "\n",
              "    .dataframe tbody tr th {\n",
              "        vertical-align: top;\n",
              "    }\n",
              "\n",
              "    .dataframe thead th {\n",
              "        text-align: right;\n",
              "    }\n",
              "</style>\n",
              "<table border=\"1\" class=\"dataframe\">\n",
              "  <thead>\n",
              "    <tr style=\"text-align: right;\">\n",
              "      <th></th>\n",
              "      <th>satisfaction</th>\n",
              "    </tr>\n",
              "    <tr>\n",
              "      <th>Customer Type</th>\n",
              "      <th></th>\n",
              "    </tr>\n",
              "  </thead>\n",
              "  <tbody>\n",
              "    <tr>\n",
              "      <th>Loyal Customer</th>\n",
              "      <td>0.481194</td>\n",
              "    </tr>\n",
              "    <tr>\n",
              "      <th>disloyal Customer</th>\n",
              "      <td>0.241465</td>\n",
              "    </tr>\n",
              "  </tbody>\n",
              "</table>\n",
              "</div>"
            ],
            "text/plain": [
              "                   satisfaction\n",
              "Customer Type                  \n",
              "Loyal Customer         0.481194\n",
              "disloyal Customer      0.241465"
            ]
          },
          "metadata": {},
          "execution_count": 19
        }
      ]
    },
    {
      "cell_type": "code",
      "metadata": {
        "id": "97dc90e1"
      },
      "source": [
        "l2 = []\n",
        "for x in df1['Customer Type']:\n",
        "    if (x == 'Loyal Customer'):\n",
        "        l2.append(1)\n",
        "    else:\n",
        "        l2.append(0)\n",
        "df1['Customer Type'] = l2"
      ],
      "id": "97dc90e1",
      "execution_count": 20,
      "outputs": []
    },
    {
      "cell_type": "code",
      "metadata": {
        "id": "41e92f2f",
        "colab": {
          "base_uri": "https://localhost:8080/",
          "height": 0
        },
        "outputId": "7310909c-cbc3-436a-b3e5-59ecf8dcd347"
      },
      "source": [
        "df[['satisfaction','Type of Travel']].groupby('Type of Travel').mean()"
      ],
      "id": "41e92f2f",
      "execution_count": 21,
      "outputs": [
        {
          "output_type": "execute_result",
          "data": {
            "text/html": [
              "<div>\n",
              "<style scoped>\n",
              "    .dataframe tbody tr th:only-of-type {\n",
              "        vertical-align: middle;\n",
              "    }\n",
              "\n",
              "    .dataframe tbody tr th {\n",
              "        vertical-align: top;\n",
              "    }\n",
              "\n",
              "    .dataframe thead th {\n",
              "        text-align: right;\n",
              "    }\n",
              "</style>\n",
              "<table border=\"1\" class=\"dataframe\">\n",
              "  <thead>\n",
              "    <tr style=\"text-align: right;\">\n",
              "      <th></th>\n",
              "      <th>satisfaction</th>\n",
              "    </tr>\n",
              "    <tr>\n",
              "      <th>Type of Travel</th>\n",
              "      <th></th>\n",
              "    </tr>\n",
              "  </thead>\n",
              "  <tbody>\n",
              "    <tr>\n",
              "      <th>Business travel</th>\n",
              "      <td>0.587933</td>\n",
              "    </tr>\n",
              "    <tr>\n",
              "      <th>Personal Travel</th>\n",
              "      <td>0.103914</td>\n",
              "    </tr>\n",
              "  </tbody>\n",
              "</table>\n",
              "</div>"
            ],
            "text/plain": [
              "                 satisfaction\n",
              "Type of Travel               \n",
              "Business travel      0.587933\n",
              "Personal Travel      0.103914"
            ]
          },
          "metadata": {},
          "execution_count": 21
        }
      ]
    },
    {
      "cell_type": "code",
      "metadata": {
        "id": "5ce023db"
      },
      "source": [
        "l3 = []\n",
        "for x in df['Type of Travel']:\n",
        "    if (x == 'Business travel'):\n",
        "        l3.append(1)\n",
        "    else:\n",
        "        l3.append(0)\n",
        "df['Type of Travel'] = l3"
      ],
      "id": "5ce023db",
      "execution_count": 22,
      "outputs": []
    },
    {
      "cell_type": "code",
      "metadata": {
        "id": "9949b694",
        "colab": {
          "base_uri": "https://localhost:8080/",
          "height": 0
        },
        "outputId": "1921a869-7122-4aa4-dcae-fb190637e7a3"
      },
      "source": [
        "df1[['satisfaction','Type of Travel']].groupby('Type of Travel').mean()"
      ],
      "id": "9949b694",
      "execution_count": 23,
      "outputs": [
        {
          "output_type": "execute_result",
          "data": {
            "text/html": [
              "<div>\n",
              "<style scoped>\n",
              "    .dataframe tbody tr th:only-of-type {\n",
              "        vertical-align: middle;\n",
              "    }\n",
              "\n",
              "    .dataframe tbody tr th {\n",
              "        vertical-align: top;\n",
              "    }\n",
              "\n",
              "    .dataframe thead th {\n",
              "        text-align: right;\n",
              "    }\n",
              "</style>\n",
              "<table border=\"1\" class=\"dataframe\">\n",
              "  <thead>\n",
              "    <tr style=\"text-align: right;\">\n",
              "      <th></th>\n",
              "      <th>satisfaction</th>\n",
              "    </tr>\n",
              "    <tr>\n",
              "      <th>Type of Travel</th>\n",
              "      <th></th>\n",
              "    </tr>\n",
              "  </thead>\n",
              "  <tbody>\n",
              "    <tr>\n",
              "      <th>Business travel</th>\n",
              "      <td>0.584049</td>\n",
              "    </tr>\n",
              "    <tr>\n",
              "      <th>Personal Travel</th>\n",
              "      <td>0.094726</td>\n",
              "    </tr>\n",
              "  </tbody>\n",
              "</table>\n",
              "</div>"
            ],
            "text/plain": [
              "                 satisfaction\n",
              "Type of Travel               \n",
              "Business travel      0.584049\n",
              "Personal Travel      0.094726"
            ]
          },
          "metadata": {},
          "execution_count": 23
        }
      ]
    },
    {
      "cell_type": "code",
      "metadata": {
        "id": "9f534aa8"
      },
      "source": [
        "l3 = []\n",
        "for x in df1['Type of Travel']:\n",
        "    if (x == 'Business travel'):\n",
        "        l3.append(1)\n",
        "    else:\n",
        "        l3.append(0)\n",
        "df1['Type of Travel'] = l3"
      ],
      "id": "9f534aa8",
      "execution_count": 24,
      "outputs": []
    },
    {
      "cell_type": "code",
      "metadata": {
        "id": "000559ba",
        "colab": {
          "base_uri": "https://localhost:8080/",
          "height": 0
        },
        "outputId": "688cc491-02b4-4a94-a6f7-2d72525f2269"
      },
      "source": [
        "df[['satisfaction','Class']].groupby('Class').mean()"
      ],
      "id": "000559ba",
      "execution_count": 25,
      "outputs": [
        {
          "output_type": "execute_result",
          "data": {
            "text/html": [
              "<div>\n",
              "<style scoped>\n",
              "    .dataframe tbody tr th:only-of-type {\n",
              "        vertical-align: middle;\n",
              "    }\n",
              "\n",
              "    .dataframe tbody tr th {\n",
              "        vertical-align: top;\n",
              "    }\n",
              "\n",
              "    .dataframe thead th {\n",
              "        text-align: right;\n",
              "    }\n",
              "</style>\n",
              "<table border=\"1\" class=\"dataframe\">\n",
              "  <thead>\n",
              "    <tr style=\"text-align: right;\">\n",
              "      <th></th>\n",
              "      <th>satisfaction</th>\n",
              "    </tr>\n",
              "    <tr>\n",
              "      <th>Class</th>\n",
              "      <th></th>\n",
              "    </tr>\n",
              "  </thead>\n",
              "  <tbody>\n",
              "    <tr>\n",
              "      <th>Business</th>\n",
              "      <td>0.695863</td>\n",
              "    </tr>\n",
              "    <tr>\n",
              "      <th>Eco</th>\n",
              "      <td>0.193375</td>\n",
              "    </tr>\n",
              "    <tr>\n",
              "      <th>Eco Plus</th>\n",
              "      <td>0.257825</td>\n",
              "    </tr>\n",
              "  </tbody>\n",
              "</table>\n",
              "</div>"
            ],
            "text/plain": [
              "          satisfaction\n",
              "Class                 \n",
              "Business      0.695863\n",
              "Eco           0.193375\n",
              "Eco Plus      0.257825"
            ]
          },
          "metadata": {},
          "execution_count": 25
        }
      ]
    },
    {
      "cell_type": "code",
      "metadata": {
        "id": "b94f0e4f"
      },
      "source": [
        "l4 = []\n",
        "for x in df['Class']:\n",
        "    if (x == 'Business'):\n",
        "        l4.append(1)\n",
        "    elif(x == 'Eco'):\n",
        "        l4.append(0)\n",
        "    else:\n",
        "        l4.append(-1)\n",
        "df['Class'] = l4"
      ],
      "id": "b94f0e4f",
      "execution_count": 26,
      "outputs": []
    },
    {
      "cell_type": "code",
      "metadata": {
        "id": "fa0bcace",
        "colab": {
          "base_uri": "https://localhost:8080/",
          "height": 0
        },
        "outputId": "057f5dee-b0be-4b06-d8cd-05838ac2eabf"
      },
      "source": [
        "df1[['satisfaction','Class']].groupby('Class').mean()"
      ],
      "id": "fa0bcace",
      "execution_count": 27,
      "outputs": [
        {
          "output_type": "execute_result",
          "data": {
            "text/html": [
              "<div>\n",
              "<style scoped>\n",
              "    .dataframe tbody tr th:only-of-type {\n",
              "        vertical-align: middle;\n",
              "    }\n",
              "\n",
              "    .dataframe tbody tr th {\n",
              "        vertical-align: top;\n",
              "    }\n",
              "\n",
              "    .dataframe thead th {\n",
              "        text-align: right;\n",
              "    }\n",
              "</style>\n",
              "<table border=\"1\" class=\"dataframe\">\n",
              "  <thead>\n",
              "    <tr style=\"text-align: right;\">\n",
              "      <th></th>\n",
              "      <th>satisfaction</th>\n",
              "    </tr>\n",
              "    <tr>\n",
              "      <th>Class</th>\n",
              "      <th></th>\n",
              "    </tr>\n",
              "  </thead>\n",
              "  <tbody>\n",
              "    <tr>\n",
              "      <th>Business</th>\n",
              "      <td>0.691496</td>\n",
              "    </tr>\n",
              "    <tr>\n",
              "      <th>Eco</th>\n",
              "      <td>0.189255</td>\n",
              "    </tr>\n",
              "    <tr>\n",
              "      <th>Eco Plus</th>\n",
              "      <td>0.265136</td>\n",
              "    </tr>\n",
              "  </tbody>\n",
              "</table>\n",
              "</div>"
            ],
            "text/plain": [
              "          satisfaction\n",
              "Class                 \n",
              "Business      0.691496\n",
              "Eco           0.189255\n",
              "Eco Plus      0.265136"
            ]
          },
          "metadata": {},
          "execution_count": 27
        }
      ]
    },
    {
      "cell_type": "code",
      "metadata": {
        "id": "b7255159"
      },
      "source": [
        "l4 = []\n",
        "for x in df1['Class']:\n",
        "    if (x == 'Business'):\n",
        "        l4.append(1)\n",
        "    elif(x == 'Eco'):\n",
        "        l4.append(0)\n",
        "    else:\n",
        "        l4.append(-1)\n",
        "df1['Class'] = l4"
      ],
      "id": "b7255159",
      "execution_count": 28,
      "outputs": []
    },
    {
      "cell_type": "markdown",
      "metadata": {
        "id": "b59cab43"
      },
      "source": [
        "### Dropping unwanted columns"
      ],
      "id": "b59cab43"
    },
    {
      "cell_type": "code",
      "metadata": {
        "id": "782dfb23"
      },
      "source": [
        "df2 = df.drop('Unnamed: 0', axis=1)"
      ],
      "id": "782dfb23",
      "execution_count": 44,
      "outputs": []
    },
    {
      "cell_type": "code",
      "metadata": {
        "id": "51c449a0"
      },
      "source": [
        "df3 = df1.drop('Unnamed: 0', axis=1)"
      ],
      "id": "51c449a0",
      "execution_count": 45,
      "outputs": []
    },
    {
      "cell_type": "code",
      "metadata": {
        "id": "c1f6980b"
      },
      "source": [
        "df2 = df2.drop('id', axis=1)"
      ],
      "id": "c1f6980b",
      "execution_count": 46,
      "outputs": []
    },
    {
      "cell_type": "code",
      "metadata": {
        "id": "fb13936c"
      },
      "source": [
        "df3 = df3.drop('id', axis=1)"
      ],
      "id": "fb13936c",
      "execution_count": 47,
      "outputs": []
    },
    {
      "cell_type": "code",
      "metadata": {
        "id": "a1bc459b",
        "colab": {
          "base_uri": "https://localhost:8080/",
          "height": 0
        },
        "outputId": "7ad641cb-6f08-4bdd-dd4c-6bc783281ade"
      },
      "source": [
        "df2.head()"
      ],
      "id": "a1bc459b",
      "execution_count": 48,
      "outputs": [
        {
          "output_type": "execute_result",
          "data": {
            "text/html": [
              "<div>\n",
              "<style scoped>\n",
              "    .dataframe tbody tr th:only-of-type {\n",
              "        vertical-align: middle;\n",
              "    }\n",
              "\n",
              "    .dataframe tbody tr th {\n",
              "        vertical-align: top;\n",
              "    }\n",
              "\n",
              "    .dataframe thead th {\n",
              "        text-align: right;\n",
              "    }\n",
              "</style>\n",
              "<table border=\"1\" class=\"dataframe\">\n",
              "  <thead>\n",
              "    <tr style=\"text-align: right;\">\n",
              "      <th></th>\n",
              "      <th>Gender</th>\n",
              "      <th>Customer Type</th>\n",
              "      <th>Age</th>\n",
              "      <th>Type of Travel</th>\n",
              "      <th>Class</th>\n",
              "      <th>Flight Distance</th>\n",
              "      <th>Inflight wifi service</th>\n",
              "      <th>Departure/Arrival time convenient</th>\n",
              "      <th>Ease of Online booking</th>\n",
              "      <th>Gate location</th>\n",
              "      <th>Food and drink</th>\n",
              "      <th>Online boarding</th>\n",
              "      <th>Seat comfort</th>\n",
              "      <th>Inflight entertainment</th>\n",
              "      <th>On-board service</th>\n",
              "      <th>Leg room service</th>\n",
              "      <th>Baggage handling</th>\n",
              "      <th>Checkin service</th>\n",
              "      <th>Inflight service</th>\n",
              "      <th>Cleanliness</th>\n",
              "      <th>Departure Delay in Minutes</th>\n",
              "      <th>Arrival Delay in Minutes</th>\n",
              "      <th>satisfaction</th>\n",
              "    </tr>\n",
              "  </thead>\n",
              "  <tbody>\n",
              "    <tr>\n",
              "      <th>0</th>\n",
              "      <td>1</td>\n",
              "      <td>1</td>\n",
              "      <td>13</td>\n",
              "      <td>0</td>\n",
              "      <td>-1</td>\n",
              "      <td>460</td>\n",
              "      <td>3</td>\n",
              "      <td>4</td>\n",
              "      <td>3</td>\n",
              "      <td>1</td>\n",
              "      <td>5</td>\n",
              "      <td>3</td>\n",
              "      <td>5</td>\n",
              "      <td>5</td>\n",
              "      <td>4</td>\n",
              "      <td>3</td>\n",
              "      <td>4</td>\n",
              "      <td>4</td>\n",
              "      <td>5</td>\n",
              "      <td>5</td>\n",
              "      <td>25</td>\n",
              "      <td>18.0</td>\n",
              "      <td>0</td>\n",
              "    </tr>\n",
              "    <tr>\n",
              "      <th>1</th>\n",
              "      <td>1</td>\n",
              "      <td>0</td>\n",
              "      <td>25</td>\n",
              "      <td>1</td>\n",
              "      <td>1</td>\n",
              "      <td>235</td>\n",
              "      <td>3</td>\n",
              "      <td>2</td>\n",
              "      <td>3</td>\n",
              "      <td>3</td>\n",
              "      <td>1</td>\n",
              "      <td>3</td>\n",
              "      <td>1</td>\n",
              "      <td>1</td>\n",
              "      <td>1</td>\n",
              "      <td>5</td>\n",
              "      <td>3</td>\n",
              "      <td>1</td>\n",
              "      <td>4</td>\n",
              "      <td>1</td>\n",
              "      <td>1</td>\n",
              "      <td>6.0</td>\n",
              "      <td>0</td>\n",
              "    </tr>\n",
              "    <tr>\n",
              "      <th>2</th>\n",
              "      <td>0</td>\n",
              "      <td>1</td>\n",
              "      <td>26</td>\n",
              "      <td>1</td>\n",
              "      <td>1</td>\n",
              "      <td>1142</td>\n",
              "      <td>2</td>\n",
              "      <td>2</td>\n",
              "      <td>2</td>\n",
              "      <td>2</td>\n",
              "      <td>5</td>\n",
              "      <td>5</td>\n",
              "      <td>5</td>\n",
              "      <td>5</td>\n",
              "      <td>4</td>\n",
              "      <td>3</td>\n",
              "      <td>4</td>\n",
              "      <td>4</td>\n",
              "      <td>4</td>\n",
              "      <td>5</td>\n",
              "      <td>0</td>\n",
              "      <td>0.0</td>\n",
              "      <td>1</td>\n",
              "    </tr>\n",
              "    <tr>\n",
              "      <th>3</th>\n",
              "      <td>0</td>\n",
              "      <td>1</td>\n",
              "      <td>25</td>\n",
              "      <td>1</td>\n",
              "      <td>1</td>\n",
              "      <td>562</td>\n",
              "      <td>2</td>\n",
              "      <td>5</td>\n",
              "      <td>5</td>\n",
              "      <td>5</td>\n",
              "      <td>2</td>\n",
              "      <td>2</td>\n",
              "      <td>2</td>\n",
              "      <td>2</td>\n",
              "      <td>2</td>\n",
              "      <td>5</td>\n",
              "      <td>3</td>\n",
              "      <td>1</td>\n",
              "      <td>4</td>\n",
              "      <td>2</td>\n",
              "      <td>11</td>\n",
              "      <td>9.0</td>\n",
              "      <td>0</td>\n",
              "    </tr>\n",
              "    <tr>\n",
              "      <th>4</th>\n",
              "      <td>1</td>\n",
              "      <td>1</td>\n",
              "      <td>61</td>\n",
              "      <td>1</td>\n",
              "      <td>1</td>\n",
              "      <td>214</td>\n",
              "      <td>3</td>\n",
              "      <td>3</td>\n",
              "      <td>3</td>\n",
              "      <td>3</td>\n",
              "      <td>4</td>\n",
              "      <td>5</td>\n",
              "      <td>5</td>\n",
              "      <td>3</td>\n",
              "      <td>3</td>\n",
              "      <td>4</td>\n",
              "      <td>4</td>\n",
              "      <td>3</td>\n",
              "      <td>3</td>\n",
              "      <td>3</td>\n",
              "      <td>0</td>\n",
              "      <td>0.0</td>\n",
              "      <td>1</td>\n",
              "    </tr>\n",
              "  </tbody>\n",
              "</table>\n",
              "</div>"
            ],
            "text/plain": [
              "   Gender  Customer Type  ...  Arrival Delay in Minutes  satisfaction\n",
              "0       1              1  ...                      18.0             0\n",
              "1       1              0  ...                       6.0             0\n",
              "2       0              1  ...                       0.0             1\n",
              "3       0              1  ...                       9.0             0\n",
              "4       1              1  ...                       0.0             1\n",
              "\n",
              "[5 rows x 23 columns]"
            ]
          },
          "metadata": {},
          "execution_count": 48
        }
      ]
    },
    {
      "cell_type": "code",
      "metadata": {
        "id": "c1b90988",
        "colab": {
          "base_uri": "https://localhost:8080/",
          "height": 0
        },
        "outputId": "7425bb2a-e795-4dbe-83a0-df153646a5b9"
      },
      "source": [
        "df3.head()"
      ],
      "id": "c1b90988",
      "execution_count": 49,
      "outputs": [
        {
          "output_type": "execute_result",
          "data": {
            "text/html": [
              "<div>\n",
              "<style scoped>\n",
              "    .dataframe tbody tr th:only-of-type {\n",
              "        vertical-align: middle;\n",
              "    }\n",
              "\n",
              "    .dataframe tbody tr th {\n",
              "        vertical-align: top;\n",
              "    }\n",
              "\n",
              "    .dataframe thead th {\n",
              "        text-align: right;\n",
              "    }\n",
              "</style>\n",
              "<table border=\"1\" class=\"dataframe\">\n",
              "  <thead>\n",
              "    <tr style=\"text-align: right;\">\n",
              "      <th></th>\n",
              "      <th>Gender</th>\n",
              "      <th>Customer Type</th>\n",
              "      <th>Age</th>\n",
              "      <th>Type of Travel</th>\n",
              "      <th>Class</th>\n",
              "      <th>Flight Distance</th>\n",
              "      <th>Inflight wifi service</th>\n",
              "      <th>Departure/Arrival time convenient</th>\n",
              "      <th>Ease of Online booking</th>\n",
              "      <th>Gate location</th>\n",
              "      <th>Food and drink</th>\n",
              "      <th>Online boarding</th>\n",
              "      <th>Seat comfort</th>\n",
              "      <th>Inflight entertainment</th>\n",
              "      <th>On-board service</th>\n",
              "      <th>Leg room service</th>\n",
              "      <th>Baggage handling</th>\n",
              "      <th>Checkin service</th>\n",
              "      <th>Inflight service</th>\n",
              "      <th>Cleanliness</th>\n",
              "      <th>Departure Delay in Minutes</th>\n",
              "      <th>Arrival Delay in Minutes</th>\n",
              "      <th>satisfaction</th>\n",
              "    </tr>\n",
              "  </thead>\n",
              "  <tbody>\n",
              "    <tr>\n",
              "      <th>0</th>\n",
              "      <td>0</td>\n",
              "      <td>1</td>\n",
              "      <td>52</td>\n",
              "      <td>1</td>\n",
              "      <td>0</td>\n",
              "      <td>160</td>\n",
              "      <td>5</td>\n",
              "      <td>4</td>\n",
              "      <td>3</td>\n",
              "      <td>4</td>\n",
              "      <td>3</td>\n",
              "      <td>4</td>\n",
              "      <td>3</td>\n",
              "      <td>5</td>\n",
              "      <td>5</td>\n",
              "      <td>5</td>\n",
              "      <td>5</td>\n",
              "      <td>2</td>\n",
              "      <td>5</td>\n",
              "      <td>5</td>\n",
              "      <td>50</td>\n",
              "      <td>44.0</td>\n",
              "      <td>1</td>\n",
              "    </tr>\n",
              "    <tr>\n",
              "      <th>1</th>\n",
              "      <td>0</td>\n",
              "      <td>1</td>\n",
              "      <td>36</td>\n",
              "      <td>1</td>\n",
              "      <td>1</td>\n",
              "      <td>2863</td>\n",
              "      <td>1</td>\n",
              "      <td>1</td>\n",
              "      <td>3</td>\n",
              "      <td>1</td>\n",
              "      <td>5</td>\n",
              "      <td>4</td>\n",
              "      <td>5</td>\n",
              "      <td>4</td>\n",
              "      <td>4</td>\n",
              "      <td>4</td>\n",
              "      <td>4</td>\n",
              "      <td>3</td>\n",
              "      <td>4</td>\n",
              "      <td>5</td>\n",
              "      <td>0</td>\n",
              "      <td>0.0</td>\n",
              "      <td>1</td>\n",
              "    </tr>\n",
              "    <tr>\n",
              "      <th>2</th>\n",
              "      <td>1</td>\n",
              "      <td>0</td>\n",
              "      <td>20</td>\n",
              "      <td>1</td>\n",
              "      <td>0</td>\n",
              "      <td>192</td>\n",
              "      <td>2</td>\n",
              "      <td>0</td>\n",
              "      <td>2</td>\n",
              "      <td>4</td>\n",
              "      <td>2</td>\n",
              "      <td>2</td>\n",
              "      <td>2</td>\n",
              "      <td>2</td>\n",
              "      <td>4</td>\n",
              "      <td>1</td>\n",
              "      <td>3</td>\n",
              "      <td>2</td>\n",
              "      <td>2</td>\n",
              "      <td>2</td>\n",
              "      <td>0</td>\n",
              "      <td>0.0</td>\n",
              "      <td>0</td>\n",
              "    </tr>\n",
              "    <tr>\n",
              "      <th>3</th>\n",
              "      <td>1</td>\n",
              "      <td>1</td>\n",
              "      <td>44</td>\n",
              "      <td>1</td>\n",
              "      <td>1</td>\n",
              "      <td>3377</td>\n",
              "      <td>0</td>\n",
              "      <td>0</td>\n",
              "      <td>0</td>\n",
              "      <td>2</td>\n",
              "      <td>3</td>\n",
              "      <td>4</td>\n",
              "      <td>4</td>\n",
              "      <td>1</td>\n",
              "      <td>1</td>\n",
              "      <td>1</td>\n",
              "      <td>1</td>\n",
              "      <td>3</td>\n",
              "      <td>1</td>\n",
              "      <td>4</td>\n",
              "      <td>0</td>\n",
              "      <td>6.0</td>\n",
              "      <td>1</td>\n",
              "    </tr>\n",
              "    <tr>\n",
              "      <th>4</th>\n",
              "      <td>0</td>\n",
              "      <td>1</td>\n",
              "      <td>49</td>\n",
              "      <td>1</td>\n",
              "      <td>0</td>\n",
              "      <td>1182</td>\n",
              "      <td>2</td>\n",
              "      <td>3</td>\n",
              "      <td>4</td>\n",
              "      <td>3</td>\n",
              "      <td>4</td>\n",
              "      <td>1</td>\n",
              "      <td>2</td>\n",
              "      <td>2</td>\n",
              "      <td>2</td>\n",
              "      <td>2</td>\n",
              "      <td>2</td>\n",
              "      <td>4</td>\n",
              "      <td>2</td>\n",
              "      <td>4</td>\n",
              "      <td>0</td>\n",
              "      <td>20.0</td>\n",
              "      <td>1</td>\n",
              "    </tr>\n",
              "  </tbody>\n",
              "</table>\n",
              "</div>"
            ],
            "text/plain": [
              "   Gender  Customer Type  ...  Arrival Delay in Minutes  satisfaction\n",
              "0       0              1  ...                      44.0             1\n",
              "1       0              1  ...                       0.0             1\n",
              "2       1              0  ...                       0.0             0\n",
              "3       1              1  ...                       6.0             1\n",
              "4       0              1  ...                      20.0             1\n",
              "\n",
              "[5 rows x 23 columns]"
            ]
          },
          "metadata": {},
          "execution_count": 49
        }
      ]
    },
    {
      "cell_type": "code",
      "metadata": {
        "id": "f99cb5a9",
        "colab": {
          "base_uri": "https://localhost:8080/",
          "height": 0
        },
        "outputId": "988d0543-60c9-43a5-e94c-85d2b01ad30d"
      },
      "source": [
        "df1.head()"
      ],
      "id": "f99cb5a9",
      "execution_count": 50,
      "outputs": [
        {
          "output_type": "execute_result",
          "data": {
            "text/html": [
              "<div>\n",
              "<style scoped>\n",
              "    .dataframe tbody tr th:only-of-type {\n",
              "        vertical-align: middle;\n",
              "    }\n",
              "\n",
              "    .dataframe tbody tr th {\n",
              "        vertical-align: top;\n",
              "    }\n",
              "\n",
              "    .dataframe thead th {\n",
              "        text-align: right;\n",
              "    }\n",
              "</style>\n",
              "<table border=\"1\" class=\"dataframe\">\n",
              "  <thead>\n",
              "    <tr style=\"text-align: right;\">\n",
              "      <th></th>\n",
              "      <th>Unnamed: 0</th>\n",
              "      <th>id</th>\n",
              "      <th>Gender</th>\n",
              "      <th>Customer Type</th>\n",
              "      <th>Age</th>\n",
              "      <th>Type of Travel</th>\n",
              "      <th>Class</th>\n",
              "      <th>Flight Distance</th>\n",
              "      <th>Inflight wifi service</th>\n",
              "      <th>Departure/Arrival time convenient</th>\n",
              "      <th>Ease of Online booking</th>\n",
              "      <th>Gate location</th>\n",
              "      <th>Food and drink</th>\n",
              "      <th>Online boarding</th>\n",
              "      <th>Seat comfort</th>\n",
              "      <th>Inflight entertainment</th>\n",
              "      <th>On-board service</th>\n",
              "      <th>Leg room service</th>\n",
              "      <th>Baggage handling</th>\n",
              "      <th>Checkin service</th>\n",
              "      <th>Inflight service</th>\n",
              "      <th>Cleanliness</th>\n",
              "      <th>Departure Delay in Minutes</th>\n",
              "      <th>Arrival Delay in Minutes</th>\n",
              "      <th>satisfaction</th>\n",
              "    </tr>\n",
              "  </thead>\n",
              "  <tbody>\n",
              "    <tr>\n",
              "      <th>0</th>\n",
              "      <td>0</td>\n",
              "      <td>19556</td>\n",
              "      <td>0</td>\n",
              "      <td>1</td>\n",
              "      <td>52</td>\n",
              "      <td>1</td>\n",
              "      <td>0</td>\n",
              "      <td>160</td>\n",
              "      <td>5</td>\n",
              "      <td>4</td>\n",
              "      <td>3</td>\n",
              "      <td>4</td>\n",
              "      <td>3</td>\n",
              "      <td>4</td>\n",
              "      <td>3</td>\n",
              "      <td>5</td>\n",
              "      <td>5</td>\n",
              "      <td>5</td>\n",
              "      <td>5</td>\n",
              "      <td>2</td>\n",
              "      <td>5</td>\n",
              "      <td>5</td>\n",
              "      <td>50</td>\n",
              "      <td>44.0</td>\n",
              "      <td>1</td>\n",
              "    </tr>\n",
              "    <tr>\n",
              "      <th>1</th>\n",
              "      <td>1</td>\n",
              "      <td>90035</td>\n",
              "      <td>0</td>\n",
              "      <td>1</td>\n",
              "      <td>36</td>\n",
              "      <td>1</td>\n",
              "      <td>1</td>\n",
              "      <td>2863</td>\n",
              "      <td>1</td>\n",
              "      <td>1</td>\n",
              "      <td>3</td>\n",
              "      <td>1</td>\n",
              "      <td>5</td>\n",
              "      <td>4</td>\n",
              "      <td>5</td>\n",
              "      <td>4</td>\n",
              "      <td>4</td>\n",
              "      <td>4</td>\n",
              "      <td>4</td>\n",
              "      <td>3</td>\n",
              "      <td>4</td>\n",
              "      <td>5</td>\n",
              "      <td>0</td>\n",
              "      <td>0.0</td>\n",
              "      <td>1</td>\n",
              "    </tr>\n",
              "    <tr>\n",
              "      <th>2</th>\n",
              "      <td>2</td>\n",
              "      <td>12360</td>\n",
              "      <td>1</td>\n",
              "      <td>0</td>\n",
              "      <td>20</td>\n",
              "      <td>1</td>\n",
              "      <td>0</td>\n",
              "      <td>192</td>\n",
              "      <td>2</td>\n",
              "      <td>0</td>\n",
              "      <td>2</td>\n",
              "      <td>4</td>\n",
              "      <td>2</td>\n",
              "      <td>2</td>\n",
              "      <td>2</td>\n",
              "      <td>2</td>\n",
              "      <td>4</td>\n",
              "      <td>1</td>\n",
              "      <td>3</td>\n",
              "      <td>2</td>\n",
              "      <td>2</td>\n",
              "      <td>2</td>\n",
              "      <td>0</td>\n",
              "      <td>0.0</td>\n",
              "      <td>0</td>\n",
              "    </tr>\n",
              "    <tr>\n",
              "      <th>3</th>\n",
              "      <td>3</td>\n",
              "      <td>77959</td>\n",
              "      <td>1</td>\n",
              "      <td>1</td>\n",
              "      <td>44</td>\n",
              "      <td>1</td>\n",
              "      <td>1</td>\n",
              "      <td>3377</td>\n",
              "      <td>0</td>\n",
              "      <td>0</td>\n",
              "      <td>0</td>\n",
              "      <td>2</td>\n",
              "      <td>3</td>\n",
              "      <td>4</td>\n",
              "      <td>4</td>\n",
              "      <td>1</td>\n",
              "      <td>1</td>\n",
              "      <td>1</td>\n",
              "      <td>1</td>\n",
              "      <td>3</td>\n",
              "      <td>1</td>\n",
              "      <td>4</td>\n",
              "      <td>0</td>\n",
              "      <td>6.0</td>\n",
              "      <td>1</td>\n",
              "    </tr>\n",
              "    <tr>\n",
              "      <th>4</th>\n",
              "      <td>4</td>\n",
              "      <td>36875</td>\n",
              "      <td>0</td>\n",
              "      <td>1</td>\n",
              "      <td>49</td>\n",
              "      <td>1</td>\n",
              "      <td>0</td>\n",
              "      <td>1182</td>\n",
              "      <td>2</td>\n",
              "      <td>3</td>\n",
              "      <td>4</td>\n",
              "      <td>3</td>\n",
              "      <td>4</td>\n",
              "      <td>1</td>\n",
              "      <td>2</td>\n",
              "      <td>2</td>\n",
              "      <td>2</td>\n",
              "      <td>2</td>\n",
              "      <td>2</td>\n",
              "      <td>4</td>\n",
              "      <td>2</td>\n",
              "      <td>4</td>\n",
              "      <td>0</td>\n",
              "      <td>20.0</td>\n",
              "      <td>1</td>\n",
              "    </tr>\n",
              "  </tbody>\n",
              "</table>\n",
              "</div>"
            ],
            "text/plain": [
              "   Unnamed: 0     id  ...  Arrival Delay in Minutes  satisfaction\n",
              "0           0  19556  ...                      44.0             1\n",
              "1           1  90035  ...                       0.0             1\n",
              "2           2  12360  ...                       0.0             0\n",
              "3           3  77959  ...                       6.0             1\n",
              "4           4  36875  ...                      20.0             1\n",
              "\n",
              "[5 rows x 25 columns]"
            ]
          },
          "metadata": {},
          "execution_count": 50
        }
      ]
    },
    {
      "cell_type": "markdown",
      "metadata": {
        "id": "3e50cb9d"
      },
      "source": [
        "### Imputing Missing values"
      ],
      "id": "3e50cb9d"
    },
    {
      "cell_type": "code",
      "metadata": {
        "id": "f4001ffd",
        "colab": {
          "base_uri": "https://localhost:8080/"
        },
        "outputId": "72b632db-ccf6-40e9-ade1-07719a444070"
      },
      "source": [
        "df2.info()"
      ],
      "id": "f4001ffd",
      "execution_count": 51,
      "outputs": [
        {
          "output_type": "stream",
          "name": "stdout",
          "text": [
            "<class 'pandas.core.frame.DataFrame'>\n",
            "RangeIndex: 25974 entries, 0 to 25973\n",
            "Data columns (total 23 columns):\n",
            " #   Column                             Non-Null Count  Dtype  \n",
            "---  ------                             --------------  -----  \n",
            " 0   Gender                             25974 non-null  int64  \n",
            " 1   Customer Type                      25974 non-null  int64  \n",
            " 2   Age                                25974 non-null  int64  \n",
            " 3   Type of Travel                     25974 non-null  int64  \n",
            " 4   Class                              25974 non-null  int64  \n",
            " 5   Flight Distance                    25974 non-null  int64  \n",
            " 6   Inflight wifi service              25974 non-null  int64  \n",
            " 7   Departure/Arrival time convenient  25974 non-null  int64  \n",
            " 8   Ease of Online booking             25974 non-null  int64  \n",
            " 9   Gate location                      25974 non-null  int64  \n",
            " 10  Food and drink                     25974 non-null  int64  \n",
            " 11  Online boarding                    25974 non-null  int64  \n",
            " 12  Seat comfort                       25974 non-null  int64  \n",
            " 13  Inflight entertainment             25974 non-null  int64  \n",
            " 14  On-board service                   25974 non-null  int64  \n",
            " 15  Leg room service                   25974 non-null  int64  \n",
            " 16  Baggage handling                   25974 non-null  int64  \n",
            " 17  Checkin service                    25974 non-null  int64  \n",
            " 18  Inflight service                   25974 non-null  int64  \n",
            " 19  Cleanliness                        25974 non-null  int64  \n",
            " 20  Departure Delay in Minutes         25974 non-null  int64  \n",
            " 21  Arrival Delay in Minutes           25912 non-null  float64\n",
            " 22  satisfaction                       25974 non-null  int64  \n",
            "dtypes: float64(1), int64(22)\n",
            "memory usage: 4.6 MB\n"
          ]
        }
      ]
    },
    {
      "cell_type": "code",
      "metadata": {
        "id": "191552ae",
        "colab": {
          "base_uri": "https://localhost:8080/"
        },
        "outputId": "cb5ef0df-24b9-4bbb-9423-9824d2950515"
      },
      "source": [
        "df2.isnull().sum()"
      ],
      "id": "191552ae",
      "execution_count": 52,
      "outputs": [
        {
          "output_type": "execute_result",
          "data": {
            "text/plain": [
              "Gender                                0\n",
              "Customer Type                         0\n",
              "Age                                   0\n",
              "Type of Travel                        0\n",
              "Class                                 0\n",
              "Flight Distance                       0\n",
              "Inflight wifi service                 0\n",
              "Departure/Arrival time convenient     0\n",
              "Ease of Online booking                0\n",
              "Gate location                         0\n",
              "Food and drink                        0\n",
              "Online boarding                       0\n",
              "Seat comfort                          0\n",
              "Inflight entertainment                0\n",
              "On-board service                      0\n",
              "Leg room service                      0\n",
              "Baggage handling                      0\n",
              "Checkin service                       0\n",
              "Inflight service                      0\n",
              "Cleanliness                           0\n",
              "Departure Delay in Minutes            0\n",
              "Arrival Delay in Minutes             62\n",
              "satisfaction                          0\n",
              "dtype: int64"
            ]
          },
          "metadata": {},
          "execution_count": 52
        }
      ]
    },
    {
      "cell_type": "code",
      "metadata": {
        "id": "91b0e72f"
      },
      "source": [
        "# Replacing the null values with the the mean of all the remaining values\n",
        "df2['Arrival Delay in Minutes'].fillna(df2['Arrival Delay in Minutes'].mean(), inplace=True)"
      ],
      "id": "91b0e72f",
      "execution_count": 53,
      "outputs": []
    },
    {
      "cell_type": "code",
      "metadata": {
        "id": "0a27c237",
        "colab": {
          "base_uri": "https://localhost:8080/"
        },
        "outputId": "1a940f50-f7ee-4940-c464-592b2a68bcde"
      },
      "source": [
        "df2.info()"
      ],
      "id": "0a27c237",
      "execution_count": 54,
      "outputs": [
        {
          "output_type": "stream",
          "name": "stdout",
          "text": [
            "<class 'pandas.core.frame.DataFrame'>\n",
            "RangeIndex: 25974 entries, 0 to 25973\n",
            "Data columns (total 23 columns):\n",
            " #   Column                             Non-Null Count  Dtype  \n",
            "---  ------                             --------------  -----  \n",
            " 0   Gender                             25974 non-null  int64  \n",
            " 1   Customer Type                      25974 non-null  int64  \n",
            " 2   Age                                25974 non-null  int64  \n",
            " 3   Type of Travel                     25974 non-null  int64  \n",
            " 4   Class                              25974 non-null  int64  \n",
            " 5   Flight Distance                    25974 non-null  int64  \n",
            " 6   Inflight wifi service              25974 non-null  int64  \n",
            " 7   Departure/Arrival time convenient  25974 non-null  int64  \n",
            " 8   Ease of Online booking             25974 non-null  int64  \n",
            " 9   Gate location                      25974 non-null  int64  \n",
            " 10  Food and drink                     25974 non-null  int64  \n",
            " 11  Online boarding                    25974 non-null  int64  \n",
            " 12  Seat comfort                       25974 non-null  int64  \n",
            " 13  Inflight entertainment             25974 non-null  int64  \n",
            " 14  On-board service                   25974 non-null  int64  \n",
            " 15  Leg room service                   25974 non-null  int64  \n",
            " 16  Baggage handling                   25974 non-null  int64  \n",
            " 17  Checkin service                    25974 non-null  int64  \n",
            " 18  Inflight service                   25974 non-null  int64  \n",
            " 19  Cleanliness                        25974 non-null  int64  \n",
            " 20  Departure Delay in Minutes         25974 non-null  int64  \n",
            " 21  Arrival Delay in Minutes           25974 non-null  float64\n",
            " 22  satisfaction                       25974 non-null  int64  \n",
            "dtypes: float64(1), int64(22)\n",
            "memory usage: 4.6 MB\n"
          ]
        }
      ]
    },
    {
      "cell_type": "code",
      "metadata": {
        "id": "76325a0d",
        "colab": {
          "base_uri": "https://localhost:8080/"
        },
        "outputId": "5b65483a-f795-4312-f83e-0fdd921fc498"
      },
      "source": [
        "df3.info()"
      ],
      "id": "76325a0d",
      "execution_count": 55,
      "outputs": [
        {
          "output_type": "stream",
          "name": "stdout",
          "text": [
            "<class 'pandas.core.frame.DataFrame'>\n",
            "RangeIndex: 6492 entries, 0 to 6491\n",
            "Data columns (total 23 columns):\n",
            " #   Column                             Non-Null Count  Dtype  \n",
            "---  ------                             --------------  -----  \n",
            " 0   Gender                             6492 non-null   int64  \n",
            " 1   Customer Type                      6492 non-null   int64  \n",
            " 2   Age                                6492 non-null   int64  \n",
            " 3   Type of Travel                     6492 non-null   int64  \n",
            " 4   Class                              6492 non-null   int64  \n",
            " 5   Flight Distance                    6492 non-null   int64  \n",
            " 6   Inflight wifi service              6492 non-null   int64  \n",
            " 7   Departure/Arrival time convenient  6492 non-null   int64  \n",
            " 8   Ease of Online booking             6492 non-null   int64  \n",
            " 9   Gate location                      6492 non-null   int64  \n",
            " 10  Food and drink                     6492 non-null   int64  \n",
            " 11  Online boarding                    6492 non-null   int64  \n",
            " 12  Seat comfort                       6492 non-null   int64  \n",
            " 13  Inflight entertainment             6492 non-null   int64  \n",
            " 14  On-board service                   6492 non-null   int64  \n",
            " 15  Leg room service                   6492 non-null   int64  \n",
            " 16  Baggage handling                   6492 non-null   int64  \n",
            " 17  Checkin service                    6492 non-null   int64  \n",
            " 18  Inflight service                   6492 non-null   int64  \n",
            " 19  Cleanliness                        6492 non-null   int64  \n",
            " 20  Departure Delay in Minutes         6492 non-null   int64  \n",
            " 21  Arrival Delay in Minutes           6469 non-null   float64\n",
            " 22  satisfaction                       6492 non-null   int64  \n",
            "dtypes: float64(1), int64(22)\n",
            "memory usage: 1.1 MB\n"
          ]
        }
      ]
    },
    {
      "cell_type": "code",
      "metadata": {
        "id": "53479535",
        "colab": {
          "base_uri": "https://localhost:8080/"
        },
        "outputId": "26915bd4-890f-48d8-eb05-dc33f980cfbb"
      },
      "source": [
        "df3.isnull().sum()"
      ],
      "id": "53479535",
      "execution_count": 56,
      "outputs": [
        {
          "output_type": "execute_result",
          "data": {
            "text/plain": [
              "Gender                                0\n",
              "Customer Type                         0\n",
              "Age                                   0\n",
              "Type of Travel                        0\n",
              "Class                                 0\n",
              "Flight Distance                       0\n",
              "Inflight wifi service                 0\n",
              "Departure/Arrival time convenient     0\n",
              "Ease of Online booking                0\n",
              "Gate location                         0\n",
              "Food and drink                        0\n",
              "Online boarding                       0\n",
              "Seat comfort                          0\n",
              "Inflight entertainment                0\n",
              "On-board service                      0\n",
              "Leg room service                      0\n",
              "Baggage handling                      0\n",
              "Checkin service                       0\n",
              "Inflight service                      0\n",
              "Cleanliness                           0\n",
              "Departure Delay in Minutes            0\n",
              "Arrival Delay in Minutes             23\n",
              "satisfaction                          0\n",
              "dtype: int64"
            ]
          },
          "metadata": {},
          "execution_count": 56
        }
      ]
    },
    {
      "cell_type": "code",
      "metadata": {
        "id": "b8ec7417"
      },
      "source": [
        "df3['Arrival Delay in Minutes'].fillna(df3['Arrival Delay in Minutes'].mean(), inplace=True)"
      ],
      "id": "b8ec7417",
      "execution_count": 57,
      "outputs": []
    },
    {
      "cell_type": "code",
      "metadata": {
        "id": "3da52734",
        "colab": {
          "base_uri": "https://localhost:8080/"
        },
        "outputId": "569fa2e6-4930-4fa2-c57f-2aca791f7eb2"
      },
      "source": [
        "df3.info()"
      ],
      "id": "3da52734",
      "execution_count": 58,
      "outputs": [
        {
          "output_type": "stream",
          "name": "stdout",
          "text": [
            "<class 'pandas.core.frame.DataFrame'>\n",
            "RangeIndex: 6492 entries, 0 to 6491\n",
            "Data columns (total 23 columns):\n",
            " #   Column                             Non-Null Count  Dtype  \n",
            "---  ------                             --------------  -----  \n",
            " 0   Gender                             6492 non-null   int64  \n",
            " 1   Customer Type                      6492 non-null   int64  \n",
            " 2   Age                                6492 non-null   int64  \n",
            " 3   Type of Travel                     6492 non-null   int64  \n",
            " 4   Class                              6492 non-null   int64  \n",
            " 5   Flight Distance                    6492 non-null   int64  \n",
            " 6   Inflight wifi service              6492 non-null   int64  \n",
            " 7   Departure/Arrival time convenient  6492 non-null   int64  \n",
            " 8   Ease of Online booking             6492 non-null   int64  \n",
            " 9   Gate location                      6492 non-null   int64  \n",
            " 10  Food and drink                     6492 non-null   int64  \n",
            " 11  Online boarding                    6492 non-null   int64  \n",
            " 12  Seat comfort                       6492 non-null   int64  \n",
            " 13  Inflight entertainment             6492 non-null   int64  \n",
            " 14  On-board service                   6492 non-null   int64  \n",
            " 15  Leg room service                   6492 non-null   int64  \n",
            " 16  Baggage handling                   6492 non-null   int64  \n",
            " 17  Checkin service                    6492 non-null   int64  \n",
            " 18  Inflight service                   6492 non-null   int64  \n",
            " 19  Cleanliness                        6492 non-null   int64  \n",
            " 20  Departure Delay in Minutes         6492 non-null   int64  \n",
            " 21  Arrival Delay in Minutes           6492 non-null   float64\n",
            " 22  satisfaction                       6492 non-null   int64  \n",
            "dtypes: float64(1), int64(22)\n",
            "memory usage: 1.1 MB\n"
          ]
        }
      ]
    },
    {
      "cell_type": "markdown",
      "metadata": {
        "id": "5c45e0c2"
      },
      "source": [
        "### Converting the cleaned data to csv file "
      ],
      "id": "5c45e0c2"
    },
    {
      "cell_type": "code",
      "metadata": {
        "id": "75915c69"
      },
      "source": [
        "new_filename =  '/content/drive/MyDrive/Ml Project/modified_airline_train-1.csv'\n",
        "df2.to_csv(new_filename)"
      ],
      "id": "75915c69",
      "execution_count": 59,
      "outputs": []
    },
    {
      "cell_type": "code",
      "metadata": {
        "id": "15154b02"
      },
      "source": [
        "new_filename =  '/content/drive/MyDrive/Ml Project/modified_airline_test-1.csv'\n",
        "df3.to_csv(new_filename)"
      ],
      "id": "15154b02",
      "execution_count": 60,
      "outputs": []
    },
    {
      "cell_type": "markdown",
      "metadata": {
        "id": "czBFgZix_Az9"
      },
      "source": [
        "### Splitting Data"
      ],
      "id": "czBFgZix_Az9"
    },
    {
      "cell_type": "code",
      "metadata": {
        "id": "n097AFXP-rIL"
      },
      "source": [
        "X = df2[df2.columns[0: len(df2.columns) - 1]].values\n",
        "y = df2[df2.columns[-1]].values"
      ],
      "id": "n097AFXP-rIL",
      "execution_count": 61,
      "outputs": []
    },
    {
      "cell_type": "code",
      "metadata": {
        "id": "IpzGBovC-s9_",
        "colab": {
          "base_uri": "https://localhost:8080/"
        },
        "outputId": "49852c81-310e-422d-e0d8-284bce6927d3"
      },
      "source": [
        "X.shape\n",
        "#Y.shape"
      ],
      "id": "IpzGBovC-s9_",
      "execution_count": 62,
      "outputs": [
        {
          "output_type": "execute_result",
          "data": {
            "text/plain": [
              "(25974, 22)"
            ]
          },
          "metadata": {},
          "execution_count": 62
        }
      ]
    },
    {
      "cell_type": "code",
      "metadata": {
        "id": "7agiC-iA-v9i",
        "colab": {
          "base_uri": "https://localhost:8080/"
        },
        "outputId": "4dc31cf2-6813-45c5-8e39-0ca2086c4c5f"
      },
      "source": [
        "print(df2)"
      ],
      "id": "7agiC-iA-v9i",
      "execution_count": 63,
      "outputs": [
        {
          "output_type": "stream",
          "name": "stdout",
          "text": [
            "       Gender  Customer Type  ...  Arrival Delay in Minutes  satisfaction\n",
            "0           1              1  ...                      18.0             0\n",
            "1           1              0  ...                       6.0             0\n",
            "2           0              1  ...                       0.0             1\n",
            "3           0              1  ...                       9.0             0\n",
            "4           1              1  ...                       0.0             1\n",
            "...       ...            ...  ...                       ...           ...\n",
            "25969       1              1  ...                       0.0             0\n",
            "25970       0              0  ...                     131.0             0\n",
            "25971       0              0  ...                       0.0             0\n",
            "25972       1              1  ...                       0.0             0\n",
            "25973       1              1  ...                       0.0             1\n",
            "\n",
            "[25974 rows x 23 columns]\n"
          ]
        }
      ]
    },
    {
      "cell_type": "code",
      "metadata": {
        "id": "ddyGTuFj-y17",
        "colab": {
          "base_uri": "https://localhost:8080/"
        },
        "outputId": "5337c824-b08b-4a73-9df8-8e49961c6e5c"
      },
      "source": [
        "df2.shape"
      ],
      "id": "ddyGTuFj-y17",
      "execution_count": 64,
      "outputs": [
        {
          "output_type": "execute_result",
          "data": {
            "text/plain": [
              "(25974, 23)"
            ]
          },
          "metadata": {},
          "execution_count": 64
        }
      ]
    },
    {
      "cell_type": "code",
      "metadata": {
        "id": "Y1R7FFpC-2UC",
        "colab": {
          "base_uri": "https://localhost:8080/"
        },
        "outputId": "afcadec6-9f22-4912-f73b-9b0ffd3d319a"
      },
      "source": [
        "df2.columns"
      ],
      "id": "Y1R7FFpC-2UC",
      "execution_count": 65,
      "outputs": [
        {
          "output_type": "execute_result",
          "data": {
            "text/plain": [
              "Index(['Gender', 'Customer Type', 'Age', 'Type of Travel', 'Class',\n",
              "       'Flight Distance', 'Inflight wifi service',\n",
              "       'Departure/Arrival time convenient', 'Ease of Online booking',\n",
              "       'Gate location', 'Food and drink', 'Online boarding', 'Seat comfort',\n",
              "       'Inflight entertainment', 'On-board service', 'Leg room service',\n",
              "       'Baggage handling', 'Checkin service', 'Inflight service',\n",
              "       'Cleanliness', 'Departure Delay in Minutes', 'Arrival Delay in Minutes',\n",
              "       'satisfaction'],\n",
              "      dtype='object')"
            ]
          },
          "metadata": {},
          "execution_count": 65
        }
      ]
    },
    {
      "cell_type": "markdown",
      "metadata": {
        "id": "aece4988"
      },
      "source": [
        "### b) Standardization"
      ],
      "id": "aece4988"
    },
    {
      "cell_type": "code",
      "metadata": {
        "id": "f2ade09b"
      },
      "source": [
        "from sklearn import preprocessing\n",
        "from sklearn.model_selection import train_test_split"
      ],
      "id": "f2ade09b",
      "execution_count": 57,
      "outputs": []
    },
    {
      "cell_type": "code",
      "metadata": {
        "colab": {
          "base_uri": "https://localhost:8080/"
        },
        "id": "e2ef13e4",
        "outputId": "f059be8c-2d70-4c37-b661-bb64d23dd17f"
      },
      "source": [
        "scaler = preprocessing.StandardScaler().fit(X)\n",
        "scaler"
      ],
      "id": "e2ef13e4",
      "execution_count": 58,
      "outputs": [
        {
          "output_type": "execute_result",
          "data": {
            "text/plain": [
              "StandardScaler(copy=True, with_mean=True, with_std=True)"
            ]
          },
          "metadata": {},
          "execution_count": 58
        }
      ]
    },
    {
      "cell_type": "code",
      "metadata": {
        "colab": {
          "base_uri": "https://localhost:8080/"
        },
        "id": "de2db913",
        "outputId": "1ebdc88e-8ea7-4a65-b2df-f502834686b5"
      },
      "source": [
        "scaler.mean_"
      ],
      "id": "de2db913",
      "execution_count": 59,
      "outputs": [
        {
          "output_type": "execute_result",
          "data": {
            "text/plain": [
              "array([4.91029491e-01, 8.18164318e-01, 3.92017402e+01, 6.89150689e-01,\n",
              "       4.03903904e-01, 1.19119069e+03, 2.73304073e+00, 3.06136906e+00,\n",
              "       2.75633326e+00, 2.96746747e+00, 3.20674521e+00, 3.24462924e+00,\n",
              "       3.43451143e+00, 3.35547086e+00, 3.37706938e+00, 3.33995534e+00,\n",
              "       3.63374913e+00, 3.31077231e+00, 3.64014014e+00, 3.28667129e+00,\n",
              "       1.48093863e+01, 1.52188175e+01])"
            ]
          },
          "metadata": {},
          "execution_count": 59
        }
      ]
    },
    {
      "cell_type": "code",
      "metadata": {
        "colab": {
          "base_uri": "https://localhost:8080/"
        },
        "id": "5c592d1b",
        "outputId": "9d09c27e-4889-4138-efaf-85971dbe8d1b"
      },
      "source": [
        "scaler.scale_"
      ],
      "id": "5c592d1b",
      "execution_count": 60,
      "outputs": [
        {
          "output_type": "execute_result",
          "data": {
            "text/plain": [
              "array([4.99919523e-01, 3.85709044e-01, 1.50819951e+01, 4.62841244e-01,\n",
              "       6.21217100e-01, 1.00082756e+03, 1.33187297e+00, 1.53258513e+00,\n",
              "       1.39958459e+00, 1.28539830e+00, 1.33434038e+00, 1.34965789e+00,\n",
              "       1.31975215e+00, 1.33300033e+00, 1.28551020e+00, 1.31463843e+00,\n",
              "       1.18138027e+00, 1.26550514e+00, 1.17874633e+00, 1.31787419e+00,\n",
              "       3.73363327e+01, 3.78817258e+01])"
            ]
          },
          "metadata": {},
          "execution_count": 60
        }
      ]
    },
    {
      "cell_type": "code",
      "metadata": {
        "colab": {
          "base_uri": "https://localhost:8080/"
        },
        "id": "a01ec04f",
        "outputId": "8af194cf-85d7-45cd-d5f2-12aec13009ed"
      },
      "source": [
        "X_scaled = scaler.transform(X)\n",
        "X_scaled"
      ],
      "id": "a01ec04f",
      "execution_count": 61,
      "outputs": [
        {
          "output_type": "execute_result",
          "data": {
            "text/plain": [
              "array([[ 1.01810488,  0.47143225, -1.73728608, ...,  1.30007001,\n",
              "         0.27294094,  0.07341752],\n",
              "       [ 1.01810488, -2.12119558, -0.94163538, ..., -1.73512107,\n",
              "        -0.36986456, -0.24335791],\n",
              "       [-0.98221707,  0.47143225, -0.87533115, ...,  1.30007001,\n",
              "        -0.39664812, -0.40174562],\n",
              "       ...,\n",
              "       [-0.98221707, -2.12119558, -0.4775058 , ..., -0.9763233 ,\n",
              "        -0.39664812, -0.40174562],\n",
              "       [ 1.01810488,  0.47143225,  0.64966602, ..., -0.21752553,\n",
              "        -0.39664812, -0.40174562],\n",
              "       [ 1.01810488,  0.47143225,  1.04749137, ...,  0.54127224,\n",
              "        -0.39664812, -0.40174562]])"
            ]
          },
          "metadata": {},
          "execution_count": 61
        }
      ]
    },
    {
      "cell_type": "markdown",
      "metadata": {
        "id": "03b94719"
      },
      "source": [
        "#### The scaled data has zero mean and unit variance which is proved below:"
      ],
      "id": "03b94719"
    },
    {
      "cell_type": "code",
      "metadata": {
        "colab": {
          "base_uri": "https://localhost:8080/"
        },
        "id": "55794a24",
        "outputId": "790393a4-3084-417a-d384-6461d6c6c4ba"
      },
      "source": [
        "type(X_scaled)"
      ],
      "id": "55794a24",
      "execution_count": 62,
      "outputs": [
        {
          "output_type": "execute_result",
          "data": {
            "text/plain": [
              "numpy.ndarray"
            ]
          },
          "metadata": {},
          "execution_count": 62
        }
      ]
    },
    {
      "cell_type": "code",
      "metadata": {
        "colab": {
          "base_uri": "https://localhost:8080/"
        },
        "id": "d5a160db",
        "outputId": "7a0250eb-bbaa-4bb4-94d7-b6e9723c8dc8"
      },
      "source": [
        "X_scaled.mean(axis=0)"
      ],
      "id": "d5a160db",
      "execution_count": 63,
      "outputs": [
        {
          "output_type": "execute_result",
          "data": {
            "text/plain": [
              "array([-2.57145673e-17,  1.72342313e-16,  7.44764995e-17,  4.71889666e-17,\n",
              "        5.58060823e-17,  4.36326967e-17,  1.16536231e-16,  9.30101371e-18,\n",
              "       -1.50184016e-16, -1.23101652e-17, -1.19682162e-16,  1.02584710e-19,\n",
              "        1.75077905e-17,  3.06386334e-17, -6.37392999e-17, -1.05730641e-16,\n",
              "       -1.62972909e-16,  9.95755586e-17,  1.81916886e-17, -1.34044021e-16,\n",
              "        1.28572837e-17, -3.85718510e-17])"
            ]
          },
          "metadata": {},
          "execution_count": 63
        }
      ]
    },
    {
      "cell_type": "code",
      "metadata": {
        "colab": {
          "base_uri": "https://localhost:8080/"
        },
        "id": "ae2b4fc7",
        "outputId": "545fa2a4-e810-4dc1-e400-028f58e44e90"
      },
      "source": [
        "X_scaled.std(axis=0)"
      ],
      "id": "ae2b4fc7",
      "execution_count": 64,
      "outputs": [
        {
          "output_type": "execute_result",
          "data": {
            "text/plain": [
              "array([1., 1., 1., 1., 1., 1., 1., 1., 1., 1., 1., 1., 1., 1., 1., 1., 1.,\n",
              "       1., 1., 1., 1., 1.])"
            ]
          },
          "metadata": {},
          "execution_count": 64
        }
      ]
    },
    {
      "cell_type": "markdown",
      "metadata": {
        "id": "8cd79c35"
      },
      "source": [
        "### c) Normalization - the process of scaling individual samples to have unit norm. "
      ],
      "id": "8cd79c35"
    },
    {
      "cell_type": "code",
      "metadata": {
        "colab": {
          "base_uri": "https://localhost:8080/"
        },
        "id": "1ee35b39",
        "outputId": "ee5331c1-eccb-41ef-a224-02a01b25f0f5"
      },
      "source": [
        "from sklearn.preprocessing import Normalizer\n",
        "normalizer = preprocessing.Normalizer().fit(X)\n",
        "normalizer"
      ],
      "id": "1ee35b39",
      "execution_count": 65,
      "outputs": [
        {
          "output_type": "execute_result",
          "data": {
            "text/plain": [
              "Normalizer(copy=True, norm='l2')"
            ]
          },
          "metadata": {},
          "execution_count": 65
        }
      ]
    },
    {
      "cell_type": "code",
      "metadata": {
        "id": "72c34fa0"
      },
      "source": [
        "X_norm = normalizer.transform(X)"
      ],
      "id": "72c34fa0",
      "execution_count": 66,
      "outputs": []
    },
    {
      "cell_type": "code",
      "metadata": {
        "colab": {
          "base_uri": "https://localhost:8080/"
        },
        "id": "b2ab551b",
        "outputId": "f7f58d9e-02ea-4ac7-cbd1-fc410b1f523d"
      },
      "source": [
        "type(X_norm)"
      ],
      "id": "b2ab551b",
      "execution_count": 67,
      "outputs": [
        {
          "output_type": "execute_result",
          "data": {
            "text/plain": [
              "numpy.ndarray"
            ]
          },
          "metadata": {},
          "execution_count": 67
        }
      ]
    },
    {
      "cell_type": "code",
      "metadata": {
        "colab": {
          "base_uri": "https://localhost:8080/"
        },
        "id": "e97eb615",
        "outputId": "95b3c57d-f854-4a0d-930b-3726fae5f8b0"
      },
      "source": [
        "X_norm[:2, :]"
      ],
      "id": "e97eb615",
      "execution_count": 68,
      "outputs": [
        {
          "output_type": "execute_result",
          "data": {
            "text/plain": [
              "array([[ 0.00216703,  0.00216703,  0.02817135,  0.        , -0.00216703,\n",
              "         0.99683222,  0.00650108,  0.00866811,  0.00650108,  0.00216703,\n",
              "         0.01083513,  0.00650108,  0.01083513,  0.01083513,  0.00866811,\n",
              "         0.00650108,  0.00866811,  0.00866811,  0.01083513,  0.01083513,\n",
              "         0.05417566,  0.03900648],\n",
              "       [ 0.0042263 ,  0.        ,  0.10565749,  0.0042263 ,  0.0042263 ,\n",
              "         0.9931804 ,  0.0126789 ,  0.0084526 ,  0.0126789 ,  0.0126789 ,\n",
              "         0.0042263 ,  0.0126789 ,  0.0042263 ,  0.0042263 ,  0.0042263 ,\n",
              "         0.0211315 ,  0.0126789 ,  0.0042263 ,  0.0169052 ,  0.0042263 ,\n",
              "         0.0042263 ,  0.0253578 ]])"
            ]
          },
          "metadata": {},
          "execution_count": 68
        }
      ]
    },
    {
      "cell_type": "markdown",
      "metadata": {
        "id": "7x_UPcu8Lt2y"
      },
      "source": [
        "### 2. Data Summarization"
      ],
      "id": "7x_UPcu8Lt2y"
    },
    {
      "cell_type": "markdown",
      "metadata": {
        "id": "0CS1FUewLz7a"
      },
      "source": [
        "#### a) using groupby"
      ],
      "id": "0CS1FUewLz7a"
    },
    {
      "cell_type": "code",
      "metadata": {
        "colab": {
          "base_uri": "https://localhost:8080/"
        },
        "id": "RVIRH0kCLvF8",
        "outputId": "cf1594da-d3f5-4a75-9600-ea38af824a95"
      },
      "source": [
        "# calculating the max average delay of male and female customers grouped by age and gender\n",
        "x = df2.groupby(['Age', 'Gender'])['Arrival Delay in Minutes'].mean()\n",
        "print(x.tail())"
      ],
      "id": "RVIRH0kCLvF8",
      "execution_count": 99,
      "outputs": [
        {
          "output_type": "stream",
          "name": "stdout",
          "text": [
            "Age  Gender\n",
            "79   0          1.000000\n",
            "     1         60.833333\n",
            "80   0         11.000000\n",
            "     1          5.777778\n",
            "85   1          3.500000\n",
            "Name: Arrival Delay in Minutes, dtype: float64\n"
          ]
        }
      ]
    },
    {
      "cell_type": "code",
      "metadata": {
        "colab": {
          "base_uri": "https://localhost:8080/"
        },
        "id": "YAnxsb7BL8pi",
        "outputId": "5c01dc50-1bb6-48e5-8faf-c415e6a8c2c0"
      },
      "source": [
        "print(x.max())"
      ],
      "id": "YAnxsb7BL8pi",
      "execution_count": 100,
      "outputs": [
        {
          "output_type": "stream",
          "name": "stdout",
          "text": [
            "60.833333333333336\n"
          ]
        }
      ]
    },
    {
      "cell_type": "markdown",
      "metadata": {
        "id": "fyYVIt20L5Ar"
      },
      "source": [
        "#### b) counting number of records"
      ],
      "id": "fyYVIt20L5Ar"
    },
    {
      "cell_type": "code",
      "metadata": {
        "colab": {
          "base_uri": "https://localhost:8080/"
        },
        "id": "FVeEH9miMB-a",
        "outputId": "3d31327a-888c-402a-dfb8-cfe0da5a5a6f"
      },
      "source": [
        "# value_counts returns the count of number of records for each category in a column\n",
        "df2['satisfaction'].value_counts()"
      ],
      "id": "FVeEH9miMB-a",
      "execution_count": 101,
      "outputs": [
        {
          "output_type": "execute_result",
          "data": {
            "text/plain": [
              "0    14611\n",
              "1    11363\n",
              "Name: satisfaction, dtype: int64"
            ]
          },
          "metadata": {},
          "execution_count": 101
        }
      ]
    },
    {
      "cell_type": "markdown",
      "metadata": {
        "id": "deN8JtxrMGG-"
      },
      "source": [
        "#### c) getting the description of the data (statistical information)"
      ],
      "id": "deN8JtxrMGG-"
    },
    {
      "cell_type": "code",
      "metadata": {
        "colab": {
          "base_uri": "https://localhost:8080/",
          "height": 349
        },
        "id": "76evxBabMJdq",
        "outputId": "05ca3cc0-1a09-44f5-882f-990015b6e485"
      },
      "source": [
        "df2.describe()"
      ],
      "id": "76evxBabMJdq",
      "execution_count": 102,
      "outputs": [
        {
          "output_type": "execute_result",
          "data": {
            "text/html": [
              "<div>\n",
              "<style scoped>\n",
              "    .dataframe tbody tr th:only-of-type {\n",
              "        vertical-align: middle;\n",
              "    }\n",
              "\n",
              "    .dataframe tbody tr th {\n",
              "        vertical-align: top;\n",
              "    }\n",
              "\n",
              "    .dataframe thead th {\n",
              "        text-align: right;\n",
              "    }\n",
              "</style>\n",
              "<table border=\"1\" class=\"dataframe\">\n",
              "  <thead>\n",
              "    <tr style=\"text-align: right;\">\n",
              "      <th></th>\n",
              "      <th>Gender</th>\n",
              "      <th>Customer Type</th>\n",
              "      <th>Age</th>\n",
              "      <th>Type of Travel</th>\n",
              "      <th>Class</th>\n",
              "      <th>Flight Distance</th>\n",
              "      <th>Inflight wifi service</th>\n",
              "      <th>Departure/Arrival time convenient</th>\n",
              "      <th>Ease of Online booking</th>\n",
              "      <th>Gate location</th>\n",
              "      <th>Food and drink</th>\n",
              "      <th>Online boarding</th>\n",
              "      <th>Seat comfort</th>\n",
              "      <th>Inflight entertainment</th>\n",
              "      <th>On-board service</th>\n",
              "      <th>Leg room service</th>\n",
              "      <th>Baggage handling</th>\n",
              "      <th>Checkin service</th>\n",
              "      <th>Inflight service</th>\n",
              "      <th>Cleanliness</th>\n",
              "      <th>Departure Delay in Minutes</th>\n",
              "      <th>Arrival Delay in Minutes</th>\n",
              "      <th>satisfaction</th>\n",
              "    </tr>\n",
              "  </thead>\n",
              "  <tbody>\n",
              "    <tr>\n",
              "      <th>count</th>\n",
              "      <td>25974.000000</td>\n",
              "      <td>25974.000000</td>\n",
              "      <td>25974.000000</td>\n",
              "      <td>25974.000000</td>\n",
              "      <td>25974.000000</td>\n",
              "      <td>25974.000000</td>\n",
              "      <td>25974.000000</td>\n",
              "      <td>25974.000000</td>\n",
              "      <td>25974.000000</td>\n",
              "      <td>25974.000000</td>\n",
              "      <td>25974.000000</td>\n",
              "      <td>25974.000000</td>\n",
              "      <td>25974.000000</td>\n",
              "      <td>25974.000000</td>\n",
              "      <td>25974.000000</td>\n",
              "      <td>25974.000000</td>\n",
              "      <td>25974.000000</td>\n",
              "      <td>25974.000000</td>\n",
              "      <td>25974.000000</td>\n",
              "      <td>25974.000000</td>\n",
              "      <td>25974.000000</td>\n",
              "      <td>25974.000000</td>\n",
              "      <td>25974.000000</td>\n",
              "    </tr>\n",
              "    <tr>\n",
              "      <th>mean</th>\n",
              "      <td>0.491029</td>\n",
              "      <td>0.818164</td>\n",
              "      <td>39.201740</td>\n",
              "      <td>0.689151</td>\n",
              "      <td>0.403904</td>\n",
              "      <td>1191.190691</td>\n",
              "      <td>2.733041</td>\n",
              "      <td>3.061369</td>\n",
              "      <td>2.756333</td>\n",
              "      <td>2.967467</td>\n",
              "      <td>3.206745</td>\n",
              "      <td>3.244629</td>\n",
              "      <td>3.434511</td>\n",
              "      <td>3.355471</td>\n",
              "      <td>3.377069</td>\n",
              "      <td>3.339955</td>\n",
              "      <td>3.633749</td>\n",
              "      <td>3.310772</td>\n",
              "      <td>3.640140</td>\n",
              "      <td>3.286671</td>\n",
              "      <td>14.809386</td>\n",
              "      <td>15.218818</td>\n",
              "      <td>0.437476</td>\n",
              "    </tr>\n",
              "    <tr>\n",
              "      <th>std</th>\n",
              "      <td>0.499929</td>\n",
              "      <td>0.385716</td>\n",
              "      <td>15.082285</td>\n",
              "      <td>0.462850</td>\n",
              "      <td>0.621229</td>\n",
              "      <td>1000.846823</td>\n",
              "      <td>1.331899</td>\n",
              "      <td>1.532615</td>\n",
              "      <td>1.399612</td>\n",
              "      <td>1.285423</td>\n",
              "      <td>1.334366</td>\n",
              "      <td>1.349684</td>\n",
              "      <td>1.319778</td>\n",
              "      <td>1.333026</td>\n",
              "      <td>1.285535</td>\n",
              "      <td>1.314664</td>\n",
              "      <td>1.181403</td>\n",
              "      <td>1.265530</td>\n",
              "      <td>1.178769</td>\n",
              "      <td>1.317900</td>\n",
              "      <td>37.337051</td>\n",
              "      <td>37.882455</td>\n",
              "      <td>0.496085</td>\n",
              "    </tr>\n",
              "    <tr>\n",
              "      <th>min</th>\n",
              "      <td>0.000000</td>\n",
              "      <td>0.000000</td>\n",
              "      <td>7.000000</td>\n",
              "      <td>0.000000</td>\n",
              "      <td>-1.000000</td>\n",
              "      <td>31.000000</td>\n",
              "      <td>0.000000</td>\n",
              "      <td>0.000000</td>\n",
              "      <td>0.000000</td>\n",
              "      <td>1.000000</td>\n",
              "      <td>0.000000</td>\n",
              "      <td>0.000000</td>\n",
              "      <td>0.000000</td>\n",
              "      <td>0.000000</td>\n",
              "      <td>0.000000</td>\n",
              "      <td>0.000000</td>\n",
              "      <td>1.000000</td>\n",
              "      <td>0.000000</td>\n",
              "      <td>0.000000</td>\n",
              "      <td>0.000000</td>\n",
              "      <td>0.000000</td>\n",
              "      <td>0.000000</td>\n",
              "      <td>0.000000</td>\n",
              "    </tr>\n",
              "    <tr>\n",
              "      <th>25%</th>\n",
              "      <td>0.000000</td>\n",
              "      <td>1.000000</td>\n",
              "      <td>27.000000</td>\n",
              "      <td>0.000000</td>\n",
              "      <td>0.000000</td>\n",
              "      <td>412.250000</td>\n",
              "      <td>2.000000</td>\n",
              "      <td>2.000000</td>\n",
              "      <td>2.000000</td>\n",
              "      <td>2.000000</td>\n",
              "      <td>2.000000</td>\n",
              "      <td>2.000000</td>\n",
              "      <td>2.000000</td>\n",
              "      <td>2.000000</td>\n",
              "      <td>2.000000</td>\n",
              "      <td>2.000000</td>\n",
              "      <td>3.000000</td>\n",
              "      <td>3.000000</td>\n",
              "      <td>3.000000</td>\n",
              "      <td>2.000000</td>\n",
              "      <td>0.000000</td>\n",
              "      <td>0.000000</td>\n",
              "      <td>0.000000</td>\n",
              "    </tr>\n",
              "    <tr>\n",
              "      <th>50%</th>\n",
              "      <td>0.000000</td>\n",
              "      <td>1.000000</td>\n",
              "      <td>40.000000</td>\n",
              "      <td>1.000000</td>\n",
              "      <td>0.000000</td>\n",
              "      <td>842.000000</td>\n",
              "      <td>3.000000</td>\n",
              "      <td>3.000000</td>\n",
              "      <td>3.000000</td>\n",
              "      <td>3.000000</td>\n",
              "      <td>3.000000</td>\n",
              "      <td>3.000000</td>\n",
              "      <td>4.000000</td>\n",
              "      <td>4.000000</td>\n",
              "      <td>4.000000</td>\n",
              "      <td>4.000000</td>\n",
              "      <td>4.000000</td>\n",
              "      <td>3.000000</td>\n",
              "      <td>4.000000</td>\n",
              "      <td>3.000000</td>\n",
              "      <td>0.000000</td>\n",
              "      <td>0.000000</td>\n",
              "      <td>0.000000</td>\n",
              "    </tr>\n",
              "    <tr>\n",
              "      <th>75%</th>\n",
              "      <td>1.000000</td>\n",
              "      <td>1.000000</td>\n",
              "      <td>51.000000</td>\n",
              "      <td>1.000000</td>\n",
              "      <td>1.000000</td>\n",
              "      <td>1744.000000</td>\n",
              "      <td>4.000000</td>\n",
              "      <td>4.000000</td>\n",
              "      <td>4.000000</td>\n",
              "      <td>4.000000</td>\n",
              "      <td>4.000000</td>\n",
              "      <td>4.000000</td>\n",
              "      <td>5.000000</td>\n",
              "      <td>4.000000</td>\n",
              "      <td>4.000000</td>\n",
              "      <td>4.000000</td>\n",
              "      <td>5.000000</td>\n",
              "      <td>4.000000</td>\n",
              "      <td>5.000000</td>\n",
              "      <td>4.000000</td>\n",
              "      <td>12.000000</td>\n",
              "      <td>14.000000</td>\n",
              "      <td>1.000000</td>\n",
              "    </tr>\n",
              "    <tr>\n",
              "      <th>max</th>\n",
              "      <td>1.000000</td>\n",
              "      <td>1.000000</td>\n",
              "      <td>85.000000</td>\n",
              "      <td>1.000000</td>\n",
              "      <td>1.000000</td>\n",
              "      <td>4983.000000</td>\n",
              "      <td>5.000000</td>\n",
              "      <td>5.000000</td>\n",
              "      <td>5.000000</td>\n",
              "      <td>5.000000</td>\n",
              "      <td>5.000000</td>\n",
              "      <td>5.000000</td>\n",
              "      <td>5.000000</td>\n",
              "      <td>5.000000</td>\n",
              "      <td>5.000000</td>\n",
              "      <td>5.000000</td>\n",
              "      <td>5.000000</td>\n",
              "      <td>5.000000</td>\n",
              "      <td>5.000000</td>\n",
              "      <td>5.000000</td>\n",
              "      <td>1305.000000</td>\n",
              "      <td>1280.000000</td>\n",
              "      <td>1.000000</td>\n",
              "    </tr>\n",
              "  </tbody>\n",
              "</table>\n",
              "</div>"
            ],
            "text/plain": [
              "             Gender  Customer Type  ...  Arrival Delay in Minutes  satisfaction\n",
              "count  25974.000000   25974.000000  ...              25974.000000  25974.000000\n",
              "mean       0.491029       0.818164  ...                 15.218818      0.437476\n",
              "std        0.499929       0.385716  ...                 37.882455      0.496085\n",
              "min        0.000000       0.000000  ...                  0.000000      0.000000\n",
              "25%        0.000000       1.000000  ...                  0.000000      0.000000\n",
              "50%        0.000000       1.000000  ...                  0.000000      0.000000\n",
              "75%        1.000000       1.000000  ...                 14.000000      1.000000\n",
              "max        1.000000       1.000000  ...               1280.000000      1.000000\n",
              "\n",
              "[8 rows x 23 columns]"
            ]
          },
          "metadata": {},
          "execution_count": 102
        }
      ]
    },
    {
      "cell_type": "markdown",
      "metadata": {
        "id": "j1Ms8HgrVl2i"
      },
      "source": [
        "### Data Visualization"
      ],
      "id": "j1Ms8HgrVl2i"
    },
    {
      "cell_type": "markdown",
      "metadata": {
        "id": "O7AID8ZUVr-6"
      },
      "source": [
        "#### a) Correlation Matrix"
      ],
      "id": "O7AID8ZUVr-6"
    },
    {
      "cell_type": "code",
      "metadata": {
        "colab": {
          "base_uri": "https://localhost:8080/",
          "height": 962
        },
        "id": "a1aUwubAVvET",
        "outputId": "fe114286-de17-4e83-b3f1-5fe30a5d2795"
      },
      "source": [
        "corr = df2.corr()\n",
        "np.fill_diagonal(corr.values, 0)\n",
        "corr"
      ],
      "id": "a1aUwubAVvET",
      "execution_count": 167,
      "outputs": [
        {
          "output_type": "execute_result",
          "data": {
            "text/html": [
              "<div>\n",
              "<style scoped>\n",
              "    .dataframe tbody tr th:only-of-type {\n",
              "        vertical-align: middle;\n",
              "    }\n",
              "\n",
              "    .dataframe tbody tr th {\n",
              "        vertical-align: top;\n",
              "    }\n",
              "\n",
              "    .dataframe thead th {\n",
              "        text-align: right;\n",
              "    }\n",
              "</style>\n",
              "<table border=\"1\" class=\"dataframe\">\n",
              "  <thead>\n",
              "    <tr style=\"text-align: right;\">\n",
              "      <th></th>\n",
              "      <th>Gender</th>\n",
              "      <th>Customer Type</th>\n",
              "      <th>Age</th>\n",
              "      <th>Type of Travel</th>\n",
              "      <th>Class</th>\n",
              "      <th>Flight Distance</th>\n",
              "      <th>Inflight wifi service</th>\n",
              "      <th>Departure/Arrival time convenient</th>\n",
              "      <th>Ease of Online booking</th>\n",
              "      <th>Gate location</th>\n",
              "      <th>Food and drink</th>\n",
              "      <th>Online boarding</th>\n",
              "      <th>Seat comfort</th>\n",
              "      <th>Inflight entertainment</th>\n",
              "      <th>On-board service</th>\n",
              "      <th>Leg room service</th>\n",
              "      <th>Baggage handling</th>\n",
              "      <th>Checkin service</th>\n",
              "      <th>Inflight service</th>\n",
              "      <th>Cleanliness</th>\n",
              "      <th>Departure Delay in Minutes</th>\n",
              "      <th>Arrival Delay in Minutes</th>\n",
              "      <th>satisfaction</th>\n",
              "    </tr>\n",
              "  </thead>\n",
              "  <tbody>\n",
              "    <tr>\n",
              "      <th>Gender</th>\n",
              "      <td>0.000000</td>\n",
              "      <td>0.034369</td>\n",
              "      <td>-0.004448</td>\n",
              "      <td>-0.006061</td>\n",
              "      <td>0.014456</td>\n",
              "      <td>0.010901</td>\n",
              "      <td>0.006118</td>\n",
              "      <td>0.003281</td>\n",
              "      <td>0.000810</td>\n",
              "      <td>0.000714</td>\n",
              "      <td>0.003300</td>\n",
              "      <td>-0.039201</td>\n",
              "      <td>-0.030563</td>\n",
              "      <td>0.006605</td>\n",
              "      <td>0.003826</td>\n",
              "      <td>0.033755</td>\n",
              "      <td>0.035864</td>\n",
              "      <td>0.009883</td>\n",
              "      <td>0.035192</td>\n",
              "      <td>0.007234</td>\n",
              "      <td>0.011124</td>\n",
              "      <td>0.008475</td>\n",
              "      <td>0.009847</td>\n",
              "    </tr>\n",
              "    <tr>\n",
              "      <th>Customer Type</th>\n",
              "      <td>0.034369</td>\n",
              "      <td>0.000000</td>\n",
              "      <td>0.281757</td>\n",
              "      <td>-0.308208</td>\n",
              "      <td>0.036737</td>\n",
              "      <td>0.228726</td>\n",
              "      <td>0.007731</td>\n",
              "      <td>0.214396</td>\n",
              "      <td>0.018269</td>\n",
              "      <td>-0.006030</td>\n",
              "      <td>0.068706</td>\n",
              "      <td>0.186991</td>\n",
              "      <td>0.164213</td>\n",
              "      <td>0.116357</td>\n",
              "      <td>0.061411</td>\n",
              "      <td>0.050386</td>\n",
              "      <td>-0.033611</td>\n",
              "      <td>0.031690</td>\n",
              "      <td>-0.028251</td>\n",
              "      <td>0.092021</td>\n",
              "      <td>-0.005751</td>\n",
              "      <td>-0.004928</td>\n",
              "      <td>0.181936</td>\n",
              "    </tr>\n",
              "    <tr>\n",
              "      <th>Age</th>\n",
              "      <td>-0.004448</td>\n",
              "      <td>0.281757</td>\n",
              "      <td>0.000000</td>\n",
              "      <td>0.058980</td>\n",
              "      <td>0.117666</td>\n",
              "      <td>0.095539</td>\n",
              "      <td>0.018225</td>\n",
              "      <td>0.035345</td>\n",
              "      <td>0.021352</td>\n",
              "      <td>-0.005768</td>\n",
              "      <td>0.029050</td>\n",
              "      <td>0.211290</td>\n",
              "      <td>0.169327</td>\n",
              "      <td>0.079196</td>\n",
              "      <td>0.055766</td>\n",
              "      <td>0.041066</td>\n",
              "      <td>-0.050646</td>\n",
              "      <td>0.038333</td>\n",
              "      <td>-0.051798</td>\n",
              "      <td>0.061013</td>\n",
              "      <td>-0.009632</td>\n",
              "      <td>-0.010241</td>\n",
              "      <td>0.136918</td>\n",
              "    </tr>\n",
              "    <tr>\n",
              "      <th>Type of Travel</th>\n",
              "      <td>-0.006061</td>\n",
              "      <td>-0.308208</td>\n",
              "      <td>0.058980</td>\n",
              "      <td>0.000000</td>\n",
              "      <td>0.485008</td>\n",
              "      <td>0.268810</td>\n",
              "      <td>0.108457</td>\n",
              "      <td>-0.265924</td>\n",
              "      <td>0.132217</td>\n",
              "      <td>0.033672</td>\n",
              "      <td>0.065036</td>\n",
              "      <td>0.223362</td>\n",
              "      <td>0.122606</td>\n",
              "      <td>0.148397</td>\n",
              "      <td>0.045454</td>\n",
              "      <td>0.143745</td>\n",
              "      <td>0.032029</td>\n",
              "      <td>-0.026872</td>\n",
              "      <td>0.023675</td>\n",
              "      <td>0.078745</td>\n",
              "      <td>0.011712</td>\n",
              "      <td>0.010294</td>\n",
              "      <td>0.451593</td>\n",
              "    </tr>\n",
              "    <tr>\n",
              "      <th>Class</th>\n",
              "      <td>0.014456</td>\n",
              "      <td>0.036737</td>\n",
              "      <td>0.117666</td>\n",
              "      <td>0.485008</td>\n",
              "      <td>0.000000</td>\n",
              "      <td>0.430154</td>\n",
              "      <td>0.024414</td>\n",
              "      <td>-0.091626</td>\n",
              "      <td>0.097476</td>\n",
              "      <td>0.007006</td>\n",
              "      <td>0.079193</td>\n",
              "      <td>0.289777</td>\n",
              "      <td>0.201952</td>\n",
              "      <td>0.177917</td>\n",
              "      <td>0.209386</td>\n",
              "      <td>0.205660</td>\n",
              "      <td>0.165214</td>\n",
              "      <td>0.151800</td>\n",
              "      <td>0.159692</td>\n",
              "      <td>0.126056</td>\n",
              "      <td>-0.003533</td>\n",
              "      <td>-0.007555</td>\n",
              "      <td>0.441811</td>\n",
              "    </tr>\n",
              "    <tr>\n",
              "      <th>Flight Distance</th>\n",
              "      <td>0.010901</td>\n",
              "      <td>0.228726</td>\n",
              "      <td>0.095539</td>\n",
              "      <td>0.268810</td>\n",
              "      <td>0.430154</td>\n",
              "      <td>0.000000</td>\n",
              "      <td>0.011383</td>\n",
              "      <td>-0.015765</td>\n",
              "      <td>0.068643</td>\n",
              "      <td>0.007944</td>\n",
              "      <td>0.062978</td>\n",
              "      <td>0.211404</td>\n",
              "      <td>0.150672</td>\n",
              "      <td>0.132105</td>\n",
              "      <td>0.110593</td>\n",
              "      <td>0.132597</td>\n",
              "      <td>0.064468</td>\n",
              "      <td>0.063893</td>\n",
              "      <td>0.057791</td>\n",
              "      <td>0.097324</td>\n",
              "      <td>0.005702</td>\n",
              "      <td>0.000935</td>\n",
              "      <td>0.300602</td>\n",
              "    </tr>\n",
              "    <tr>\n",
              "      <th>Inflight wifi service</th>\n",
              "      <td>0.006118</td>\n",
              "      <td>0.007731</td>\n",
              "      <td>0.018225</td>\n",
              "      <td>0.108457</td>\n",
              "      <td>0.024414</td>\n",
              "      <td>0.011383</td>\n",
              "      <td>0.000000</td>\n",
              "      <td>0.340364</td>\n",
              "      <td>0.708515</td>\n",
              "      <td>0.335336</td>\n",
              "      <td>0.132941</td>\n",
              "      <td>0.462801</td>\n",
              "      <td>0.122568</td>\n",
              "      <td>0.207504</td>\n",
              "      <td>0.116449</td>\n",
              "      <td>0.162103</td>\n",
              "      <td>0.118927</td>\n",
              "      <td>0.041387</td>\n",
              "      <td>0.110274</td>\n",
              "      <td>0.134146</td>\n",
              "      <td>-0.015923</td>\n",
              "      <td>-0.017940</td>\n",
              "      <td>0.286952</td>\n",
              "    </tr>\n",
              "    <tr>\n",
              "      <th>Departure/Arrival time convenient</th>\n",
              "      <td>0.003281</td>\n",
              "      <td>0.214396</td>\n",
              "      <td>0.035345</td>\n",
              "      <td>-0.265924</td>\n",
              "      <td>-0.091626</td>\n",
              "      <td>-0.015765</td>\n",
              "      <td>0.340364</td>\n",
              "      <td>0.000000</td>\n",
              "      <td>0.437493</td>\n",
              "      <td>0.447051</td>\n",
              "      <td>-0.006110</td>\n",
              "      <td>0.068310</td>\n",
              "      <td>0.001854</td>\n",
              "      <td>-0.008624</td>\n",
              "      <td>0.071873</td>\n",
              "      <td>0.020487</td>\n",
              "      <td>0.071890</td>\n",
              "      <td>0.088467</td>\n",
              "      <td>0.076010</td>\n",
              "      <td>0.011209</td>\n",
              "      <td>-0.000729</td>\n",
              "      <td>-0.002368</td>\n",
              "      <td>-0.055771</td>\n",
              "    </tr>\n",
              "    <tr>\n",
              "      <th>Ease of Online booking</th>\n",
              "      <td>0.000810</td>\n",
              "      <td>0.018269</td>\n",
              "      <td>0.021352</td>\n",
              "      <td>0.132217</td>\n",
              "      <td>0.097476</td>\n",
              "      <td>0.068643</td>\n",
              "      <td>0.708515</td>\n",
              "      <td>0.437493</td>\n",
              "      <td>0.000000</td>\n",
              "      <td>0.458658</td>\n",
              "      <td>0.023883</td>\n",
              "      <td>0.400789</td>\n",
              "      <td>0.023533</td>\n",
              "      <td>0.043228</td>\n",
              "      <td>0.038185</td>\n",
              "      <td>0.113277</td>\n",
              "      <td>0.041074</td>\n",
              "      <td>0.008844</td>\n",
              "      <td>0.042157</td>\n",
              "      <td>0.015015</td>\n",
              "      <td>-0.001273</td>\n",
              "      <td>-0.003463</td>\n",
              "      <td>0.170502</td>\n",
              "    </tr>\n",
              "    <tr>\n",
              "      <th>Gate location</th>\n",
              "      <td>0.000714</td>\n",
              "      <td>-0.006030</td>\n",
              "      <td>-0.005768</td>\n",
              "      <td>0.033672</td>\n",
              "      <td>0.007006</td>\n",
              "      <td>0.007944</td>\n",
              "      <td>0.335336</td>\n",
              "      <td>0.447051</td>\n",
              "      <td>0.458658</td>\n",
              "      <td>0.000000</td>\n",
              "      <td>-0.006023</td>\n",
              "      <td>-0.000095</td>\n",
              "      <td>-0.006056</td>\n",
              "      <td>0.006300</td>\n",
              "      <td>-0.021887</td>\n",
              "      <td>-0.003867</td>\n",
              "      <td>0.004780</td>\n",
              "      <td>-0.034943</td>\n",
              "      <td>0.013821</td>\n",
              "      <td>-0.006199</td>\n",
              "      <td>0.002802</td>\n",
              "      <td>0.001134</td>\n",
              "      <td>0.002093</td>\n",
              "    </tr>\n",
              "    <tr>\n",
              "      <th>Food and drink</th>\n",
              "      <td>0.003300</td>\n",
              "      <td>0.068706</td>\n",
              "      <td>0.029050</td>\n",
              "      <td>0.065036</td>\n",
              "      <td>0.079193</td>\n",
              "      <td>0.062978</td>\n",
              "      <td>0.132941</td>\n",
              "      <td>-0.006110</td>\n",
              "      <td>0.023883</td>\n",
              "      <td>-0.006023</td>\n",
              "      <td>0.000000</td>\n",
              "      <td>0.243206</td>\n",
              "      <td>0.585758</td>\n",
              "      <td>0.629536</td>\n",
              "      <td>0.058225</td>\n",
              "      <td>0.032317</td>\n",
              "      <td>0.030426</td>\n",
              "      <td>0.086437</td>\n",
              "      <td>0.031930</td>\n",
              "      <td>0.666021</td>\n",
              "      <td>-0.018586</td>\n",
              "      <td>-0.022526</td>\n",
              "      <td>0.218039</td>\n",
              "    </tr>\n",
              "    <tr>\n",
              "      <th>Online boarding</th>\n",
              "      <td>-0.039201</td>\n",
              "      <td>0.186991</td>\n",
              "      <td>0.211290</td>\n",
              "      <td>0.223362</td>\n",
              "      <td>0.289777</td>\n",
              "      <td>0.211404</td>\n",
              "      <td>0.462801</td>\n",
              "      <td>0.068310</td>\n",
              "      <td>0.400789</td>\n",
              "      <td>-0.000095</td>\n",
              "      <td>0.243206</td>\n",
              "      <td>0.000000</td>\n",
              "      <td>0.416838</td>\n",
              "      <td>0.285308</td>\n",
              "      <td>0.149498</td>\n",
              "      <td>0.125590</td>\n",
              "      <td>0.082173</td>\n",
              "      <td>0.199857</td>\n",
              "      <td>0.074767</td>\n",
              "      <td>0.335448</td>\n",
              "      <td>-0.024994</td>\n",
              "      <td>-0.025116</td>\n",
              "      <td>0.500636</td>\n",
              "    </tr>\n",
              "    <tr>\n",
              "      <th>Seat comfort</th>\n",
              "      <td>-0.030563</td>\n",
              "      <td>0.164213</td>\n",
              "      <td>0.169327</td>\n",
              "      <td>0.122606</td>\n",
              "      <td>0.201952</td>\n",
              "      <td>0.150672</td>\n",
              "      <td>0.122568</td>\n",
              "      <td>0.001854</td>\n",
              "      <td>0.023533</td>\n",
              "      <td>-0.006056</td>\n",
              "      <td>0.585758</td>\n",
              "      <td>0.416838</td>\n",
              "      <td>0.000000</td>\n",
              "      <td>0.616317</td>\n",
              "      <td>0.131470</td>\n",
              "      <td>0.108072</td>\n",
              "      <td>0.070512</td>\n",
              "      <td>0.188716</td>\n",
              "      <td>0.068414</td>\n",
              "      <td>0.686245</td>\n",
              "      <td>-0.028501</td>\n",
              "      <td>-0.029854</td>\n",
              "      <td>0.346111</td>\n",
              "    </tr>\n",
              "    <tr>\n",
              "      <th>Inflight entertainment</th>\n",
              "      <td>0.006605</td>\n",
              "      <td>0.116357</td>\n",
              "      <td>0.079196</td>\n",
              "      <td>0.148397</td>\n",
              "      <td>0.177917</td>\n",
              "      <td>0.132105</td>\n",
              "      <td>0.207504</td>\n",
              "      <td>-0.008624</td>\n",
              "      <td>0.043228</td>\n",
              "      <td>0.006300</td>\n",
              "      <td>0.629536</td>\n",
              "      <td>0.285308</td>\n",
              "      <td>0.616317</td>\n",
              "      <td>0.000000</td>\n",
              "      <td>0.410493</td>\n",
              "      <td>0.291564</td>\n",
              "      <td>0.363554</td>\n",
              "      <td>0.111777</td>\n",
              "      <td>0.392545</td>\n",
              "      <td>0.693375</td>\n",
              "      <td>-0.018815</td>\n",
              "      <td>-0.022981</td>\n",
              "      <td>0.395952</td>\n",
              "    </tr>\n",
              "    <tr>\n",
              "      <th>On-board service</th>\n",
              "      <td>0.003826</td>\n",
              "      <td>0.061411</td>\n",
              "      <td>0.055766</td>\n",
              "      <td>0.045454</td>\n",
              "      <td>0.209386</td>\n",
              "      <td>0.110593</td>\n",
              "      <td>0.116449</td>\n",
              "      <td>0.071873</td>\n",
              "      <td>0.038185</td>\n",
              "      <td>-0.021887</td>\n",
              "      <td>0.058225</td>\n",
              "      <td>0.149498</td>\n",
              "      <td>0.131470</td>\n",
              "      <td>0.410493</td>\n",
              "      <td>0.000000</td>\n",
              "      <td>0.349249</td>\n",
              "      <td>0.521168</td>\n",
              "      <td>0.240144</td>\n",
              "      <td>0.541323</td>\n",
              "      <td>0.117839</td>\n",
              "      <td>-0.029644</td>\n",
              "      <td>-0.032063</td>\n",
              "      <td>0.319210</td>\n",
              "    </tr>\n",
              "    <tr>\n",
              "      <th>Leg room service</th>\n",
              "      <td>0.033755</td>\n",
              "      <td>0.050386</td>\n",
              "      <td>0.041066</td>\n",
              "      <td>0.143745</td>\n",
              "      <td>0.205660</td>\n",
              "      <td>0.132597</td>\n",
              "      <td>0.162103</td>\n",
              "      <td>0.020487</td>\n",
              "      <td>0.113277</td>\n",
              "      <td>-0.003867</td>\n",
              "      <td>0.032317</td>\n",
              "      <td>0.125590</td>\n",
              "      <td>0.108072</td>\n",
              "      <td>0.291564</td>\n",
              "      <td>0.349249</td>\n",
              "      <td>0.000000</td>\n",
              "      <td>0.367056</td>\n",
              "      <td>0.153379</td>\n",
              "      <td>0.364064</td>\n",
              "      <td>0.094081</td>\n",
              "      <td>0.014165</td>\n",
              "      <td>0.011076</td>\n",
              "      <td>0.318202</td>\n",
              "    </tr>\n",
              "    <tr>\n",
              "      <th>Baggage handling</th>\n",
              "      <td>0.035864</td>\n",
              "      <td>-0.033611</td>\n",
              "      <td>-0.050646</td>\n",
              "      <td>0.032029</td>\n",
              "      <td>0.165214</td>\n",
              "      <td>0.064468</td>\n",
              "      <td>0.118927</td>\n",
              "      <td>0.071890</td>\n",
              "      <td>0.041074</td>\n",
              "      <td>0.004780</td>\n",
              "      <td>0.030426</td>\n",
              "      <td>0.082173</td>\n",
              "      <td>0.070512</td>\n",
              "      <td>0.363554</td>\n",
              "      <td>0.521168</td>\n",
              "      <td>0.367056</td>\n",
              "      <td>0.000000</td>\n",
              "      <td>0.227939</td>\n",
              "      <td>0.624292</td>\n",
              "      <td>0.084698</td>\n",
              "      <td>0.001861</td>\n",
              "      <td>-0.001499</td>\n",
              "      <td>0.246792</td>\n",
              "    </tr>\n",
              "    <tr>\n",
              "      <th>Checkin service</th>\n",
              "      <td>0.009883</td>\n",
              "      <td>0.031690</td>\n",
              "      <td>0.038333</td>\n",
              "      <td>-0.026872</td>\n",
              "      <td>0.151800</td>\n",
              "      <td>0.063893</td>\n",
              "      <td>0.041387</td>\n",
              "      <td>0.088467</td>\n",
              "      <td>0.008844</td>\n",
              "      <td>-0.034943</td>\n",
              "      <td>0.086437</td>\n",
              "      <td>0.199857</td>\n",
              "      <td>0.188716</td>\n",
              "      <td>0.111777</td>\n",
              "      <td>0.240144</td>\n",
              "      <td>0.153379</td>\n",
              "      <td>0.227939</td>\n",
              "      <td>0.000000</td>\n",
              "      <td>0.229388</td>\n",
              "      <td>0.176274</td>\n",
              "      <td>-0.016479</td>\n",
              "      <td>-0.016441</td>\n",
              "      <td>0.225909</td>\n",
              "    </tr>\n",
              "    <tr>\n",
              "      <th>Inflight service</th>\n",
              "      <td>0.035192</td>\n",
              "      <td>-0.028251</td>\n",
              "      <td>-0.051798</td>\n",
              "      <td>0.023675</td>\n",
              "      <td>0.159692</td>\n",
              "      <td>0.057791</td>\n",
              "      <td>0.110274</td>\n",
              "      <td>0.076010</td>\n",
              "      <td>0.042157</td>\n",
              "      <td>0.013821</td>\n",
              "      <td>0.031930</td>\n",
              "      <td>0.074767</td>\n",
              "      <td>0.068414</td>\n",
              "      <td>0.392545</td>\n",
              "      <td>0.541323</td>\n",
              "      <td>0.364064</td>\n",
              "      <td>0.624292</td>\n",
              "      <td>0.229388</td>\n",
              "      <td>0.000000</td>\n",
              "      <td>0.082444</td>\n",
              "      <td>-0.047236</td>\n",
              "      <td>-0.051914</td>\n",
              "      <td>0.241575</td>\n",
              "    </tr>\n",
              "    <tr>\n",
              "      <th>Cleanliness</th>\n",
              "      <td>0.007234</td>\n",
              "      <td>0.092021</td>\n",
              "      <td>0.061013</td>\n",
              "      <td>0.078745</td>\n",
              "      <td>0.126056</td>\n",
              "      <td>0.097324</td>\n",
              "      <td>0.134146</td>\n",
              "      <td>0.011209</td>\n",
              "      <td>0.015015</td>\n",
              "      <td>-0.006199</td>\n",
              "      <td>0.666021</td>\n",
              "      <td>0.335448</td>\n",
              "      <td>0.686245</td>\n",
              "      <td>0.693375</td>\n",
              "      <td>0.117839</td>\n",
              "      <td>0.094081</td>\n",
              "      <td>0.084698</td>\n",
              "      <td>0.176274</td>\n",
              "      <td>0.082444</td>\n",
              "      <td>0.000000</td>\n",
              "      <td>-0.011148</td>\n",
              "      <td>-0.013593</td>\n",
              "      <td>0.307143</td>\n",
              "    </tr>\n",
              "    <tr>\n",
              "      <th>Departure Delay in Minutes</th>\n",
              "      <td>0.011124</td>\n",
              "      <td>-0.005751</td>\n",
              "      <td>-0.009632</td>\n",
              "      <td>0.011712</td>\n",
              "      <td>-0.003533</td>\n",
              "      <td>0.005702</td>\n",
              "      <td>-0.015923</td>\n",
              "      <td>-0.000729</td>\n",
              "      <td>-0.001273</td>\n",
              "      <td>0.002802</td>\n",
              "      <td>-0.018586</td>\n",
              "      <td>-0.024994</td>\n",
              "      <td>-0.028501</td>\n",
              "      <td>-0.018815</td>\n",
              "      <td>-0.029644</td>\n",
              "      <td>0.014165</td>\n",
              "      <td>0.001861</td>\n",
              "      <td>-0.016479</td>\n",
              "      <td>-0.047236</td>\n",
              "      <td>-0.011148</td>\n",
              "      <td>0.000000</td>\n",
              "      <td>0.962557</td>\n",
              "      <td>-0.040964</td>\n",
              "    </tr>\n",
              "    <tr>\n",
              "      <th>Arrival Delay in Minutes</th>\n",
              "      <td>0.008475</td>\n",
              "      <td>-0.004928</td>\n",
              "      <td>-0.010241</td>\n",
              "      <td>0.010294</td>\n",
              "      <td>-0.007555</td>\n",
              "      <td>0.000935</td>\n",
              "      <td>-0.017940</td>\n",
              "      <td>-0.002368</td>\n",
              "      <td>-0.003463</td>\n",
              "      <td>0.001134</td>\n",
              "      <td>-0.022526</td>\n",
              "      <td>-0.025116</td>\n",
              "      <td>-0.029854</td>\n",
              "      <td>-0.022981</td>\n",
              "      <td>-0.032063</td>\n",
              "      <td>0.011076</td>\n",
              "      <td>-0.001499</td>\n",
              "      <td>-0.016441</td>\n",
              "      <td>-0.051914</td>\n",
              "      <td>-0.013593</td>\n",
              "      <td>0.962557</td>\n",
              "      <td>0.000000</td>\n",
              "      <td>-0.047848</td>\n",
              "    </tr>\n",
              "    <tr>\n",
              "      <th>satisfaction</th>\n",
              "      <td>0.009847</td>\n",
              "      <td>0.181936</td>\n",
              "      <td>0.136918</td>\n",
              "      <td>0.451593</td>\n",
              "      <td>0.441811</td>\n",
              "      <td>0.300602</td>\n",
              "      <td>0.286952</td>\n",
              "      <td>-0.055771</td>\n",
              "      <td>0.170502</td>\n",
              "      <td>0.002093</td>\n",
              "      <td>0.218039</td>\n",
              "      <td>0.500636</td>\n",
              "      <td>0.346111</td>\n",
              "      <td>0.395952</td>\n",
              "      <td>0.319210</td>\n",
              "      <td>0.318202</td>\n",
              "      <td>0.246792</td>\n",
              "      <td>0.225909</td>\n",
              "      <td>0.241575</td>\n",
              "      <td>0.307143</td>\n",
              "      <td>-0.040964</td>\n",
              "      <td>-0.047848</td>\n",
              "      <td>0.000000</td>\n",
              "    </tr>\n",
              "  </tbody>\n",
              "</table>\n",
              "</div>"
            ],
            "text/plain": [
              "                                     Gender  ...  satisfaction\n",
              "Gender                             0.000000  ...      0.009847\n",
              "Customer Type                      0.034369  ...      0.181936\n",
              "Age                               -0.004448  ...      0.136918\n",
              "Type of Travel                    -0.006061  ...      0.451593\n",
              "Class                              0.014456  ...      0.441811\n",
              "Flight Distance                    0.010901  ...      0.300602\n",
              "Inflight wifi service              0.006118  ...      0.286952\n",
              "Departure/Arrival time convenient  0.003281  ...     -0.055771\n",
              "Ease of Online booking             0.000810  ...      0.170502\n",
              "Gate location                      0.000714  ...      0.002093\n",
              "Food and drink                     0.003300  ...      0.218039\n",
              "Online boarding                   -0.039201  ...      0.500636\n",
              "Seat comfort                      -0.030563  ...      0.346111\n",
              "Inflight entertainment             0.006605  ...      0.395952\n",
              "On-board service                   0.003826  ...      0.319210\n",
              "Leg room service                   0.033755  ...      0.318202\n",
              "Baggage handling                   0.035864  ...      0.246792\n",
              "Checkin service                    0.009883  ...      0.225909\n",
              "Inflight service                   0.035192  ...      0.241575\n",
              "Cleanliness                        0.007234  ...      0.307143\n",
              "Departure Delay in Minutes         0.011124  ...     -0.040964\n",
              "Arrival Delay in Minutes           0.008475  ...     -0.047848\n",
              "satisfaction                       0.009847  ...      0.000000\n",
              "\n",
              "[23 rows x 23 columns]"
            ]
          },
          "metadata": {},
          "execution_count": 167
        }
      ]
    },
    {
      "cell_type": "markdown",
      "metadata": {
        "id": "ui28UQryWSWh"
      },
      "source": [
        "#### Correlation matrix using heatmap"
      ],
      "id": "ui28UQryWSWh"
    },
    {
      "cell_type": "code",
      "metadata": {
        "colab": {
          "base_uri": "https://localhost:8080/",
          "height": 715
        },
        "id": "luUtriU_Wjke",
        "outputId": "dea8168d-21c3-4646-c6eb-5910beea9e59"
      },
      "source": [
        "plt.figure(figsize = (18,9))\n",
        "sns.heatmap(corr, annot=True)"
      ],
      "id": "luUtriU_Wjke",
      "execution_count": 169,
      "outputs": [
        {
          "output_type": "execute_result",
          "data": {
            "text/plain": [
              "<matplotlib.axes._subplots.AxesSubplot at 0x7f9b1b60fd50>"
            ]
          },
          "metadata": {},
          "execution_count": 169
        },
        {
          "output_type": "display_data",
          "data": {
            "image/png": "[encoded data removed]",
            "text/plain": [
              "<Figure size 1296x648 with 2 Axes>"
            ]
          },
          "metadata": {
            "needs_background": "light"
          }
        }
      ]
    },
    {
      "cell_type": "markdown",
      "metadata": {
        "id": "l1aWPz7FWsGY"
      },
      "source": [
        "#### Finding the strongest correlations between all the features"
      ],
      "id": "l1aWPz7FWsGY"
    },
    {
      "cell_type": "code",
      "metadata": {
        "colab": {
          "base_uri": "https://localhost:8080/"
        },
        "id": "Esv-OQ0iWz4R",
        "outputId": "ea00307b-65c9-4190-9501-adad4c924c95"
      },
      "source": [
        "corr.unstack().sort_values(kind='quicksort', na_position='first').drop_duplicates(keep='first')"
      ],
      "id": "Esv-OQ0iWz4R",
      "execution_count": 170,
      "outputs": [
        {
          "output_type": "execute_result",
          "data": {
            "text/plain": [
              "Customer Type                      Type of Travel               -0.308208\n",
              "Departure/Arrival time convenient  Type of Travel               -0.265924\n",
              "                                   Class                        -0.091626\n",
              "                                   satisfaction                 -0.055771\n",
              "Arrival Delay in Minutes           Inflight service             -0.051914\n",
              "                                                                   ...   \n",
              "Food and drink                     Cleanliness                   0.666021\n",
              "Seat comfort                       Cleanliness                   0.686245\n",
              "Inflight entertainment             Cleanliness                   0.693375\n",
              "Ease of Online booking             Inflight wifi service         0.708515\n",
              "Arrival Delay in Minutes           Departure Delay in Minutes    0.962557\n",
              "Length: 254, dtype: float64"
            ]
          },
          "metadata": {},
          "execution_count": 170
        }
      ]
    },
    {
      "cell_type": "markdown",
      "metadata": {
        "id": "zIwp00wpXUTD"
      },
      "source": [
        "#### Finding strongest correlations of features w.r.t target (satisfaction) "
      ],
      "id": "zIwp00wpXUTD"
    },
    {
      "cell_type": "code",
      "metadata": {
        "colab": {
          "base_uri": "https://localhost:8080/"
        },
        "id": "ut0GOO8fXs0P",
        "outputId": "e4a0e19b-42a6-4976-f247-aed41ab4030b"
      },
      "source": [
        "df.corr().abs()['satisfaction'].sort_values(ascending = False)"
      ],
      "id": "ut0GOO8fXs0P",
      "execution_count": 171,
      "outputs": [
        {
          "output_type": "execute_result",
          "data": {
            "text/plain": [
              "satisfaction                         1.000000\n",
              "Online boarding                      0.500636\n",
              "Type of Travel                       0.451593\n",
              "Class                                0.441811\n",
              "Inflight entertainment               0.395952\n",
              "Seat comfort                         0.346111\n",
              "On-board service                     0.319210\n",
              "Leg room service                     0.318202\n",
              "Cleanliness                          0.307143\n",
              "Flight Distance                      0.300602\n",
              "Inflight wifi service                0.286952\n",
              "Baggage handling                     0.246792\n",
              "Inflight service                     0.241575\n",
              "Checkin service                      0.225909\n",
              "Food and drink                       0.218039\n",
              "Customer Type                        0.181936\n",
              "Ease of Online booking               0.170502\n",
              "Age                                  0.136918\n",
              "Departure/Arrival time convenient    0.055771\n",
              "Arrival Delay in Minutes             0.047906\n",
              "Departure Delay in Minutes           0.040964\n",
              "id                                   0.012133\n",
              "Gender                               0.009847\n",
              "Unnamed: 0                           0.002239\n",
              "Gate location                        0.002093\n",
              "Name: satisfaction, dtype: float64"
            ]
          },
          "metadata": {},
          "execution_count": 171
        }
      ]
    },
    {
      "cell_type": "markdown",
      "metadata": {
        "id": "vgZcyriDX-kH"
      },
      "source": [
        "#### b) Feature Visualization using boxplot"
      ],
      "id": "vgZcyriDX-kH"
    },
    {
      "cell_type": "code",
      "metadata": {
        "colab": {
          "base_uri": "https://localhost:8080/",
          "height": 296
        },
        "id": "NKrNZhraYG_H",
        "outputId": "864b27d8-043c-4a66-9341-9a14491f1c4c"
      },
      "source": [
        "sns.boxplot(x='Inflight wifi service', y='Online boarding', data=df2)"
      ],
      "id": "NKrNZhraYG_H",
      "execution_count": 172,
      "outputs": [
        {
          "output_type": "execute_result",
          "data": {
            "text/plain": [
              "<matplotlib.axes._subplots.AxesSubplot at 0x7f9b1b69b110>"
            ]
          },
          "metadata": {},
          "execution_count": 172
        },
        {
          "output_type": "display_data",
          "data": {
            "image/png": "[encoded data removed]",
            "text/plain": [
              "<Figure size 432x288 with 1 Axes>"
            ]
          },
          "metadata": {
            "needs_background": "light"
          }
        }
      ]
    },
    {
      "cell_type": "code",
      "metadata": {
        "colab": {
          "base_uri": "https://localhost:8080/",
          "height": 296
        },
        "id": "Z67JNZOkYNtY",
        "outputId": "458b0d6c-c601-4143-b3a7-002a745c9c64"
      },
      "source": [
        "sns.boxplot(x='satisfaction', y='Online boarding', data=df2)"
      ],
      "id": "Z67JNZOkYNtY",
      "execution_count": 173,
      "outputs": [
        {
          "output_type": "execute_result",
          "data": {
            "text/plain": [
              "<matplotlib.axes._subplots.AxesSubplot at 0x7f9b12792810>"
            ]
          },
          "metadata": {},
          "execution_count": 173
        },
        {
          "output_type": "display_data",
          "data": {
            "image/png": "[encoded data removed]",
            "text/plain": [
              "<Figure size 432x288 with 1 Axes>"
            ]
          },
          "metadata": {
            "needs_background": "light"
          }
        }
      ]
    },
    {
      "cell_type": "markdown",
      "metadata": {
        "id": "MoqF2pzWYxFb"
      },
      "source": [
        "#### c) Feature Visualization using lmplot"
      ],
      "id": "MoqF2pzWYxFb"
    },
    {
      "cell_type": "code",
      "metadata": {
        "colab": {
          "base_uri": "https://localhost:8080/",
          "height": 386
        },
        "id": "2UETllPLY0u8",
        "outputId": "42da05ff-6f42-4091-c33e-dae5009abb2a"
      },
      "source": [
        "sns.lmplot(x='Arrival Delay in Minutes', y='Departure Delay in Minutes', \n",
        "                hue='satisfaction', data=df2)"
      ],
      "id": "2UETllPLY0u8",
      "execution_count": 174,
      "outputs": [
        {
          "output_type": "execute_result",
          "data": {
            "text/plain": [
              "<seaborn.axisgrid.FacetGrid at 0x7f9b1276b590>"
            ]
          },
          "metadata": {},
          "execution_count": 174
        },
        {
          "output_type": "display_data",
          "data": {
            "image/png": "[encoded data removed]",
            "text/plain": [
              "<Figure size 425.75x360 with 1 Axes>"
            ]
          },
          "metadata": {
            "needs_background": "light"
          }
        }
      ]
    },
    {
      "cell_type": "markdown",
      "metadata": {
        "id": "SMLfs6dsY50x"
      },
      "source": [
        "#### d) Feature Visualization using scatterplot"
      ],
      "id": "SMLfs6dsY50x"
    },
    {
      "cell_type": "code",
      "metadata": {
        "colab": {
          "base_uri": "https://localhost:8080/",
          "height": 296
        },
        "id": "Qw98xTbWY_tB",
        "outputId": "4d38c83c-be90-4c6d-dc00-b57f821e03e3"
      },
      "source": [
        "sns.scatterplot(x='Inflight wifi service', y='Ease of Online booking', \n",
        "                hue='satisfaction', data=df2)"
      ],
      "id": "Qw98xTbWY_tB",
      "execution_count": 175,
      "outputs": [
        {
          "output_type": "execute_result",
          "data": {
            "text/plain": [
              "<matplotlib.axes._subplots.AxesSubplot at 0x7f9b1270e250>"
            ]
          },
          "metadata": {},
          "execution_count": 175
        },
        {
          "output_type": "display_data",
          "data": {
            "image/png": "[encoded data removed]",
            "text/plain": [
              "<Figure size 432x288 with 1 Axes>"
            ]
          },
          "metadata": {
            "needs_background": "light"
          }
        }
      ]
    },
    {
      "cell_type": "markdown",
      "metadata": {
        "id": "x1IEEc4hZVfx"
      },
      "source": [
        "#### e) 3D visualization of 3 highly correlated features and passenger satisfaction using ploty "
      ],
      "id": "x1IEEc4hZVfx"
    },
    {
      "cell_type": "code",
      "metadata": {
        "colab": {
          "base_uri": "https://localhost:8080/",
          "height": 0
        },
        "id": "zaxDbuo3ZhZJ",
        "outputId": "6ee72609-be21-4317-a66a-8fc3cb3be5f4"
      },
      "source": [
        "import plotly.express as px\n",
        "\n",
        "fig = px.scatter_3d(df2.head(1000), x='On-board service', y='Leg room service', z='Cleanliness', \n",
        "                   color='satisfaction')\n",
        "fig.show()"
      ],
      "id": "zaxDbuo3ZhZJ",
      "execution_count": 176,
      "outputs": [
        {
          "output_type": "display_data",
          "data": {
            "text/html": [
              "<html>\n",
              "<head><meta charset=\"utf-8\" /></head>\n",
              "<body>\n",
              "    <div>\n",
              "            <script src=\"https://cdnjs.cloudflare.com/ajax/libs/mathjax/2.7.5/MathJax.js?config=TeX-AMS-MML_SVG\"></script><script type=\"text/javascript\">if (window.MathJax) {MathJax.Hub.Config({SVG: {font: \"STIX-Web\"}});}</script>\n",
              "                <script type=\"text/javascript\">window.PlotlyConfig = {MathJaxConfig: 'local'};</script>\n",
              "        <script src=\"https://cdn.plot.ly/plotly-latest.min.js\"></script>    \n",
              "            <div id=\"47d414af-6fd6-483a-942e-093bac2d624d\" class=\"plotly-graph-div\" style=\"height:525px; width:100%;\"></div>\n",
              "            <script type=\"text/javascript\">\n",
              "                \n",
              "                    window.PLOTLYENV=window.PLOTLYENV || {};\n",
              "                    \n",
              "                if (document.getElementById(\"47d414af-6fd6-483a-942e-093bac2d624d\")) {\n",
              "                    Plotly.newPlot(\n",
              "                        '47d414af-6fd6-483a-942e-093bac2d624d',\n",
              "                        [{\"hoverlabel\": {\"namelength\": 0}, \"hovertemplate\": \"On-board service=%{x}<br>Leg room service=%{y}<br>Cleanliness=%{z}<br>satisfaction=%{marker.color}\", \"legendgroup\": \"\", \"marker\": {\"color\": [0, 0, 1, 0, 1, 0, 0, 1, 0, 0, 0, 0, 0, 1, 0, 0, 1, 1, 1, 0, 0, 0, 0, 0, 1, 0, 1, 1, 0, 0, 1, 0, 1, 0, 0, 0, 0, 0, 1, 0, 1, 0, 1, 1, 1, 1, 0, 0, 1, 0, 0, 1, 1, 0, 0, 1, 1, 1, 0, 0, 0, 1, 0, 1, 1, 1, 0, 1, 0, 1, 1, 0, 0, 0, 0, 1, 0, 1, 0, 0, 1, 0, 0, 1, 1, 1, 0, 0, 1, 0, 1, 1, 0, 1, 1, 1, 0, 0, 0, 1, 0, 1, 0, 0, 1, 0, 0, 0, 0, 0, 1, 0, 0, 0, 1, 0, 0, 1, 0, 0, 0, 0, 0, 1, 0, 1, 1, 0, 0, 1, 1, 0, 0, 0, 0, 1, 1, 0, 0, 1, 1, 0, 0, 0, 0, 0, 1, 1, 1, 0, 1, 0, 0, 0, 1, 0, 0, 0, 1, 0, 1, 1, 1, 0, 1, 1, 0, 0, 1, 1, 1, 1, 0, 1, 1, 0, 1, 0, 1, 0, 1, 0, 0, 1, 0, 0, 1, 0, 0, 1, 0, 0, 0, 0, 1, 0, 1, 0, 0, 0, 1, 1, 0, 1, 0, 0, 0, 1, 0, 0, 1, 0, 0, 1, 0, 1, 0, 0, 1, 0, 0, 0, 1, 0, 0, 1, 0, 0, 0, 0, 1, 1, 1, 0, 0, 1, 0, 0, 0, 1, 0, 1, 0, 0, 0, 1, 1, 0, 1, 0, 0, 0, 0, 1, 1, 0, 0, 0, 0, 1, 1, 0, 0, 0, 1, 0, 0, 1, 1, 1, 1, 0, 0, 0, 0, 1, 1, 1, 1, 1, 0, 0, 0, 0, 0, 0, 0, 1, 0, 0, 0, 0, 1, 0, 1, 1, 1, 0, 1, 1, 1, 1, 0, 1, 0, 0, 0, 1, 1, 1, 0, 1, 1, 1, 0, 1, 0, 1, 0, 1, 0, 1, 0, 0, 1, 0, 0, 1, 0, 0, 0, 1, 0, 1, 0, 0, 0, 0, 1, 0, 0, 0, 0, 0, 0, 1, 0, 1, 1, 1, 0, 1, 0, 1, 1, 1, 0, 0, 1, 0, 0, 1, 1, 1, 1, 1, 1, 1, 1, 1, 1, 1, 0, 1, 1, 1, 1, 0, 0, 1, 0, 0, 0, 1, 0, 1, 1, 1, 1, 1, 1, 0, 0, 0, 0, 0, 0, 0, 1, 0, 1, 0, 1, 1, 0, 0, 1, 0, 1, 1, 0, 1, 1, 0, 1, 1, 0, 0, 0, 0, 1, 1, 1, 0, 0, 0, 0, 1, 1, 0, 1, 1, 0, 1, 0, 1, 0, 0, 0, 0, 1, 1, 0, 0, 0, 0, 0, 1, 1, 0, 1, 1, 1, 0, 1, 1, 0, 0, 1, 0, 1, 0, 0, 1, 0, 1, 0, 1, 1, 0, 0, 1, 0, 1, 0, 1, 1, 1, 1, 1, 0, 1, 1, 1, 0, 0, 0, 1, 0, 0, 0, 1, 1, 0, 1, 0, 0, 0, 0, 0, 1, 1, 0, 0, 0, 0, 0, 0, 0, 0, 1, 1, 0, 0, 1, 1, 0, 1, 0, 0, 0, 0, 1, 0, 1, 1, 0, 0, 0, 0, 1, 1, 0, 0, 1, 1, 0, 1, 0, 1, 1, 1, 1, 1, 1, 0, 1, 1, 1, 0, 1, 0, 0, 0, 0, 0, 1, 1, 0, 0, 1, 0, 0, 1, 1, 1, 1, 1, 1, 1, 0, 0, 0, 0, 0, 1, 0, 1, 0, 0, 1, 1, 1, 1, 0, 0, 0, 0, 1, 1, 1, 0, 0, 1, 1, 0, 0, 0, 0, 0, 1, 0, 0, 0, 0, 1, 0, 1, 1, 1, 1, 0, 0, 1, 0, 1, 1, 0, 0, 1, 1, 0, 0, 1, 0, 1, 1, 1, 1, 1, 1, 1, 1, 0, 0, 0, 1, 1, 0, 0, 0, 1, 1, 1, 0, 0, 0, 0, 0, 0, 1, 1, 1, 1, 0, 1, 1, 0, 1, 1, 0, 0, 0, 0, 1, 1, 1, 0, 1, 0, 0, 0, 1, 0, 0, 1, 0, 1, 0, 0, 1, 1, 1, 1, 0, 0, 1, 0, 1, 0, 1, 0, 1, 0, 0, 0, 1, 0, 0, 1, 0, 0, 0, 0, 0, 1, 0, 1, 1, 1, 0, 0, 0, 1, 0, 1, 0, 1, 0, 0, 1, 0, 1, 0, 0, 0, 0, 0, 1, 0, 0, 1, 0, 0, 0, 0, 1, 0, 1, 0, 0, 1, 0, 1, 0, 0, 0, 1, 1, 1, 0, 1, 1, 0, 0, 1, 1, 0, 0, 1, 1, 0, 0, 1, 0, 0, 0, 1, 0, 0, 0, 1, 0, 1, 0, 1, 1, 1, 0, 0, 0, 1, 1, 0, 1, 0, 0, 0, 0, 0, 1, 0, 0, 0, 0, 1, 1, 0, 0, 1, 0, 1, 1, 0, 0, 1, 0, 1, 1, 1, 1, 1, 0, 1, 1, 0, 1, 1, 0, 0, 0, 0, 0, 1, 0, 1, 0, 1, 0, 0, 1, 1, 0, 1, 0, 1, 1, 0, 0, 1, 0, 1, 1, 1, 0, 0, 0, 0, 0, 1, 0, 0, 0, 1, 1, 1, 0, 1, 0, 0, 1, 1, 0, 0, 0, 0, 0, 0, 0, 1, 0, 0, 0, 1, 0, 1, 1, 1, 0, 1, 0, 0, 0, 0, 0, 0, 0, 0, 0, 1, 1, 0, 1, 1, 1, 0, 0, 1, 0, 0, 1, 0, 0, 0, 0, 0, 0, 1, 0, 0, 1, 1, 1, 1, 0, 1, 0, 0, 0, 0, 0, 0, 0, 1, 1, 1, 0, 1, 1, 0, 1, 0, 0, 1, 0, 1, 0, 0, 0, 1, 0, 0, 0, 1, 0, 0, 0, 0, 0, 0, 0, 0, 0, 1, 1, 0, 1, 0, 1, 0, 0, 0, 0, 0, 1, 0, 0, 0, 0, 0, 1, 1, 0, 1, 0, 1, 1, 1, 1, 1, 0, 1, 0, 1, 1, 0, 0, 0, 0, 1, 1, 1, 0, 1, 1, 1, 0, 0, 1, 1], \"coloraxis\": \"coloraxis\", \"symbol\": \"circle\"}, \"mode\": \"markers\", \"name\": \"\", \"scene\": \"scene\", \"showlegend\": false, \"type\": \"scatter3d\", \"x\": [4, 1, 4, 2, 3, 3, 3, 5, 1, 2, 3, 1, 1, 4, 4, 2, 5, 5, 5, 1, 1, 2, 3, 4, 4, 3, 4, 4, 3, 2, 5, 3, 3, 5, 4, 3, 5, 5, 4, 3, 4, 4, 4, 5, 3, 4, 4, 3, 5, 2, 3, 3, 5, 4, 4, 4, 5, 5, 1, 4, 2, 4, 4, 5, 4, 5, 3, 5, 3, 3, 5, 2, 5, 4, 4, 4, 2, 4, 5, 3, 4, 2, 3, 3, 4, 1, 5, 4, 4, 3, 4, 3, 2, 5, 3, 4, 2, 2, 5, 5, 5, 5, 4, 4, 3, 1, 4, 2, 3, 5, 4, 4, 1, 5, 4, 3, 1, 2, 5, 4, 3, 1, 4, 4, 3, 4, 4, 2, 4, 2, 4, 3, 3, 2, 1, 5, 5, 4, 1, 4, 3, 3, 3, 1, 2, 2, 5, 3, 4, 3, 2, 1, 4, 2, 5, 3, 5, 4, 3, 3, 3, 3, 4, 4, 5, 1, 4, 1, 1, 5, 4, 4, 4, 4, 3, 2, 4, 4, 4, 4, 5, 1, 4, 4, 4, 5, 4, 2, 1, 5, 3, 3, 2, 3, 4, 5, 4, 3, 2, 4, 5, 5, 3, 1, 5, 3, 4, 5, 1, 3, 4, 1, 2, 5, 1, 4, 4, 3, 5, 4, 4, 3, 4, 4, 5, 4, 5, 2, 3, 1, 5, 2, 4, 2, 5, 4, 3, 4, 3, 3, 2, 2, 4, 2, 4, 5, 4, 3, 2, 2, 3, 3, 2, 5, 4, 2, 1, 5, 3, 4, 3, 5, 4, 4, 5, 1, 2, 5, 4, 5, 3, 2, 3, 5, 4, 3, 5, 5, 3, 5, 4, 1, 5, 5, 1, 2, 4, 4, 1, 3, 1, 4, 3, 4, 4, 5, 4, 3, 3, 2, 4, 4, 4, 4, 1, 1, 2, 3, 3, 5, 2, 4, 4, 5, 5, 4, 4, 4, 3, 5, 3, 5, 4, 4, 3, 1, 3, 4, 3, 4, 4, 5, 3, 5, 3, 2, 4, 2, 2, 5, 5, 1, 1, 5, 3, 4, 2, 5, 5, 3, 4, 5, 4, 5, 2, 3, 2, 1, 5, 2, 1, 5, 5, 3, 4, 4, 4, 5, 5, 4, 3, 5, 2, 4, 4, 5, 2, 1, 3, 5, 2, 4, 4, 4, 1, 3, 4, 4, 4, 4, 5, 3, 3, 2, 5, 3, 3, 3, 4, 5, 5, 3, 5, 4, 2, 4, 2, 2, 5, 4, 3, 5, 4, 5, 3, 4, 1, 4, 4, 5, 4, 4, 5, 3, 4, 2, 2, 4, 5, 2, 4, 4, 4, 5, 5, 2, 3, 2, 5, 3, 5, 4, 4, 3, 1, 4, 2, 4, 4, 3, 5, 3, 5, 4, 5, 3, 2, 3, 4, 4, 5, 4, 1, 3, 4, 4, 0, 4, 5, 3, 3, 5, 2, 4, 2, 5, 3, 3, 3, 4, 4, 4, 2, 4, 2, 2, 2, 5, 4, 3, 4, 1, 5, 4, 4, 3, 5, 3, 5, 2, 2, 4, 5, 4, 5, 3, 1, 3, 5, 4, 4, 5, 4, 5, 4, 4, 1, 4, 4, 1, 2, 3, 4, 4, 4, 4, 1, 4, 4, 3, 3, 3, 2, 1, 4, 5, 4, 2, 4, 3, 3, 4, 5, 4, 5, 4, 4, 5, 3, 5, 2, 5, 1, 4, 4, 4, 2, 2, 5, 4, 4, 3, 4, 5, 5, 5, 4, 4, 4, 5, 3, 4, 3, 3, 4, 5, 5, 5, 3, 4, 5, 5, 5, 4, 1, 3, 4, 1, 5, 5, 5, 2, 5, 5, 2, 3, 4, 3, 5, 3, 2, 3, 2, 3, 5, 5, 2, 5, 4, 3, 5, 3, 4, 4, 1, 4, 5, 1, 2, 2, 4, 3, 5, 4, 2, 3, 4, 4, 4, 3, 4, 1, 4, 5, 4, 4, 5, 2, 4, 2, 4, 4, 5, 1, 2, 3, 2, 3, 5, 5, 1, 4, 3, 4, 4, 4, 5, 2, 2, 1, 1, 3, 4, 4, 5, 5, 4, 2, 2, 2, 2, 2, 4, 4, 4, 5, 4, 5, 3, 2, 5, 5, 5, 5, 1, 2, 4, 3, 4, 4, 3, 3, 5, 3, 5, 3, 3, 1, 3, 4, 4, 4, 1, 3, 1, 3, 4, 5, 5, 2, 3, 2, 4, 3, 2, 4, 3, 3, 3, 2, 4, 2, 3, 2, 4, 3, 2, 3, 5, 4, 2, 4, 5, 5, 5, 5, 3, 4, 3, 1, 1, 4, 5, 5, 4, 3, 3, 4, 5, 5, 1, 1, 2, 4, 5, 4, 1, 3, 2, 5, 4, 4, 3, 2, 5, 1, 3, 4, 3, 2, 1, 2, 4, 5, 4, 5, 5, 5, 3, 4, 4, 5, 5, 5, 2, 2, 3, 5, 1, 5, 5, 3, 1, 4, 3, 4, 1, 3, 2, 5, 2, 4, 5, 2, 4, 4, 2, 4, 5, 3, 3, 2, 1, 5, 4, 4, 5, 4, 3, 2, 1, 3, 3, 4, 2, 3, 3, 4, 4, 3, 5, 5, 4, 4, 4, 4, 5, 1, 3, 3, 4, 4, 5, 5, 4, 2, 3, 3, 1, 3, 4, 5, 3, 4, 5, 5, 4, 5, 5, 5, 1, 1, 4, 4, 4, 1, 5, 3, 3, 4, 1, 3, 3, 5, 2, 2, 2, 4, 4, 5, 4, 1, 2, 3, 1, 5, 4, 3, 4, 4, 5, 1, 5, 4, 4, 1, 1, 4, 3, 1, 4, 2, 4, 4, 1, 4, 2, 3, 4, 4, 5, 4, 5, 5, 5, 5, 3, 3, 1, 1, 2, 4, 4, 3, 3, 4, 2, 4, 2, 2, 5, 1, 3, 5, 5, 3, 4, 3, 1, 4, 5, 3, 2, 4, 3, 4, 3, 3, 2, 3, 2, 3, 3, 3, 5, 4, 5, 5, 5, 4, 3, 4, 5, 3, 5, 4, 4, 2, 2, 1, 1, 5, 4, 5, 2, 3, 5, 5, 1, 5, 2, 5, 3, 3, 4, 3, 4, 2, 5, 2, 3, 4, 3, 4, 5, 5, 5, 3, 1, 5], \"y\": [3, 5, 3, 5, 4, 4, 3, 5, 2, 3, 3, 2, 1, 5, 3, 1, 3, 5, 5, 2, 5, 5, 3, 4, 5, 2, 4, 4, 3, 4, 4, 1, 4, 4, 1, 5, 4, 1, 4, 3, 4, 4, 4, 5, 3, 2, 5, 5, 5, 3, 3, 4, 5, 4, 2, 4, 5, 5, 1, 2, 1, 4, 4, 5, 4, 4, 2, 5, 2, 3, 5, 5, 4, 4, 4, 2, 2, 5, 2, 5, 2, 3, 2, 4, 4, 2, 3, 4, 4, 1, 5, 4, 2, 5, 2, 3, 2, 1, 1, 2, 4, 5, 2, 1, 4, 1, 3, 5, 2, 4, 5, 4, 1, 2, 4, 3, 1, 2, 4, 4, 5, 3, 2, 4, 5, 4, 4, 1, 5, 2, 5, 2, 3, 2, 2, 2, 5, 2, 1, 1, 3, 4, 3, 5, 1, 4, 5, 4, 1, 5, 2, 1, 4, 4, 5, 4, 2, 4, 4, 2, 5, 4, 3, 2, 5, 4, 3, 4, 1, 1, 4, 4, 4, 4, 2, 4, 4, 5, 5, 3, 5, 1, 3, 4, 2, 1, 4, 5, 3, 3, 5, 4, 5, 3, 2, 5, 4, 2, 2, 5, 5, 5, 2, 3, 2, 5, 5, 5, 2, 3, 4, 4, 3, 2, 1, 4, 3, 3, 5, 3, 4, 4, 4, 4, 3, 4, 2, 2, 5, 5, 5, 3, 4, 2, 4, 4, 3, 2, 5, 5, 2, 5, 2, 2, 1, 5, 4, 4, 4, 5, 2, 5, 3, 5, 4, 2, 4, 2, 2, 4, 4, 4, 5, 4, 5, 2, 2, 5, 2, 4, 3, 2, 3, 5, 5, 3, 5, 5, 5, 5, 4, 3, 4, 3, 1, 4, 2, 4, 1, 4, 2, 4, 4, 5, 4, 5, 4, 4, 4, 1, 3, 4, 2, 4, 3, 5, 4, 5, 4, 3, 4, 4, 4, 5, 5, 3, 5, 4, 1, 4, 3, 5, 5, 1, 2, 5, 3, 4, 5, 5, 3, 5, 2, 2, 2, 3, 1, 2, 2, 3, 3, 3, 5, 4, 2, 2, 2, 5, 5, 3, 1, 4, 1, 5, 2, 2, 2, 2, 4, 2, 4, 1, 3, 3, 3, 4, 4, 5, 5, 4, 4, 5, 5, 4, 4, 1, 5, 2, 3, 5, 2, 4, 3, 4, 4, 2, 4, 4, 4, 4, 2, 1, 2, 4, 3, 3, 5, 1, 2, 4, 5, 5, 2, 4, 3, 2, 2, 2, 5, 5, 2, 5, 4, 5, 5, 4, 1, 4, 4, 2, 2, 3, 5, 3, 3, 4, 4, 5, 5, 2, 4, 4, 4, 3, 4, 2, 1, 2, 1, 2, 5, 4, 2, 3, 2, 3, 2, 4, 5, 2, 5, 3, 5, 3, 5, 2, 4, 4, 4, 3, 5, 2, 1, 5, 2, 4, 1, 4, 0, 5, 4, 5, 2, 4, 2, 5, 3, 2, 3, 5, 2, 4, 5, 5, 5, 3, 2, 5, 4, 4, 2, 1, 5, 4, 4, 5, 1, 2, 3, 2, 3, 4, 2, 4, 4, 5, 2, 5, 1, 2, 4, 1, 3, 3, 5, 5, 1, 4, 2, 1, 3, 2, 4, 4, 4, 4, 1, 4, 3, 1, 3, 5, 5, 4, 5, 5, 3, 1, 1, 2, 4, 4, 4, 1, 3, 2, 3, 5, 3, 3, 2, 3, 1, 3, 0, 3, 2, 2, 2, 4, 4, 2, 3, 5, 5, 5, 4, 5, 4, 5, 3, 3, 2, 1, 4, 5, 2, 5, 1, 2, 5, 5, 5, 5, 1, 1, 5, 4, 2, 5, 5, 3, 3, 5, 1, 4, 1, 4, 2, 4, 1, 3, 1, 3, 3, 3, 2, 3, 2, 4, 4, 3, 5, 4, 3, 5, 5, 1, 2, 5, 4, 5, 2, 4, 4, 4, 4, 4, 4, 5, 4, 1, 4, 3, 4, 4, 1, 5, 3, 2, 2, 4, 4, 2, 2, 4, 4, 4, 3, 4, 3, 3, 3, 4, 3, 4, 3, 5, 5, 1, 3, 1, 3, 3, 5, 4, 4, 1, 2, 2, 3, 2, 4, 2, 4, 5, 3, 2, 4, 4, 5, 5, 5, 5, 2, 1, 5, 5, 5, 1, 3, 5, 5, 3, 1, 3, 3, 4, 2, 5, 5, 5, 4, 4, 3, 2, 5, 5, 4, 5, 3, 3, 1, 3, 1, 4, 2, 2, 2, 1, 4, 2, 2, 4, 2, 3, 1, 4, 5, 3, 3, 5, 2, 1, 2, 3, 3, 1, 4, 1, 0, 5, 4, 5, 3, 2, 5, 4, 5, 5, 1, 4, 3, 4, 0, 4, 4, 3, 2, 5, 5, 3, 3, 2, 3, 5, 5, 4, 2, 2, 4, 2, 2, 4, 1, 5, 5, 5, 3, 3, 3, 2, 5, 1, 2, 2, 3, 5, 4, 4, 5, 1, 1, 5, 3, 1, 4, 1, 2, 5, 1, 3, 5, 2, 4, 4, 3, 4, 5, 3, 2, 5, 1, 5, 5, 5, 2, 3, 4, 0, 3, 3, 3, 4, 1, 4, 4, 4, 2, 4, 2, 5, 5, 4, 4, 4, 5, 2, 5, 3, 2, 4, 5, 5, 5, 1, 2, 2, 1, 2, 3, 3, 5, 4, 4, 5, 5, 5, 4, 3, 2, 1, 5, 5, 5, 5, 2, 1, 5, 4, 2, 3, 3, 5, 1, 2, 2, 4, 2, 5, 1, 2, 4, 3, 4, 3, 3, 1, 4, 2, 5, 3, 4, 3, 4, 4, 2, 4, 2, 2, 4, 3, 4, 3, 1, 5, 4, 2, 2, 5, 5, 4, 1, 5, 2, 5, 3, 3, 1, 5, 2, 3, 1, 1, 1, 5, 3, 4, 2, 2, 5, 3, 4, 5, 1, 2, 2, 4, 1, 4, 5, 3, 1, 2, 4, 4, 4, 3, 4, 2, 3, 4, 3, 2, 5, 3, 3, 3, 5, 4, 2, 2, 4, 3, 5, 4, 2, 4, 5, 1, 1, 5, 2, 2, 3, 5, 5, 5, 1, 4, 3, 5, 1, 5, 1, 4, 4, 4, 2, 3, 2, 4, 2, 4, 4, 2, 3, 3, 2, 4], \"z\": [5, 1, 5, 2, 3, 1, 2, 4, 2, 2, 2, 1, 1, 4, 2, 4, 4, 5, 4, 5, 2, 5, 4, 2, 1, 5, 2, 2, 2, 3, 5, 5, 4, 5, 1, 1, 5, 2, 4, 1, 3, 3, 3, 4, 5, 5, 4, 1, 3, 5, 2, 4, 2, 4, 4, 5, 5, 4, 4, 4, 3, 3, 4, 4, 4, 4, 4, 4, 2, 4, 5, 3, 5, 2, 1, 1, 4, 2, 4, 3, 4, 3, 5, 1, 4, 4, 5, 5, 1, 3, 4, 2, 4, 1, 4, 4, 5, 3, 5, 3, 3, 4, 5, 3, 5, 4, 1, 5, 1, 4, 3, 1, 1, 5, 4, 1, 3, 5, 3, 4, 1, 4, 3, 5, 1, 3, 5, 4, 3, 4, 2, 3, 3, 3, 5, 5, 5, 3, 1, 4, 1, 1, 4, 3, 5, 5, 3, 4, 3, 4, 3, 4, 5, 2, 3, 1, 4, 5, 1, 2, 4, 3, 2, 3, 4, 5, 5, 3, 5, 5, 3, 5, 3, 5, 3, 3, 4, 3, 4, 4, 4, 3, 4, 2, 1, 2, 4, 3, 1, 1, 2, 2, 1, 2, 2, 2, 5, 3, 2, 1, 4, 3, 2, 5, 2, 2, 4, 3, 3, 3, 4, 1, 4, 5, 3, 1, 2, 1, 4, 4, 3, 5, 4, 1, 2, 3, 2, 2, 3, 3, 4, 5, 2, 3, 4, 1, 3, 1, 1, 4, 3, 5, 4, 1, 3, 5, 3, 3, 4, 5, 1, 4, 4, 5, 3, 1, 4, 1, 3, 4, 5, 5, 4, 3, 4, 4, 4, 3, 4, 1, 3, 3, 2, 5, 5, 5, 5, 1, 4, 4, 2, 3, 3, 4, 2, 2, 3, 4, 4, 4, 2, 4, 4, 1, 5, 3, 3, 2, 4, 4, 5, 3, 5, 5, 5, 2, 2, 4, 4, 2, 4, 3, 5, 3, 2, 5, 1, 4, 1, 2, 3, 3, 5, 1, 5, 2, 5, 5, 5, 2, 4, 3, 1, 1, 3, 1, 5, 4, 1, 3, 4, 5, 1, 5, 5, 5, 4, 3, 4, 5, 4, 3, 4, 4, 4, 5, 2, 1, 4, 5, 3, 5, 4, 5, 4, 4, 5, 4, 4, 3, 5, 5, 4, 3, 4, 5, 4, 2, 5, 4, 2, 1, 5, 3, 1, 4, 3, 3, 4, 5, 4, 4, 5, 2, 4, 2, 2, 3, 5, 1, 3, 4, 5, 5, 2, 1, 4, 4, 3, 4, 1, 5, 5, 3, 3, 4, 4, 5, 3, 1, 3, 3, 5, 1, 5, 3, 2, 4, 5, 2, 1, 5, 5, 2, 1, 4, 4, 3, 5, 3, 5, 4, 5, 4, 3, 3, 2, 4, 4, 5, 5, 4, 3, 2, 3, 4, 3, 5, 5, 3, 5, 1, 2, 4, 3, 3, 3, 3, 3, 2, 1, 3, 4, 3, 2, 5, 3, 4, 5, 3, 2, 4, 4, 3, 2, 3, 3, 3, 1, 2, 5, 2, 1, 1, 3, 2, 1, 2, 3, 3, 5, 5, 4, 5, 2, 4, 4, 2, 5, 1, 3, 4, 3, 3, 1, 2, 4, 5, 3, 2, 4, 2, 5, 4, 3, 3, 3, 1, 5, 2, 3, 2, 3, 5, 3, 4, 3, 5, 3, 5, 4, 5, 4, 5, 3, 4, 4, 5, 1, 3, 5, 3, 5, 1, 3, 3, 5, 4, 4, 1, 3, 5, 5, 3, 5, 3, 4, 3, 4, 5, 3, 3, 2, 1, 1, 3, 5, 3, 1, 5, 5, 2, 4, 3, 2, 5, 5, 4, 3, 4, 5, 2, 2, 3, 5, 2, 3, 5, 4, 3, 4, 2, 2, 4, 4, 5, 3, 4, 3, 5, 5, 1, 4, 5, 3, 5, 4, 2, 1, 5, 1, 1, 2, 3, 1, 4, 1, 3, 3, 4, 5, 4, 4, 4, 3, 2, 1, 3, 5, 2, 1, 3, 5, 1, 3, 2, 2, 5, 2, 1, 5, 2, 3, 3, 5, 5, 2, 4, 3, 5, 4, 1, 4, 4, 2, 4, 3, 4, 4, 3, 4, 3, 5, 2, 2, 5, 5, 4, 4, 5, 3, 4, 3, 4, 2, 1, 2, 5, 1, 1, 4, 4, 5, 2, 4, 5, 5, 1, 2, 4, 3, 4, 4, 2, 2, 4, 3, 4, 4, 5, 1, 5, 1, 4, 2, 5, 1, 5, 5, 1, 4, 1, 4, 2, 4, 1, 3, 3, 2, 4, 3, 5, 3, 2, 2, 4, 2, 3, 3, 3, 3, 5, 2, 3, 1, 1, 1, 5, 5, 4, 2, 3, 4, 2, 3, 3, 4, 4, 4, 4, 5, 5, 1, 3, 5, 4, 4, 4, 1, 1, 4, 2, 3, 4, 3, 4, 3, 5, 3, 2, 4, 5, 4, 1, 3, 2, 2, 4, 5, 2, 4, 2, 2, 4, 4, 5, 5, 1, 4, 5, 1, 4, 3, 5, 3, 4, 2, 3, 5, 5, 2, 5, 2, 4, 4, 5, 5, 5, 4, 3, 2, 2, 3, 4, 2, 5, 1, 4, 3, 4, 5, 1, 3, 1, 5, 4, 5, 3, 3, 5, 5, 3, 5, 5, 3, 5, 1, 4, 1, 3, 4, 2, 2, 1, 5, 5, 1, 5, 3, 2, 5, 3, 3, 3, 4, 1, 4, 3, 4, 4, 1, 2, 3, 5, 3, 3, 4, 4, 3, 4, 1, 1, 3, 1, 1, 2, 3, 3, 4, 4, 3, 4, 2, 4, 5, 2, 3, 4, 5, 4, 3, 2, 2, 4, 4, 3, 4, 5, 3, 4, 5, 3, 5, 5, 3, 2, 4, 3, 1, 5, 3, 3, 4, 4, 1, 4, 2, 3, 4, 3, 4, 1, 4, 5, 2, 4, 3, 1, 4, 3, 2, 2, 2, 1, 2, 4, 4, 1, 5, 2, 2, 1, 3, 4, 3, 2, 5, 3, 5, 2, 3, 1, 4, 5, 2, 1, 3, 4, 2, 2, 1, 4, 3, 5, 3, 5, 3, 1, 4, 3, 1, 4, 2, 4, 5, 1, 4, 3, 3, 4, 4, 3, 3, 4, 4, 4, 5, 5, 5, 4]}],\n",
              "                        {\"coloraxis\": {\"colorbar\": {\"title\": {\"text\": \"satisfaction\"}}, \"colorscale\": [[0.0, \"#0d0887\"], [0.1111111111111111, \"#46039f\"], [0.2222222222222222, \"#7201a8\"], [0.3333333333333333, \"#9c179e\"], [0.4444444444444444, \"#bd3786\"], [0.5555555555555556, \"#d8576b\"], [0.6666666666666666, \"#ed7953\"], [0.7777777777777778, \"#fb9f3a\"], [0.8888888888888888, \"#fdca26\"], [1.0, \"#f0f921\"]]}, \"legend\": {\"tracegroupgap\": 0}, \"margin\": {\"t\": 60}, \"scene\": {\"domain\": {\"x\": [0.0, 1.0], \"y\": [0.0, 1.0]}, \"xaxis\": {\"title\": {\"text\": \"On-board service\"}}, \"yaxis\": {\"title\": {\"text\": \"Leg room service\"}}, \"zaxis\": {\"title\": {\"text\": \"Cleanliness\"}}}, \"template\": {\"data\": {\"bar\": [{\"error_x\": {\"color\": \"#2a3f5f\"}, \"error_y\": {\"color\": \"#2a3f5f\"}, \"marker\": {\"line\": {\"color\": \"#E5ECF6\", \"width\": 0.5}}, \"type\": \"bar\"}], \"barpolar\": [{\"marker\": {\"line\": {\"color\": \"#E5ECF6\", \"width\": 0.5}}, \"type\": \"barpolar\"}], \"carpet\": [{\"aaxis\": {\"endlinecolor\": \"#2a3f5f\", \"gridcolor\": \"white\", \"linecolor\": \"white\", \"minorgridcolor\": \"white\", \"startlinecolor\": \"#2a3f5f\"}, \"baxis\": {\"endlinecolor\": \"#2a3f5f\", \"gridcolor\": \"white\", \"linecolor\": \"white\", \"minorgridcolor\": \"white\", \"startlinecolor\": \"#2a3f5f\"}, \"type\": \"carpet\"}], \"choropleth\": [{\"colorbar\": {\"outlinewidth\": 0, \"ticks\": \"\"}, \"type\": \"choropleth\"}], \"contour\": [{\"colorbar\": {\"outlinewidth\": 0, \"ticks\": \"\"}, \"colorscale\": [[0.0, \"#0d0887\"], [0.1111111111111111, \"#46039f\"], [0.2222222222222222, \"#7201a8\"], [0.3333333333333333, \"#9c179e\"], [0.4444444444444444, \"#bd3786\"], [0.5555555555555556, \"#d8576b\"], [0.6666666666666666, \"#ed7953\"], [0.7777777777777778, \"#fb9f3a\"], [0.8888888888888888, \"#fdca26\"], [1.0, \"#f0f921\"]], \"type\": \"contour\"}], \"contourcarpet\": [{\"colorbar\": {\"outlinewidth\": 0, \"ticks\": \"\"}, \"type\": \"contourcarpet\"}], \"heatmap\": [{\"colorbar\": {\"outlinewidth\": 0, \"ticks\": \"\"}, \"colorscale\": [[0.0, \"#0d0887\"], [0.1111111111111111, \"#46039f\"], [0.2222222222222222, \"#7201a8\"], [0.3333333333333333, \"#9c179e\"], [0.4444444444444444, \"#bd3786\"], [0.5555555555555556, \"#d8576b\"], [0.6666666666666666, \"#ed7953\"], [0.7777777777777778, \"#fb9f3a\"], [0.8888888888888888, \"#fdca26\"], [1.0, \"#f0f921\"]], \"type\": \"heatmap\"}], \"heatmapgl\": [{\"colorbar\": {\"outlinewidth\": 0, \"ticks\": \"\"}, \"colorscale\": [[0.0, \"#0d0887\"], [0.1111111111111111, \"#46039f\"], [0.2222222222222222, \"#7201a8\"], [0.3333333333333333, \"#9c179e\"], [0.4444444444444444, \"#bd3786\"], [0.5555555555555556, \"#d8576b\"], [0.6666666666666666, \"#ed7953\"], [0.7777777777777778, \"#fb9f3a\"], [0.8888888888888888, \"#fdca26\"], [1.0, \"#f0f921\"]], \"type\": \"heatmapgl\"}], \"histogram\": [{\"marker\": {\"colorbar\": {\"outlinewidth\": 0, \"ticks\": \"\"}}, \"type\": \"histogram\"}], \"histogram2d\": [{\"colorbar\": {\"outlinewidth\": 0, \"ticks\": \"\"}, \"colorscale\": [[0.0, \"#0d0887\"], [0.1111111111111111, \"#46039f\"], [0.2222222222222222, \"#7201a8\"], [0.3333333333333333, \"#9c179e\"], [0.4444444444444444, \"#bd3786\"], [0.5555555555555556, \"#d8576b\"], [0.6666666666666666, \"#ed7953\"], [0.7777777777777778, \"#fb9f3a\"], [0.8888888888888888, \"#fdca26\"], [1.0, \"#f0f921\"]], \"type\": \"histogram2d\"}], \"histogram2dcontour\": [{\"colorbar\": {\"outlinewidth\": 0, \"ticks\": \"\"}, \"colorscale\": [[0.0, \"#0d0887\"], [0.1111111111111111, \"#46039f\"], [0.2222222222222222, \"#7201a8\"], [0.3333333333333333, \"#9c179e\"], [0.4444444444444444, \"#bd3786\"], [0.5555555555555556, \"#d8576b\"], [0.6666666666666666, \"#ed7953\"], [0.7777777777777778, \"#fb9f3a\"], [0.8888888888888888, \"#fdca26\"], [1.0, \"#f0f921\"]], \"type\": \"histogram2dcontour\"}], \"mesh3d\": [{\"colorbar\": {\"outlinewidth\": 0, \"ticks\": \"\"}, \"type\": \"mesh3d\"}], \"parcoords\": [{\"line\": {\"colorbar\": {\"outlinewidth\": 0, \"ticks\": \"\"}}, \"type\": \"parcoords\"}], \"pie\": [{\"automargin\": true, \"type\": \"pie\"}], \"scatter\": [{\"marker\": {\"colorbar\": {\"outlinewidth\": 0, \"ticks\": \"\"}}, \"type\": \"scatter\"}], \"scatter3d\": [{\"line\": {\"colorbar\": {\"outlinewidth\": 0, \"ticks\": \"\"}}, \"marker\": {\"colorbar\": {\"outlinewidth\": 0, \"ticks\": \"\"}}, \"type\": \"scatter3d\"}], \"scattercarpet\": [{\"marker\": {\"colorbar\": {\"outlinewidth\": 0, \"ticks\": \"\"}}, \"type\": \"scattercarpet\"}], \"scattergeo\": [{\"marker\": {\"colorbar\": {\"outlinewidth\": 0, \"ticks\": \"\"}}, \"type\": \"scattergeo\"}], \"scattergl\": [{\"marker\": {\"colorbar\": {\"outlinewidth\": 0, \"ticks\": \"\"}}, \"type\": \"scattergl\"}], \"scattermapbox\": [{\"marker\": {\"colorbar\": {\"outlinewidth\": 0, \"ticks\": \"\"}}, \"type\": \"scattermapbox\"}], \"scatterpolar\": [{\"marker\": {\"colorbar\": {\"outlinewidth\": 0, \"ticks\": \"\"}}, \"type\": \"scatterpolar\"}], \"scatterpolargl\": [{\"marker\": {\"colorbar\": {\"outlinewidth\": 0, \"ticks\": \"\"}}, \"type\": \"scatterpolargl\"}], \"scatterternary\": [{\"marker\": {\"colorbar\": {\"outlinewidth\": 0, \"ticks\": \"\"}}, \"type\": \"scatterternary\"}], \"surface\": [{\"colorbar\": {\"outlinewidth\": 0, \"ticks\": \"\"}, \"colorscale\": [[0.0, \"#0d0887\"], [0.1111111111111111, \"#46039f\"], [0.2222222222222222, \"#7201a8\"], [0.3333333333333333, \"#9c179e\"], [0.4444444444444444, \"#bd3786\"], [0.5555555555555556, \"#d8576b\"], [0.6666666666666666, \"#ed7953\"], [0.7777777777777778, \"#fb9f3a\"], [0.8888888888888888, \"#fdca26\"], [1.0, \"#f0f921\"]], \"type\": \"surface\"}], \"table\": [{\"cells\": {\"fill\": {\"color\": \"#EBF0F8\"}, \"line\": {\"color\": \"white\"}}, \"header\": {\"fill\": {\"color\": \"#C8D4E3\"}, \"line\": {\"color\": \"white\"}}, \"type\": \"table\"}]}, \"layout\": {\"annotationdefaults\": {\"arrowcolor\": \"#2a3f5f\", \"arrowhead\": 0, \"arrowwidth\": 1}, \"coloraxis\": {\"colorbar\": {\"outlinewidth\": 0, \"ticks\": \"\"}}, \"colorscale\": {\"diverging\": [[0, \"#8e0152\"], [0.1, \"#c51b7d\"], [0.2, \"#de77ae\"], [0.3, \"#f1b6da\"], [0.4, \"#fde0ef\"], [0.5, \"#f7f7f7\"], [0.6, \"#e6f5d0\"], [0.7, \"#b8e186\"], [0.8, \"#7fbc41\"], [0.9, \"#4d9221\"], [1, \"#276419\"]], \"sequential\": [[0.0, \"#0d0887\"], [0.1111111111111111, \"#46039f\"], [0.2222222222222222, \"#7201a8\"], [0.3333333333333333, \"#9c179e\"], [0.4444444444444444, \"#bd3786\"], [0.5555555555555556, \"#d8576b\"], [0.6666666666666666, \"#ed7953\"], [0.7777777777777778, \"#fb9f3a\"], [0.8888888888888888, \"#fdca26\"], [1.0, \"#f0f921\"]], \"sequentialminus\": [[0.0, \"#0d0887\"], [0.1111111111111111, \"#46039f\"], [0.2222222222222222, \"#7201a8\"], [0.3333333333333333, \"#9c179e\"], [0.4444444444444444, \"#bd3786\"], [0.5555555555555556, \"#d8576b\"], [0.6666666666666666, \"#ed7953\"], [0.7777777777777778, \"#fb9f3a\"], [0.8888888888888888, \"#fdca26\"], [1.0, \"#f0f921\"]]}, \"colorway\": [\"#636efa\", \"#EF553B\", \"#00cc96\", \"#ab63fa\", \"#FFA15A\", \"#19d3f3\", \"#FF6692\", \"#B6E880\", \"#FF97FF\", \"#FECB52\"], \"font\": {\"color\": \"#2a3f5f\"}, \"geo\": {\"bgcolor\": \"white\", \"lakecolor\": \"white\", \"landcolor\": \"#E5ECF6\", \"showlakes\": true, \"showland\": true, \"subunitcolor\": \"white\"}, \"hoverlabel\": {\"align\": \"left\"}, \"hovermode\": \"closest\", \"mapbox\": {\"style\": \"light\"}, \"paper_bgcolor\": \"white\", \"plot_bgcolor\": \"#E5ECF6\", \"polar\": {\"angularaxis\": {\"gridcolor\": \"white\", \"linecolor\": \"white\", \"ticks\": \"\"}, \"bgcolor\": \"#E5ECF6\", \"radialaxis\": {\"gridcolor\": \"white\", \"linecolor\": \"white\", \"ticks\": \"\"}}, \"scene\": {\"xaxis\": {\"backgroundcolor\": \"#E5ECF6\", \"gridcolor\": \"white\", \"gridwidth\": 2, \"linecolor\": \"white\", \"showbackground\": true, \"ticks\": \"\", \"zerolinecolor\": \"white\"}, \"yaxis\": {\"backgroundcolor\": \"#E5ECF6\", \"gridcolor\": \"white\", \"gridwidth\": 2, \"linecolor\": \"white\", \"showbackground\": true, \"ticks\": \"\", \"zerolinecolor\": \"white\"}, \"zaxis\": {\"backgroundcolor\": \"#E5ECF6\", \"gridcolor\": \"white\", \"gridwidth\": 2, \"linecolor\": \"white\", \"showbackground\": true, \"ticks\": \"\", \"zerolinecolor\": \"white\"}}, \"shapedefaults\": {\"line\": {\"color\": \"#2a3f5f\"}}, \"ternary\": {\"aaxis\": {\"gridcolor\": \"white\", \"linecolor\": \"white\", \"ticks\": \"\"}, \"baxis\": {\"gridcolor\": \"white\", \"linecolor\": \"white\", \"ticks\": \"\"}, \"bgcolor\": \"#E5ECF6\", \"caxis\": {\"gridcolor\": \"white\", \"linecolor\": \"white\", \"ticks\": \"\"}}, \"title\": {\"x\": 0.05}, \"xaxis\": {\"automargin\": true, \"gridcolor\": \"white\", \"linecolor\": \"white\", \"ticks\": \"\", \"title\": {\"standoff\": 15}, \"zerolinecolor\": \"white\", \"zerolinewidth\": 2}, \"yaxis\": {\"automargin\": true, \"gridcolor\": \"white\", \"linecolor\": \"white\", \"ticks\": \"\", \"title\": {\"standoff\": 15}, \"zerolinecolor\": \"white\", \"zerolinewidth\": 2}}}},\n",
              "                        {\"responsive\": true}\n",
              "                    ).then(function(){\n",
              "                            \n",
              "var gd = document.getElementById('47d414af-6fd6-483a-942e-093bac2d624d');\n",
              "var x = new MutationObserver(function (mutations, observer) {{\n",
              "        var display = window.getComputedStyle(gd).display;\n",
              "        if (!display || display === 'none') {{\n",
              "            console.log([gd, 'removed!']);\n",
              "            Plotly.purge(gd);\n",
              "            observer.disconnect();\n",
              "        }}\n",
              "}});\n",
              "\n",
              "// Listen for the removal of the full notebook cells\n",
              "var notebookContainer = gd.closest('#notebook-container');\n",
              "if (notebookContainer) {{\n",
              "    x.observe(notebookContainer, {childList: true});\n",
              "}}\n",
              "\n",
              "// Listen for the clearing of the current output cell\n",
              "var outputEl = gd.closest('.output');\n",
              "if (outputEl) {{\n",
              "    x.observe(outputEl, {childList: true});\n",
              "}}\n",
              "\n",
              "                        })\n",
              "                };\n",
              "                \n",
              "            </script>\n",
              "        </div>\n",
              "</body>\n",
              "</html>"
            ]
          },
          "metadata": {}
        }
      ]
    },
    {
      "cell_type": "code",
      "metadata": {
        "colab": {
          "base_uri": "https://localhost:8080/",
          "height": 0
        },
        "id": "T-Dyw2B-aJYe",
        "outputId": "1d1b4faf-e214-498d-8947-5413baeb936a"
      },
      "source": [
        "import plotly.express as px\n",
        "\n",
        "fig = px.scatter_3d(df2.head(1000), x='Online boarding', y='Inflight entertainment', z='Seat comfort', \n",
        "                   color='satisfaction')\n",
        "fig.show()"
      ],
      "id": "T-Dyw2B-aJYe",
      "execution_count": 177,
      "outputs": [
        {
          "output_type": "display_data",
          "data": {
            "text/html": [
              "<html>\n",
              "<head><meta charset=\"utf-8\" /></head>\n",
              "<body>\n",
              "    <div>\n",
              "            <script src=\"https://cdnjs.cloudflare.com/ajax/libs/mathjax/2.7.5/MathJax.js?config=TeX-AMS-MML_SVG\"></script><script type=\"text/javascript\">if (window.MathJax) {MathJax.Hub.Config({SVG: {font: \"STIX-Web\"}});}</script>\n",
              "                <script type=\"text/javascript\">window.PlotlyConfig = {MathJaxConfig: 'local'};</script>\n",
              "        <script src=\"https://cdn.plot.ly/plotly-latest.min.js\"></script>    \n",
              "            <div id=\"da25096e-0043-49db-9a53-2297d1bf7407\" class=\"plotly-graph-div\" style=\"height:525px; width:100%;\"></div>\n",
              "            <script type=\"text/javascript\">\n",
              "                \n",
              "                    window.PLOTLYENV=window.PLOTLYENV || {};\n",
              "                    \n",
              "                if (document.getElementById(\"da25096e-0043-49db-9a53-2297d1bf7407\")) {\n",
              "                    Plotly.newPlot(\n",
              "                        'da25096e-0043-49db-9a53-2297d1bf7407',\n",
              "                        [{\"hoverlabel\": {\"namelength\": 0}, \"hovertemplate\": \"Online boarding=%{x}<br>Inflight entertainment=%{y}<br>Seat comfort=%{z}<br>satisfaction=%{marker.color}\", \"legendgroup\": \"\", \"marker\": {\"color\": [0, 0, 1, 0, 1, 0, 0, 1, 0, 0, 0, 0, 0, 1, 0, 0, 1, 1, 1, 0, 0, 0, 0, 0, 1, 0, 1, 1, 0, 0, 1, 0, 1, 0, 0, 0, 0, 0, 1, 0, 1, 0, 1, 1, 1, 1, 0, 0, 1, 0, 0, 1, 1, 0, 0, 1, 1, 1, 0, 0, 0, 1, 0, 1, 1, 1, 0, 1, 0, 1, 1, 0, 0, 0, 0, 1, 0, 1, 0, 0, 1, 0, 0, 1, 1, 1, 0, 0, 1, 0, 1, 1, 0, 1, 1, 1, 0, 0, 0, 1, 0, 1, 0, 0, 1, 0, 0, 0, 0, 0, 1, 0, 0, 0, 1, 0, 0, 1, 0, 0, 0, 0, 0, 1, 0, 1, 1, 0, 0, 1, 1, 0, 0, 0, 0, 1, 1, 0, 0, 1, 1, 0, 0, 0, 0, 0, 1, 1, 1, 0, 1, 0, 0, 0, 1, 0, 0, 0, 1, 0, 1, 1, 1, 0, 1, 1, 0, 0, 1, 1, 1, 1, 0, 1, 1, 0, 1, 0, 1, 0, 1, 0, 0, 1, 0, 0, 1, 0, 0, 1, 0, 0, 0, 0, 1, 0, 1, 0, 0, 0, 1, 1, 0, 1, 0, 0, 0, 1, 0, 0, 1, 0, 0, 1, 0, 1, 0, 0, 1, 0, 0, 0, 1, 0, 0, 1, 0, 0, 0, 0, 1, 1, 1, 0, 0, 1, 0, 0, 0, 1, 0, 1, 0, 0, 0, 1, 1, 0, 1, 0, 0, 0, 0, 1, 1, 0, 0, 0, 0, 1, 1, 0, 0, 0, 1, 0, 0, 1, 1, 1, 1, 0, 0, 0, 0, 1, 1, 1, 1, 1, 0, 0, 0, 0, 0, 0, 0, 1, 0, 0, 0, 0, 1, 0, 1, 1, 1, 0, 1, 1, 1, 1, 0, 1, 0, 0, 0, 1, 1, 1, 0, 1, 1, 1, 0, 1, 0, 1, 0, 1, 0, 1, 0, 0, 1, 0, 0, 1, 0, 0, 0, 1, 0, 1, 0, 0, 0, 0, 1, 0, 0, 0, 0, 0, 0, 1, 0, 1, 1, 1, 0, 1, 0, 1, 1, 1, 0, 0, 1, 0, 0, 1, 1, 1, 1, 1, 1, 1, 1, 1, 1, 1, 0, 1, 1, 1, 1, 0, 0, 1, 0, 0, 0, 1, 0, 1, 1, 1, 1, 1, 1, 0, 0, 0, 0, 0, 0, 0, 1, 0, 1, 0, 1, 1, 0, 0, 1, 0, 1, 1, 0, 1, 1, 0, 1, 1, 0, 0, 0, 0, 1, 1, 1, 0, 0, 0, 0, 1, 1, 0, 1, 1, 0, 1, 0, 1, 0, 0, 0, 0, 1, 1, 0, 0, 0, 0, 0, 1, 1, 0, 1, 1, 1, 0, 1, 1, 0, 0, 1, 0, 1, 0, 0, 1, 0, 1, 0, 1, 1, 0, 0, 1, 0, 1, 0, 1, 1, 1, 1, 1, 0, 1, 1, 1, 0, 0, 0, 1, 0, 0, 0, 1, 1, 0, 1, 0, 0, 0, 0, 0, 1, 1, 0, 0, 0, 0, 0, 0, 0, 0, 1, 1, 0, 0, 1, 1, 0, 1, 0, 0, 0, 0, 1, 0, 1, 1, 0, 0, 0, 0, 1, 1, 0, 0, 1, 1, 0, 1, 0, 1, 1, 1, 1, 1, 1, 0, 1, 1, 1, 0, 1, 0, 0, 0, 0, 0, 1, 1, 0, 0, 1, 0, 0, 1, 1, 1, 1, 1, 1, 1, 0, 0, 0, 0, 0, 1, 0, 1, 0, 0, 1, 1, 1, 1, 0, 0, 0, 0, 1, 1, 1, 0, 0, 1, 1, 0, 0, 0, 0, 0, 1, 0, 0, 0, 0, 1, 0, 1, 1, 1, 1, 0, 0, 1, 0, 1, 1, 0, 0, 1, 1, 0, 0, 1, 0, 1, 1, 1, 1, 1, 1, 1, 1, 0, 0, 0, 1, 1, 0, 0, 0, 1, 1, 1, 0, 0, 0, 0, 0, 0, 1, 1, 1, 1, 0, 1, 1, 0, 1, 1, 0, 0, 0, 0, 1, 1, 1, 0, 1, 0, 0, 0, 1, 0, 0, 1, 0, 1, 0, 0, 1, 1, 1, 1, 0, 0, 1, 0, 1, 0, 1, 0, 1, 0, 0, 0, 1, 0, 0, 1, 0, 0, 0, 0, 0, 1, 0, 1, 1, 1, 0, 0, 0, 1, 0, 1, 0, 1, 0, 0, 1, 0, 1, 0, 0, 0, 0, 0, 1, 0, 0, 1, 0, 0, 0, 0, 1, 0, 1, 0, 0, 1, 0, 1, 0, 0, 0, 1, 1, 1, 0, 1, 1, 0, 0, 1, 1, 0, 0, 1, 1, 0, 0, 1, 0, 0, 0, 1, 0, 0, 0, 1, 0, 1, 0, 1, 1, 1, 0, 0, 0, 1, 1, 0, 1, 0, 0, 0, 0, 0, 1, 0, 0, 0, 0, 1, 1, 0, 0, 1, 0, 1, 1, 0, 0, 1, 0, 1, 1, 1, 1, 1, 0, 1, 1, 0, 1, 1, 0, 0, 0, 0, 0, 1, 0, 1, 0, 1, 0, 0, 1, 1, 0, 1, 0, 1, 1, 0, 0, 1, 0, 1, 1, 1, 0, 0, 0, 0, 0, 1, 0, 0, 0, 1, 1, 1, 0, 1, 0, 0, 1, 1, 0, 0, 0, 0, 0, 0, 0, 1, 0, 0, 0, 1, 0, 1, 1, 1, 0, 1, 0, 0, 0, 0, 0, 0, 0, 0, 0, 1, 1, 0, 1, 1, 1, 0, 0, 1, 0, 0, 1, 0, 0, 0, 0, 0, 0, 1, 0, 0, 1, 1, 1, 1, 0, 1, 0, 0, 0, 0, 0, 0, 0, 1, 1, 1, 0, 1, 1, 0, 1, 0, 0, 1, 0, 1, 0, 0, 0, 1, 0, 0, 0, 1, 0, 0, 0, 0, 0, 0, 0, 0, 0, 1, 1, 0, 1, 0, 1, 0, 0, 0, 0, 0, 1, 0, 0, 0, 0, 0, 1, 1, 0, 1, 0, 1, 1, 1, 1, 1, 0, 1, 0, 1, 1, 0, 0, 0, 0, 1, 1, 1, 0, 1, 1, 1, 0, 0, 1, 1], \"coloraxis\": \"coloraxis\", \"symbol\": \"circle\"}, \"mode\": \"markers\", \"name\": \"\", \"scene\": \"scene\", \"showlegend\": false, \"type\": \"scatter3d\", \"x\": [3, 3, 5, 2, 5, 2, 2, 5, 3, 3, 5, 2, 1, 4, 3, 2, 4, 4, 4, 3, 2, 3, 4, 3, 5, 4, 5, 2, 2, 3, 5, 2, 4, 4, 3, 1, 4, 4, 4, 1, 5, 3, 5, 1, 5, 5, 2, 1, 2, 2, 2, 4, 2, 2, 3, 5, 4, 5, 3, 2, 2, 4, 2, 4, 4, 5, 2, 4, 2, 4, 4, 3, 2, 1, 3, 5, 4, 4, 4, 2, 4, 4, 3, 4, 5, 4, 4, 3, 1, 2, 0, 5, 4, 3, 2, 4, 4, 3, 1, 3, 2, 5, 2, 3, 5, 3, 1, 4, 2, 2, 5, 3, 1, 2, 5, 2, 2, 5, 4, 3, 3, 4, 1, 5, 1, 4, 5, 3, 3, 4, 4, 4, 2, 3, 3, 5, 4, 3, 3, 4, 1, 4, 3, 3, 3, 3, 5, 4, 5, 4, 4, 3, 1, 2, 4, 4, 1, 4, 5, 3, 4, 5, 0, 5, 4, 5, 2, 2, 5, 5, 4, 4, 4, 4, 3, 3, 4, 4, 4, 4, 1, 3, 3, 5, 4, 3, 4, 3, 2, 3, 1, 2, 1, 3, 5, 0, 5, 5, 3, 2, 5, 4, 2, 5, 2, 1, 2, 1, 4, 3, 4, 3, 3, 5, 1, 1, 1, 1, 5, 2, 2, 2, 4, 2, 3, 5, 3, 4, 2, 1, 5, 5, 4, 3, 3, 2, 4, 3, 4, 5, 3, 5, 4, 3, 5, 5, 4, 3, 4, 2, 2, 3, 4, 1, 4, 3, 2, 3, 3, 4, 5, 5, 3, 5, 5, 4, 4, 2, 5, 5, 5, 3, 2, 3, 4, 5, 4, 3, 4, 4, 4, 3, 3, 2, 3, 2, 2, 5, 4, 4, 2, 4, 4, 4, 4, 5, 4, 2, 4, 4, 3, 5, 3, 5, 5, 2, 3, 4, 4, 2, 1, 5, 5, 4, 2, 4, 3, 4, 0, 5, 4, 5, 2, 2, 5, 2, 2, 4, 3, 2, 2, 5, 3, 5, 4, 1, 4, 4, 2, 4, 4, 1, 3, 2, 4, 1, 4, 5, 5, 3, 3, 3, 1, 5, 4, 5, 2, 3, 4, 0, 3, 0, 4, 5, 4, 4, 0, 5, 5, 4, 5, 4, 2, 4, 4, 5, 4, 2, 0, 4, 3, 1, 2, 4, 2, 4, 1, 5, 5, 4, 4, 2, 1, 2, 1, 3, 2, 2, 5, 2, 5, 3, 5, 5, 2, 2, 5, 3, 3, 3, 3, 4, 1, 1, 2, 4, 2, 3, 3, 1, 0, 4, 3, 4, 2, 2, 3, 4, 5, 3, 4, 5, 3, 2, 2, 5, 4, 4, 1, 3, 5, 5, 3, 3, 3, 3, 2, 1, 5, 4, 5, 4, 5, 2, 5, 4, 4, 3, 5, 3, 5, 2, 2, 4, 3, 5, 4, 5, 4, 2, 4, 3, 2, 5, 2, 1, 4, 5, 4, 2, 1, 4, 4, 5, 3, 5, 4, 5, 3, 1, 3, 2, 5, 2, 4, 2, 3, 2, 3, 4, 5, 4, 4, 5, 4, 1, 4, 3, 3, 3, 1, 4, 5, 1, 1, 5, 2, 4, 1, 4, 3, 2, 1, 4, 5, 4, 1, 2, 4, 2, 5, 3, 3, 5, 5, 5, 4, 4, 2, 5, 4, 5, 5, 5, 5, 3, 4, 4, 1, 2, 5, 3, 3, 4, 5, 3, 3, 3, 4, 3, 5, 2, 2, 3, 5, 2, 5, 5, 5, 5, 2, 3, 2, 4, 2, 4, 5, 4, 3, 4, 2, 2, 4, 4, 1, 3, 2, 1, 0, 4, 5, 1, 1, 5, 5, 4, 3, 2, 4, 3, 4, 3, 4, 1, 4, 0, 2, 4, 4, 5, 5, 4, 4, 0, 3, 5, 5, 3, 2, 5, 4, 3, 3, 5, 4, 4, 1, 5, 4, 5, 5, 5, 5, 4, 3, 4, 0, 4, 4, 2, 1, 4, 5, 5, 3, 4, 1, 3, 3, 2, 5, 5, 5, 5, 2, 4, 4, 2, 4, 4, 2, 2, 2, 2, 5, 4, 4, 4, 5, 3, 4, 3, 4, 2, 1, 4, 4, 3, 3, 3, 4, 2, 4, 5, 2, 1, 4, 3, 5, 3, 4, 2, 4, 3, 3, 4, 5, 1, 1, 4, 3, 1, 1, 2, 2, 5, 3, 5, 5, 4, 2, 4, 1, 2, 2, 5, 3, 5, 4, 4, 4, 1, 4, 4, 1, 1, 4, 2, 4, 3, 3, 5, 3, 4, 2, 3, 2, 3, 3, 3, 4, 0, 1, 4, 3, 1, 3, 5, 4, 5, 2, 3, 4, 3, 5, 5, 4, 4, 4, 5, 4, 4, 3, 0, 1, 4, 0, 5, 2, 3, 3, 2, 2, 4, 3, 4, 4, 4, 4, 2, 2, 5, 4, 3, 3, 3, 4, 1, 1, 2, 4, 2, 2, 3, 4, 5, 5, 2, 3, 5, 1, 4, 4, 2, 1, 4, 3, 5, 5, 5, 0, 5, 2, 4, 5, 5, 4, 5, 4, 3, 3, 2, 4, 5, 2, 4, 2, 2, 2, 3, 5, 4, 1, 2, 1, 5, 3, 2, 1, 4, 2, 5, 1, 5, 2, 3, 2, 2, 2, 4, 2, 3, 2, 3, 5, 5, 3, 5, 4, 0, 5, 3, 3, 2, 1, 1, 1, 4, 3, 5, 1, 2, 2, 4, 2, 5, 4, 4, 2, 5, 1, 3, 3, 3, 3, 3, 2, 4, 4, 5, 5, 4, 2, 4, 5, 3, 3, 1, 4, 1, 4, 1, 3, 4, 4, 3, 1, 5, 3, 4, 2, 4, 5, 5, 1, 2, 2, 4, 1, 4, 4, 1, 3, 4, 0, 5, 3, 4, 5, 3, 4, 2, 4, 3, 3, 5, 2, 2, 3, 4, 0, 4, 2, 1, 3, 2, 2, 3, 1, 3, 2, 2, 5, 4, 4, 3, 4, 3, 4, 1, 3, 1, 5, 2, 3, 3, 3, 4, 2, 4, 4, 5, 1, 5, 1, 1, 3, 4, 4, 0, 3, 5, 2, 4, 5, 1, 2, 3, 3, 4, 4, 4, 2, 5, 4, 4, 2, 3, 5, 3], \"y\": [5, 1, 5, 2, 3, 1, 2, 5, 1, 2, 2, 1, 1, 4, 2, 4, 4, 5, 5, 5, 2, 5, 3, 4, 1, 5, 4, 4, 3, 3, 5, 5, 3, 5, 1, 1, 5, 2, 4, 1, 4, 3, 4, 5, 3, 5, 4, 1, 5, 5, 2, 4, 5, 4, 4, 4, 5, 5, 4, 4, 3, 4, 4, 5, 4, 4, 4, 5, 2, 4, 5, 3, 5, 2, 1, 1, 2, 2, 4, 3, 4, 3, 5, 1, 4, 4, 5, 5, 4, 3, 4, 2, 4, 5, 3, 4, 5, 3, 5, 3, 3, 4, 5, 3, 5, 4, 1, 5, 1, 4, 4, 4, 1, 5, 4, 1, 3, 2, 3, 4, 1, 4, 3, 4, 5, 4, 4, 2, 3, 4, 2, 3, 3, 3, 1, 5, 5, 3, 1, 4, 3, 1, 3, 1, 5, 5, 5, 3, 4, 3, 2, 1, 5, 2, 5, 1, 4, 5, 3, 3, 4, 3, 2, 4, 5, 5, 5, 3, 1, 5, 4, 4, 4, 4, 3, 3, 4, 3, 5, 4, 5, 1, 4, 4, 1, 5, 4, 3, 1, 1, 2, 2, 1, 2, 2, 2, 4, 3, 2, 1, 5, 5, 2, 5, 2, 2, 4, 5, 1, 3, 4, 1, 2, 5, 3, 4, 2, 1, 4, 4, 3, 5, 4, 1, 4, 4, 5, 2, 3, 3, 5, 5, 4, 2, 4, 4, 3, 1, 3, 4, 3, 5, 4, 1, 4, 5, 4, 3, 4, 5, 1, 4, 4, 5, 4, 2, 4, 1, 3, 4, 5, 5, 4, 4, 5, 4, 2, 5, 4, 5, 3, 2, 3, 5, 5, 3, 5, 5, 4, 5, 4, 1, 5, 4, 1, 2, 3, 4, 1, 4, 2, 2, 4, 1, 4, 5, 4, 2, 4, 4, 4, 4, 5, 4, 1, 2, 2, 4, 4, 2, 4, 4, 3, 5, 2, 5, 1, 4, 1, 2, 3, 5, 5, 1, 5, 2, 5, 4, 5, 2, 4, 5, 1, 1, 3, 1, 5, 2, 2, 3, 1, 5, 1, 5, 3, 5, 2, 5, 5, 3, 4, 5, 4, 5, 2, 5, 2, 1, 4, 5, 3, 5, 4, 3, 4, 4, 5, 5, 5, 4, 3, 5, 4, 4, 4, 5, 4, 2, 5, 5, 2, 1, 5, 4, 1, 4, 4, 4, 4, 4, 4, 4, 5, 2, 4, 3, 2, 3, 5, 1, 5, 4, 5, 4, 1, 1, 2, 2, 5, 4, 1, 5, 4, 3, 3, 4, 1, 5, 4, 1, 3, 4, 5, 3, 4, 3, 2, 4, 5, 2, 4, 5, 5, 2, 1, 2, 4, 2, 5, 3, 5, 4, 4, 3, 2, 3, 2, 4, 4, 5, 5, 4, 5, 2, 5, 4, 2, 5, 5, 4, 5, 1, 2, 4, 3, 4, 0, 4, 5, 2, 1, 5, 2, 4, 2, 5, 3, 4, 3, 4, 2, 4, 1, 4, 2, 2, 2, 5, 1, 2, 5, 2, 5, 4, 4, 2, 1, 2, 3, 2, 5, 4, 5, 4, 2, 4, 4, 2, 5, 1, 4, 4, 4, 3, 4, 2, 1, 4, 3, 1, 4, 2, 4, 4, 4, 4, 3, 1, 4, 2, 3, 3, 3, 1, 4, 5, 4, 5, 3, 5, 4, 4, 5, 5, 3, 4, 4, 5, 3, 3, 2, 3, 5, 1, 4, 4, 2, 2, 4, 1, 4, 5, 5, 5, 5, 5, 4, 4, 4, 5, 3, 3, 2, 1, 1, 5, 5, 5, 1, 5, 5, 5, 3, 4, 1, 5, 5, 3, 3, 5, 5, 2, 2, 5, 5, 3, 3, 3, 3, 3, 4, 2, 2, 3, 4, 5, 3, 4, 3, 5, 3, 3, 4, 5, 3, 3, 5, 2, 1, 4, 4, 1, 2, 4, 1, 4, 4, 4, 4, 4, 5, 1, 4, 4, 4, 4, 1, 3, 5, 2, 1, 4, 5, 1, 3, 3, 4, 3, 2, 1, 5, 2, 3, 4, 5, 4, 2, 4, 3, 5, 4, 1, 4, 4, 2, 5, 4, 2, 2, 2, 4, 2, 4, 2, 4, 5, 5, 4, 4, 5, 5, 5, 5, 5, 2, 1, 2, 5, 1, 1, 4, 4, 5, 2, 4, 5, 5, 1, 2, 4, 3, 4, 4, 3, 2, 4, 3, 5, 4, 5, 3, 2, 1, 3, 2, 4, 1, 5, 5, 2, 4, 2, 4, 2, 4, 1, 2, 3, 5, 4, 3, 5, 3, 5, 2, 4, 2, 3, 3, 1, 1, 5, 2, 5, 1, 1, 1, 4, 5, 5, 2, 3, 5, 4, 5, 4, 4, 4, 2, 5, 5, 4, 3, 3, 5, 4, 4, 4, 1, 2, 4, 2, 3, 4, 3, 5, 5, 5, 3, 1, 1, 5, 5, 5, 2, 2, 2, 4, 5, 2, 5, 2, 4, 4, 3, 5, 5, 1, 2, 5, 1, 4, 5, 5, 3, 4, 2, 4, 5, 3, 2, 5, 2, 5, 4, 4, 5, 5, 4, 2, 2, 3, 3, 4, 2, 3, 1, 4, 3, 4, 5, 5, 3, 4, 5, 4, 5, 1, 3, 3, 5, 4, 5, 5, 3, 5, 1, 4, 1, 3, 4, 2, 2, 4, 5, 5, 1, 5, 5, 2, 5, 3, 4, 3, 4, 1, 4, 3, 4, 4, 1, 2, 3, 5, 2, 2, 4, 4, 3, 5, 1, 1, 3, 3, 1, 2, 3, 3, 4, 4, 5, 4, 2, 4, 4, 3, 3, 4, 3, 4, 4, 4, 4, 4, 1, 3, 4, 5, 3, 4, 5, 4, 5, 5, 3, 5, 3, 3, 1, 5, 2, 3, 4, 4, 1, 4, 2, 4, 2, 2, 5, 1, 4, 5, 2, 4, 3, 1, 1, 4, 2, 3, 2, 1, 3, 4, 4, 1, 5, 2, 2, 1, 3, 4, 5, 4, 5, 3, 5, 2, 3, 4, 5, 5, 5, 1, 3, 4, 2, 1, 1, 5, 3, 5, 3, 3, 5, 5, 1, 3, 1, 5, 2, 4, 5, 1, 4, 3, 3, 4, 4, 4, 3, 4, 3, 4, 5, 5, 1, 5], \"z\": [5, 1, 5, 2, 5, 1, 2, 5, 3, 3, 2, 1, 1, 4, 2, 1, 4, 4, 5, 5, 1, 5, 5, 4, 1, 5, 3, 1, 1, 1, 5, 5, 4, 5, 1, 1, 2, 2, 5, 1, 5, 3, 3, 4, 5, 5, 4, 1, 3, 5, 2, 4, 3, 4, 4, 5, 5, 5, 4, 4, 3, 4, 3, 4, 4, 4, 4, 5, 2, 4, 5, 3, 5, 2, 1, 1, 3, 2, 4, 4, 4, 3, 5, 1, 5, 4, 5, 2, 3, 3, 3, 2, 4, 1, 4, 4, 5, 3, 5, 4, 4, 4, 1, 3, 5, 4, 1, 5, 1, 4, 5, 4, 1, 5, 1, 1, 3, 4, 5, 4, 1, 4, 3, 5, 1, 1, 5, 4, 3, 4, 2, 1, 3, 3, 5, 5, 5, 3, 3, 4, 1, 1, 2, 5, 5, 5, 5, 4, 5, 4, 5, 4, 5, 2, 5, 1, 4, 5, 1, 4, 4, 4, 2, 4, 5, 5, 5, 5, 5, 4, 5, 5, 4, 5, 3, 3, 5, 3, 4, 4, 1, 4, 3, 4, 1, 1, 4, 3, 1, 1, 2, 2, 1, 2, 2, 5, 4, 5, 4, 1, 5, 4, 2, 5, 2, 1, 4, 2, 5, 4, 4, 3, 3, 5, 3, 5, 1, 1, 4, 4, 3, 1, 5, 1, 2, 5, 4, 3, 3, 3, 4, 5, 5, 2, 4, 3, 4, 1, 5, 4, 3, 3, 4, 1, 4, 5, 5, 3, 4, 5, 1, 4, 4, 5, 4, 4, 3, 1, 4, 4, 5, 4, 4, 4, 5, 4, 3, 1, 4, 1, 5, 5, 2, 1, 5, 4, 5, 3, 4, 5, 3, 3, 3, 4, 4, 2, 3, 4, 4, 4, 2, 4, 2, 1, 4, 5, 4, 1, 4, 4, 3, 5, 2, 5, 5, 2, 2, 4, 4, 2, 2, 4, 5, 4, 2, 5, 1, 4, 1, 2, 4, 4, 2, 1, 5, 2, 5, 5, 5, 2, 4, 3, 1, 1, 3, 4, 5, 4, 4, 1, 4, 5, 3, 5, 4, 5, 4, 4, 5, 5, 3, 5, 2, 4, 5, 5, 2, 4, 4, 5, 3, 5, 4, 5, 4, 4, 5, 4, 4, 2, 4, 5, 4, 4, 5, 5, 4, 1, 5, 4, 4, 1, 2, 5, 1, 4, 5, 5, 5, 5, 4, 4, 5, 2, 4, 3, 2, 2, 5, 1, 4, 4, 5, 3, 2, 1, 5, 3, 3, 4, 1, 4, 3, 3, 3, 4, 2, 5, 4, 1, 1, 5, 4, 4, 5, 4, 5, 4, 4, 3, 3, 5, 5, 2, 1, 4, 4, 5, 5, 2, 4, 4, 5, 4, 3, 3, 2, 4, 4, 5, 4, 4, 4, 2, 4, 4, 4, 4, 5, 4, 4, 1, 4, 4, 3, 5, 4, 4, 4, 2, 1, 2, 2, 5, 2, 1, 4, 5, 5, 5, 3, 5, 4, 4, 2, 5, 4, 4, 1, 2, 4, 2, 4, 2, 4, 2, 1, 2, 3, 4, 5, 4, 4, 4, 2, 4, 4, 2, 4, 1, 3, 4, 4, 3, 1, 2, 3, 5, 3, 4, 3, 2, 3, 3, 3, 4, 3, 1, 5, 2, 4, 4, 3, 2, 4, 5, 3, 5, 3, 5, 3, 5, 5, 5, 4, 4, 4, 4, 5, 3, 4, 3, 5, 1, 5, 2, 4, 5, 4, 1, 4, 5, 5, 5, 5, 2, 4, 5, 5, 4, 3, 3, 5, 1, 1, 5, 5, 5, 1, 5, 1, 3, 4, 4, 2, 5, 5, 4, 3, 1, 5, 2, 2, 4, 5, 5, 3, 5, 4, 3, 4, 2, 2, 4, 4, 5, 3, 4, 3, 5, 5, 3, 4, 5, 3, 5, 5, 2, 1, 5, 1, 1, 2, 4, 1, 4, 1, 5, 5, 2, 5, 5, 5, 4, 3, 4, 1, 3, 5, 3, 1, 4, 5, 1, 3, 3, 2, 5, 2, 5, 5, 2, 5, 4, 5, 4, 2, 4, 3, 5, 4, 1, 2, 4, 2, 4, 4, 2, 4, 3, 1, 4, 4, 2, 2, 5, 3, 4, 1, 5, 4, 2, 5, 5, 2, 1, 2, 5, 1, 4, 4, 4, 4, 2, 4, 5, 5, 1, 5, 5, 3, 3, 4, 2, 2, 4, 3, 4, 4, 5, 2, 5, 1, 5, 2, 5, 1, 5, 5, 3, 4, 1, 4, 3, 4, 1, 5, 3, 4, 5, 3, 5, 3, 3, 2, 3, 2, 3, 3, 3, 4, 5, 2, 4, 1, 1, 1, 5, 4, 5, 2, 3, 4, 4, 5, 5, 4, 4, 3, 5, 5, 4, 3, 3, 5, 4, 4, 4, 1, 2, 4, 5, 3, 3, 3, 5, 5, 5, 3, 2, 4, 5, 5, 3, 2, 4, 2, 4, 5, 5, 4, 2, 2, 4, 3, 5, 5, 1, 4, 5, 1, 4, 4, 5, 2, 1, 2, 5, 5, 4, 2, 5, 1, 1, 5, 4, 5, 5, 4, 3, 2, 3, 3, 4, 2, 4, 1, 3, 3, 4, 5, 4, 3, 3, 5, 5, 4, 5, 3, 5, 5, 5, 1, 5, 3, 5, 1, 4, 1, 3, 2, 2, 2, 4, 5, 4, 1, 4, 3, 2, 5, 3, 3, 4, 4, 1, 4, 4, 3, 4, 1, 2, 3, 5, 2, 5, 4, 4, 3, 5, 1, 3, 3, 4, 1, 2, 3, 4, 4, 4, 4, 4, 2, 4, 5, 2, 3, 1, 5, 4, 4, 2, 3, 5, 3, 1, 4, 5, 3, 4, 2, 5, 5, 5, 1, 1, 3, 5, 3, 5, 3, 3, 1, 4, 1, 4, 3, 5, 4, 3, 4, 1, 4, 5, 2, 4, 3, 1, 3, 4, 2, 3, 2, 1, 3, 3, 4, 1, 3, 2, 2, 1, 3, 4, 5, 1, 5, 3, 4, 2, 3, 1, 5, 5, 4, 1, 3, 4, 4, 4, 1, 4, 3, 5, 3, 3, 4, 3, 5, 3, 1, 4, 2, 4, 5, 2, 4, 3, 3, 4, 4, 4, 3, 5, 4, 4, 1, 5, 4, 5]}],\n",
              "                        {\"coloraxis\": {\"colorbar\": {\"title\": {\"text\": \"satisfaction\"}}, \"colorscale\": [[0.0, \"#0d0887\"], [0.1111111111111111, \"#46039f\"], [0.2222222222222222, \"#7201a8\"], [0.3333333333333333, \"#9c179e\"], [0.4444444444444444, \"#bd3786\"], [0.5555555555555556, \"#d8576b\"], [0.6666666666666666, \"#ed7953\"], [0.7777777777777778, \"#fb9f3a\"], [0.8888888888888888, \"#fdca26\"], [1.0, \"#f0f921\"]]}, \"legend\": {\"tracegroupgap\": 0}, \"margin\": {\"t\": 60}, \"scene\": {\"domain\": {\"x\": [0.0, 1.0], \"y\": [0.0, 1.0]}, \"xaxis\": {\"title\": {\"text\": \"Online boarding\"}}, \"yaxis\": {\"title\": {\"text\": \"Inflight entertainment\"}}, \"zaxis\": {\"title\": {\"text\": \"Seat comfort\"}}}, \"template\": {\"data\": {\"bar\": [{\"error_x\": {\"color\": \"#2a3f5f\"}, \"error_y\": {\"color\": \"#2a3f5f\"}, \"marker\": {\"line\": {\"color\": \"#E5ECF6\", \"width\": 0.5}}, \"type\": \"bar\"}], \"barpolar\": [{\"marker\": {\"line\": {\"color\": \"#E5ECF6\", \"width\": 0.5}}, \"type\": \"barpolar\"}], \"carpet\": [{\"aaxis\": {\"endlinecolor\": \"#2a3f5f\", \"gridcolor\": \"white\", \"linecolor\": \"white\", \"minorgridcolor\": \"white\", \"startlinecolor\": \"#2a3f5f\"}, \"baxis\": {\"endlinecolor\": \"#2a3f5f\", \"gridcolor\": \"white\", \"linecolor\": \"white\", \"minorgridcolor\": \"white\", \"startlinecolor\": \"#2a3f5f\"}, \"type\": \"carpet\"}], \"choropleth\": [{\"colorbar\": {\"outlinewidth\": 0, \"ticks\": \"\"}, \"type\": \"choropleth\"}], \"contour\": [{\"colorbar\": {\"outlinewidth\": 0, \"ticks\": \"\"}, \"colorscale\": [[0.0, \"#0d0887\"], [0.1111111111111111, \"#46039f\"], [0.2222222222222222, \"#7201a8\"], [0.3333333333333333, \"#9c179e\"], [0.4444444444444444, \"#bd3786\"], [0.5555555555555556, \"#d8576b\"], [0.6666666666666666, \"#ed7953\"], [0.7777777777777778, \"#fb9f3a\"], [0.8888888888888888, \"#fdca26\"], [1.0, \"#f0f921\"]], \"type\": \"contour\"}], \"contourcarpet\": [{\"colorbar\": {\"outlinewidth\": 0, \"ticks\": \"\"}, \"type\": \"contourcarpet\"}], \"heatmap\": [{\"colorbar\": {\"outlinewidth\": 0, \"ticks\": \"\"}, \"colorscale\": [[0.0, \"#0d0887\"], [0.1111111111111111, \"#46039f\"], [0.2222222222222222, \"#7201a8\"], [0.3333333333333333, \"#9c179e\"], [0.4444444444444444, \"#bd3786\"], [0.5555555555555556, \"#d8576b\"], [0.6666666666666666, \"#ed7953\"], [0.7777777777777778, \"#fb9f3a\"], [0.8888888888888888, \"#fdca26\"], [1.0, \"#f0f921\"]], \"type\": \"heatmap\"}], \"heatmapgl\": [{\"colorbar\": {\"outlinewidth\": 0, \"ticks\": \"\"}, \"colorscale\": [[0.0, \"#0d0887\"], [0.1111111111111111, \"#46039f\"], [0.2222222222222222, \"#7201a8\"], [0.3333333333333333, \"#9c179e\"], [0.4444444444444444, \"#bd3786\"], [0.5555555555555556, \"#d8576b\"], [0.6666666666666666, \"#ed7953\"], [0.7777777777777778, \"#fb9f3a\"], [0.8888888888888888, \"#fdca26\"], [1.0, \"#f0f921\"]], \"type\": \"heatmapgl\"}], \"histogram\": [{\"marker\": {\"colorbar\": {\"outlinewidth\": 0, \"ticks\": \"\"}}, \"type\": \"histogram\"}], \"histogram2d\": [{\"colorbar\": {\"outlinewidth\": 0, \"ticks\": \"\"}, \"colorscale\": [[0.0, \"#0d0887\"], [0.1111111111111111, \"#46039f\"], [0.2222222222222222, \"#7201a8\"], [0.3333333333333333, \"#9c179e\"], [0.4444444444444444, \"#bd3786\"], [0.5555555555555556, \"#d8576b\"], [0.6666666666666666, \"#ed7953\"], [0.7777777777777778, \"#fb9f3a\"], [0.8888888888888888, \"#fdca26\"], [1.0, \"#f0f921\"]], \"type\": \"histogram2d\"}], \"histogram2dcontour\": [{\"colorbar\": {\"outlinewidth\": 0, \"ticks\": \"\"}, \"colorscale\": [[0.0, \"#0d0887\"], [0.1111111111111111, \"#46039f\"], [0.2222222222222222, \"#7201a8\"], [0.3333333333333333, \"#9c179e\"], [0.4444444444444444, \"#bd3786\"], [0.5555555555555556, \"#d8576b\"], [0.6666666666666666, \"#ed7953\"], [0.7777777777777778, \"#fb9f3a\"], [0.8888888888888888, \"#fdca26\"], [1.0, \"#f0f921\"]], \"type\": \"histogram2dcontour\"}], \"mesh3d\": [{\"colorbar\": {\"outlinewidth\": 0, \"ticks\": \"\"}, \"type\": \"mesh3d\"}], \"parcoords\": [{\"line\": {\"colorbar\": {\"outlinewidth\": 0, \"ticks\": \"\"}}, \"type\": \"parcoords\"}], \"pie\": [{\"automargin\": true, \"type\": \"pie\"}], \"scatter\": [{\"marker\": {\"colorbar\": {\"outlinewidth\": 0, \"ticks\": \"\"}}, \"type\": \"scatter\"}], \"scatter3d\": [{\"line\": {\"colorbar\": {\"outlinewidth\": 0, \"ticks\": \"\"}}, \"marker\": {\"colorbar\": {\"outlinewidth\": 0, \"ticks\": \"\"}}, \"type\": \"scatter3d\"}], \"scattercarpet\": [{\"marker\": {\"colorbar\": {\"outlinewidth\": 0, \"ticks\": \"\"}}, \"type\": \"scattercarpet\"}], \"scattergeo\": [{\"marker\": {\"colorbar\": {\"outlinewidth\": 0, \"ticks\": \"\"}}, \"type\": \"scattergeo\"}], \"scattergl\": [{\"marker\": {\"colorbar\": {\"outlinewidth\": 0, \"ticks\": \"\"}}, \"type\": \"scattergl\"}], \"scattermapbox\": [{\"marker\": {\"colorbar\": {\"outlinewidth\": 0, \"ticks\": \"\"}}, \"type\": \"scattermapbox\"}], \"scatterpolar\": [{\"marker\": {\"colorbar\": {\"outlinewidth\": 0, \"ticks\": \"\"}}, \"type\": \"scatterpolar\"}], \"scatterpolargl\": [{\"marker\": {\"colorbar\": {\"outlinewidth\": 0, \"ticks\": \"\"}}, \"type\": \"scatterpolargl\"}], \"scatterternary\": [{\"marker\": {\"colorbar\": {\"outlinewidth\": 0, \"ticks\": \"\"}}, \"type\": \"scatterternary\"}], \"surface\": [{\"colorbar\": {\"outlinewidth\": 0, \"ticks\": \"\"}, \"colorscale\": [[0.0, \"#0d0887\"], [0.1111111111111111, \"#46039f\"], [0.2222222222222222, \"#7201a8\"], [0.3333333333333333, \"#9c179e\"], [0.4444444444444444, \"#bd3786\"], [0.5555555555555556, \"#d8576b\"], [0.6666666666666666, \"#ed7953\"], [0.7777777777777778, \"#fb9f3a\"], [0.8888888888888888, \"#fdca26\"], [1.0, \"#f0f921\"]], \"type\": \"surface\"}], \"table\": [{\"cells\": {\"fill\": {\"color\": \"#EBF0F8\"}, \"line\": {\"color\": \"white\"}}, \"header\": {\"fill\": {\"color\": \"#C8D4E3\"}, \"line\": {\"color\": \"white\"}}, \"type\": \"table\"}]}, \"layout\": {\"annotationdefaults\": {\"arrowcolor\": \"#2a3f5f\", \"arrowhead\": 0, \"arrowwidth\": 1}, \"coloraxis\": {\"colorbar\": {\"outlinewidth\": 0, \"ticks\": \"\"}}, \"colorscale\": {\"diverging\": [[0, \"#8e0152\"], [0.1, \"#c51b7d\"], [0.2, \"#de77ae\"], [0.3, \"#f1b6da\"], [0.4, \"#fde0ef\"], [0.5, \"#f7f7f7\"], [0.6, \"#e6f5d0\"], [0.7, \"#b8e186\"], [0.8, \"#7fbc41\"], [0.9, \"#4d9221\"], [1, \"#276419\"]], \"sequential\": [[0.0, \"#0d0887\"], [0.1111111111111111, \"#46039f\"], [0.2222222222222222, \"#7201a8\"], [0.3333333333333333, \"#9c179e\"], [0.4444444444444444, \"#bd3786\"], [0.5555555555555556, \"#d8576b\"], [0.6666666666666666, \"#ed7953\"], [0.7777777777777778, \"#fb9f3a\"], [0.8888888888888888, \"#fdca26\"], [1.0, \"#f0f921\"]], \"sequentialminus\": [[0.0, \"#0d0887\"], [0.1111111111111111, \"#46039f\"], [0.2222222222222222, \"#7201a8\"], [0.3333333333333333, \"#9c179e\"], [0.4444444444444444, \"#bd3786\"], [0.5555555555555556, \"#d8576b\"], [0.6666666666666666, \"#ed7953\"], [0.7777777777777778, \"#fb9f3a\"], [0.8888888888888888, \"#fdca26\"], [1.0, \"#f0f921\"]]}, \"colorway\": [\"#636efa\", \"#EF553B\", \"#00cc96\", \"#ab63fa\", \"#FFA15A\", \"#19d3f3\", \"#FF6692\", \"#B6E880\", \"#FF97FF\", \"#FECB52\"], \"font\": {\"color\": \"#2a3f5f\"}, \"geo\": {\"bgcolor\": \"white\", \"lakecolor\": \"white\", \"landcolor\": \"#E5ECF6\", \"showlakes\": true, \"showland\": true, \"subunitcolor\": \"white\"}, \"hoverlabel\": {\"align\": \"left\"}, \"hovermode\": \"closest\", \"mapbox\": {\"style\": \"light\"}, \"paper_bgcolor\": \"white\", \"plot_bgcolor\": \"#E5ECF6\", \"polar\": {\"angularaxis\": {\"gridcolor\": \"white\", \"linecolor\": \"white\", \"ticks\": \"\"}, \"bgcolor\": \"#E5ECF6\", \"radialaxis\": {\"gridcolor\": \"white\", \"linecolor\": \"white\", \"ticks\": \"\"}}, \"scene\": {\"xaxis\": {\"backgroundcolor\": \"#E5ECF6\", \"gridcolor\": \"white\", \"gridwidth\": 2, \"linecolor\": \"white\", \"showbackground\": true, \"ticks\": \"\", \"zerolinecolor\": \"white\"}, \"yaxis\": {\"backgroundcolor\": \"#E5ECF6\", \"gridcolor\": \"white\", \"gridwidth\": 2, \"linecolor\": \"white\", \"showbackground\": true, \"ticks\": \"\", \"zerolinecolor\": \"white\"}, \"zaxis\": {\"backgroundcolor\": \"#E5ECF6\", \"gridcolor\": \"white\", \"gridwidth\": 2, \"linecolor\": \"white\", \"showbackground\": true, \"ticks\": \"\", \"zerolinecolor\": \"white\"}}, \"shapedefaults\": {\"line\": {\"color\": \"#2a3f5f\"}}, \"ternary\": {\"aaxis\": {\"gridcolor\": \"white\", \"linecolor\": \"white\", \"ticks\": \"\"}, \"baxis\": {\"gridcolor\": \"white\", \"linecolor\": \"white\", \"ticks\": \"\"}, \"bgcolor\": \"#E5ECF6\", \"caxis\": {\"gridcolor\": \"white\", \"linecolor\": \"white\", \"ticks\": \"\"}}, \"title\": {\"x\": 0.05}, \"xaxis\": {\"automargin\": true, \"gridcolor\": \"white\", \"linecolor\": \"white\", \"ticks\": \"\", \"title\": {\"standoff\": 15}, \"zerolinecolor\": \"white\", \"zerolinewidth\": 2}, \"yaxis\": {\"automargin\": true, \"gridcolor\": \"white\", \"linecolor\": \"white\", \"ticks\": \"\", \"title\": {\"standoff\": 15}, \"zerolinecolor\": \"white\", \"zerolinewidth\": 2}}}},\n",
              "                        {\"responsive\": true}\n",
              "                    ).then(function(){\n",
              "                            \n",
              "var gd = document.getElementById('da25096e-0043-49db-9a53-2297d1bf7407');\n",
              "var x = new MutationObserver(function (mutations, observer) {{\n",
              "        var display = window.getComputedStyle(gd).display;\n",
              "        if (!display || display === 'none') {{\n",
              "            console.log([gd, 'removed!']);\n",
              "            Plotly.purge(gd);\n",
              "            observer.disconnect();\n",
              "        }}\n",
              "}});\n",
              "\n",
              "// Listen for the removal of the full notebook cells\n",
              "var notebookContainer = gd.closest('#notebook-container');\n",
              "if (notebookContainer) {{\n",
              "    x.observe(notebookContainer, {childList: true});\n",
              "}}\n",
              "\n",
              "// Listen for the clearing of the current output cell\n",
              "var outputEl = gd.closest('.output');\n",
              "if (outputEl) {{\n",
              "    x.observe(outputEl, {childList: true});\n",
              "}}\n",
              "\n",
              "                        })\n",
              "                };\n",
              "                \n",
              "            </script>\n",
              "        </div>\n",
              "</body>\n",
              "</html>"
            ]
          },
          "metadata": {}
        }
      ]
    },
    {
      "cell_type": "markdown",
      "metadata": {
        "id": "Xfs3WbOdadHd"
      },
      "source": [
        "### Prediction using Ml algorithms"
      ],
      "id": "Xfs3WbOdadHd"
    },
    {
      "cell_type": "markdown",
      "metadata": {
        "id": "35a1c646"
      },
      "source": [
        "### Implementation of Decision Tree Algorithm"
      ],
      "id": "35a1c646"
    },
    {
      "cell_type": "code",
      "metadata": {
        "id": "ab211ed5"
      },
      "source": [
        "from collections import Counter\n",
        "\n",
        "def entropy(y):\n",
        "    hist = np.bincount(y)\n",
        "    ps = hist / len(y)\n",
        "    return -np.sum([p * np.log2(p) for p in ps if p > 0])\n",
        "\n",
        "class Node:\n",
        "    def __init__(self, feature=None, threshold=None, left=None, right=None, *, value=None):\n",
        "        self.feature = feature\n",
        "        self.threshold = threshold\n",
        "        self.left = left\n",
        "        self.right = right\n",
        "        self.value = value\n",
        "        \n",
        "    def is_leaf_node(self):\n",
        "        return self.value is not None\n",
        "\n",
        "class DecisionTree:\n",
        "    def __init__(self, min_samples_split=2, max_depth=100, n_feats=None):\n",
        "        self.min_samples_split = min_samples_split\n",
        "        self.max_depth = max_depth\n",
        "        self.n_feats = n_feats\n",
        "        self.root = None\n",
        "        \n",
        "    def fit(self, X, y):\n",
        "        self.n_feats = X.shape[1] if not self.n_feats else min(self.n_feats, X.shape[1])\n",
        "        self.root = self._grow_tree(X, y)\n",
        "        \n",
        "    def _grow_tree(self, X, y, depth=0):\n",
        "        n_samples, n_features = X.shape\n",
        "        n_labels = len(np.unique(y))\n",
        "        \n",
        "        if(depth >= self.max_depth\n",
        "          or n_labels == 1\n",
        "          or n_samples < self.min_samples_split):\n",
        "            leaf_value = self._most_common_label(y)\n",
        "            return Node(value=leaf_value)\n",
        "        \n",
        "        feat_idxs = np.random.choice(n_features, self.n_feats, replace=False)\n",
        "        \n",
        "        # greedy approach\n",
        "        best_feat, best_thresh = self._best_criteria(X, y, feat_idxs)\n",
        "        left_idxs, right_idxs = self._split(X[:, best_feat], best_thresh)\n",
        "        left = self._grow_tree(X[left_idxs, :], y[left_idxs], depth + 1)\n",
        "        right = self._grow_tree(X[right_idxs, :], y[right_idxs], depth + 1)\n",
        "        return Node(best_feat, best_thresh, left, right)\n",
        "        \n",
        "    def _best_criteria(self, X, y, feat_idxs):\n",
        "        best_gain = -1\n",
        "        split_idx, split_thresh = None, None\n",
        "        for feat_idx in feat_idxs:\n",
        "            X_column = X[:, feat_idx]\n",
        "            thresholds = np.unique(X_column)\n",
        "            for threshold in thresholds:\n",
        "                gain = self._information_gain(y, X_column, threshold)\n",
        "                \n",
        "                if gain > best_gain:\n",
        "                    best_gain = gain\n",
        "                    split_idx = feat_idx\n",
        "                    split_thresh = threshold\n",
        "                    \n",
        "        return split_idx, split_thresh\n",
        "    \n",
        "    def _information_gain(self, y, X_column, split_thresh):\n",
        "        # parent Entropy\n",
        "        parent_entropy = entropy(y)\n",
        "        \n",
        "        # generate split\n",
        "        left_idxs, right_idxs = self._split(X_column, split_thresh)\n",
        "        \n",
        "        if len(left_idxs) == 0 or len(right_idxs) == 0:\n",
        "            return 0\n",
        "        \n",
        "        # weighted avg of child E\n",
        "        n = len(y)\n",
        "        n_l, n_r = len(left_idxs), len(right_idxs)\n",
        "        e_l, e_r = entropy(y[left_idxs]), entropy(y[right_idxs])\n",
        "        child_entropy = (n_l/n) * e_l + (n_r/n) * e_r\n",
        "        \n",
        "        # return ig\n",
        "        ig = parent_entropy - child_entropy\n",
        "        return ig\n",
        "    \n",
        "    def _split(self, X_column, split_thresh):\n",
        "        left_idxs = np.argwhere(X_column <= split_thresh).flatten()\n",
        "        right_idxs = np.argwhere(X_column > split_thresh).flatten()\n",
        "        return left_idxs, right_idxs\n",
        "        \n",
        "    def _most_common_label(self, y):\n",
        "        counter = Counter(y) \n",
        "        most_common = counter.most_common(1)[0][0]\n",
        "        return most_common\n",
        "    \n",
        "    def predict(self, X):\n",
        "        # traverse tree\n",
        "        return np.array([self._traverse_tree(x, self.root) for x in X])\n",
        "    \n",
        "    def _traverse_tree(self, x, node):\n",
        "        # check for stopping criteria\n",
        "        if node.is_leaf_node():\n",
        "            return node.value\n",
        "        \n",
        "        if x[node.feature] <= node.threshold:\n",
        "            return self._traverse_tree(x, node.left)\n",
        "        return self._traverse_tree(x, node.right)\n",
        "        "
      ],
      "id": "ab211ed5",
      "execution_count": 66,
      "outputs": []
    },
    {
      "cell_type": "code",
      "metadata": {
        "colab": {
          "base_uri": "https://localhost:8080/"
        },
        "id": "dPqMGMjinqqP",
        "outputId": "6da12085-a595-413f-e3d7-7ab6909235fd"
      },
      "source": [
        "X.shape"
      ],
      "id": "dPqMGMjinqqP",
      "execution_count": 67,
      "outputs": [
        {
          "output_type": "execute_result",
          "data": {
            "text/plain": [
              "(25974, 22)"
            ]
          },
          "metadata": {},
          "execution_count": 67
        }
      ]
    },
    {
      "cell_type": "code",
      "metadata": {
        "colab": {
          "base_uri": "https://localhost:8080/"
        },
        "id": "a636a8e4",
        "outputId": "14cdac0d-584b-42cb-d176-2ecd080396eb"
      },
      "source": [
        "# predicting accuracy using DecisionTree class built from scratch\n",
        "\n",
        "from sklearn.model_selection import train_test_split\n",
        "\n",
        "def accuracy(y_test, y_pred):\n",
        "    accuracy = np.sum(y_test == y_pred) / len(y_test)\n",
        "    return accuracy\n",
        "\n",
        "X_train, X_test, y_train, y_test = train_test_split(X, y, test_size=0.2, random_state=1234)\n",
        "#print(X_train, y_train)\n",
        "#type(X_train)\n",
        "#print(X_train.shape)\n",
        "#print(X_test.shape)\n",
        "\n",
        "clf = DecisionTree(max_depth=10)\n",
        "print(clf)\n",
        "clf.fit(X_train, y_train)\n",
        "\n",
        "y_pred = clf.predict(X_test)\n",
        "acc1 = accuracy(y_test, y_pred)\n",
        "\n",
        "print(\"Accuracy: \", acc1)"
      ],
      "id": "a636a8e4",
      "execution_count": 68,
      "outputs": [
        {
          "output_type": "stream",
          "name": "stdout",
          "text": [
            "<__main__.DecisionTree object at 0x7f07773544d0>\n",
            "Accuracy:  0.9357074109720885\n"
          ]
        }
      ]
    },
    {
      "cell_type": "markdown",
      "metadata": {
        "id": "opfzrqvhvx9s"
      },
      "source": [
        "#### Confusion matrix for DT "
      ],
      "id": "opfzrqvhvx9s"
    },
    {
      "cell_type": "code",
      "metadata": {
        "colab": {
          "base_uri": "https://localhost:8080/"
        },
        "id": "bvA-PeVrv0-6",
        "outputId": "856dacfa-699c-43a1-a9ed-a6a96911834e"
      },
      "source": [
        "from sklearn.metrics import confusion_matrix\n",
        "cm = confusion_matrix(y_test, y_pred)\n",
        "print(cm)"
      ],
      "id": "bvA-PeVrv0-6",
      "execution_count": 69,
      "outputs": [
        {
          "output_type": "stream",
          "name": "stdout",
          "text": [
            "[[2784  186]\n",
            " [ 148 2077]]\n"
          ]
        }
      ]
    },
    {
      "cell_type": "code",
      "metadata": {
        "colab": {
          "base_uri": "https://localhost:8080/",
          "height": 243
        },
        "id": "nkNq5gNJwJnB",
        "outputId": "6d0d3b67-2f20-4622-f257-c3fdf950a0db"
      },
      "source": [
        "sns.set(font_scale=1.5)\n",
        "\n",
        "def plot_conf_mat(y_test, y_pred):\n",
        "    \n",
        "    fig, ax = plt.subplots(figsize=(3, 3))\n",
        "    ax = sns.heatmap(confusion_matrix(y_test, y_pred),\n",
        "                     annot=True, \n",
        "                     cbar=False,\n",
        "                    fmt='g', # not to use scientific notation\n",
        "                    cmap='Blues')\n",
        "    \n",
        "    plt.xlabel(\"true label\", weight='bold')\n",
        "    plt.ylabel(\"predicted label\", weight='bold')\n",
        "    \n",
        "plot_conf_mat(y_test, y_pred)"
      ],
      "id": "nkNq5gNJwJnB",
      "execution_count": 70,
      "outputs": [
        {
          "output_type": "display_data",
          "data": {
            "image/png": "[encoded data removed]",
            "text/plain": [
              "<Figure size 216x216 with 1 Axes>"
            ]
          },
          "metadata": {}
        }
      ]
    },
    {
      "cell_type": "code",
      "metadata": {
        "colab": {
          "base_uri": "https://localhost:8080/"
        },
        "id": "6yiUly33tpHQ",
        "outputId": "80caecb6-f744-463c-8b07-e1e9d3aa387a"
      },
      "source": [
        "# predicting accuracy using DecisionTree class built from scratch using normalized data\n",
        "\n",
        "from sklearn.model_selection import train_test_split\n",
        "\n",
        "def accuracy(y_test, y_pred):\n",
        "    accuracy = np.sum(y_test == y_pred) / len(y_test)\n",
        "    return accuracy\n",
        "\n",
        "X_train, X_test, y_train, y_test = train_test_split(X_norm, y, test_size=0.2, random_state=1234)\n",
        "#print(X_train, y_train)\n",
        "#type(X_train)\n",
        "#print(X_train.shape)\n",
        "#print(X_test.shape)\n",
        "\n",
        "clf = DecisionTree(max_depth=10)\n",
        "print(clf)\n",
        "clf.fit(X_train, y_train)\n",
        "\n",
        "y_pred = clf.predict(X_test)\n",
        "acc = accuracy(y_test, y_pred)\n",
        "\n",
        "print(\"Accuracy: \", acc)"
      ],
      "id": "6yiUly33tpHQ",
      "execution_count": 101,
      "outputs": [
        {
          "output_type": "stream",
          "name": "stdout",
          "text": [
            "<__main__.DecisionTree object at 0x7f654119d7d0>\n",
            "Accuracy:  0.887776708373436\n"
          ]
        }
      ]
    },
    {
      "cell_type": "code",
      "metadata": {
        "colab": {
          "base_uri": "https://localhost:8080/"
        },
        "id": "6FdgxqBKuRIP",
        "outputId": "a0fbc825-96b0-4990-b941-e03f2a122bc8"
      },
      "source": [
        "# predicting accuracy using DecisionTree class built from scratch using standardized data\n",
        "\n",
        "from sklearn.model_selection import train_test_split\n",
        "\n",
        "def accuracy(y_test, y_pred):\n",
        "    accuracy = np.sum(y_test == y_pred) / len(y_test)\n",
        "    return accuracy\n",
        "\n",
        "X_train, X_test, y_train, y_test = train_test_split(X_scaled, y, test_size=0.2, random_state=1234)\n",
        "#print(X_train, y_train)\n",
        "#type(X_train)\n",
        "#print(X_train.shape)\n",
        "#print(X_test.shape)\n",
        "\n",
        "clf = DecisionTree(max_depth=10)\n",
        "print(clf)\n",
        "clf.fit(X_train, y_train)\n",
        "\n",
        "y_pred = clf.predict(X_test)\n",
        "acc = accuracy(y_test, y_pred)\n",
        "\n",
        "print(\"Accuracy: \", acc)"
      ],
      "id": "6FdgxqBKuRIP",
      "execution_count": 182,
      "outputs": [
        {
          "output_type": "stream",
          "name": "stdout",
          "text": [
            "<__main__.DecisionTree object at 0x7f9b0e122850>\n",
            "Accuracy:  0.9143407122232916\n"
          ]
        }
      ]
    },
    {
      "cell_type": "markdown",
      "metadata": {
        "id": "3ef78ec4"
      },
      "source": [
        "### Using inbuilt decision tree classifier"
      ],
      "id": "3ef78ec4"
    },
    {
      "cell_type": "code",
      "metadata": {
        "id": "64ff5dc6",
        "colab": {
          "base_uri": "https://localhost:8080/"
        },
        "outputId": "dfa3ee4b-53a4-4757-f162-3413daf09b31"
      },
      "source": [
        "from sklearn.tree import DecisionTreeClassifier\n",
        "from sklearn.metrics import accuracy_score\n",
        "\n",
        "clf = DecisionTreeClassifier(max_depth=10)\n",
        "clf.fit(X_train, y_train)\n",
        "y_pred = clf.predict(X_test)\n",
        "\n",
        "acc = accuracy_score(y_test, y_pred)\n",
        "print(acc)"
      ],
      "id": "64ff5dc6",
      "execution_count": 71,
      "outputs": [
        {
          "output_type": "stream",
          "name": "stdout",
          "text": [
            "0.9384023099133783\n"
          ]
        }
      ]
    },
    {
      "cell_type": "code",
      "metadata": {
        "colab": {
          "base_uri": "https://localhost:8080/"
        },
        "id": "8QcHYO1GnUYX",
        "outputId": "006b1d98-f04b-4bb4-e403-e88852e53573"
      },
      "source": [
        "X_train.shape"
      ],
      "id": "8QcHYO1GnUYX",
      "execution_count": 55,
      "outputs": [
        {
          "output_type": "execute_result",
          "data": {
            "text/plain": [
              "(20779, 22)"
            ]
          },
          "metadata": {},
          "execution_count": 55
        }
      ]
    },
    {
      "cell_type": "markdown",
      "metadata": {
        "id": "2cb24154"
      },
      "source": [
        "### Splitting the dataset using KFold cross validation"
      ],
      "id": "2cb24154"
    },
    {
      "cell_type": "markdown",
      "metadata": {
        "id": "cfbe1814"
      },
      "source": [
        "#### a) Partitioning and K-fold Cross Validation"
      ],
      "id": "cfbe1814"
    },
    {
      "cell_type": "code",
      "metadata": {
        "id": "a2b8f083"
      },
      "source": [
        "from sklearn.model_selection import KFold \n",
        "kf = KFold(n_splits=5, random_state=None) \n",
        "for train_index, test_index in kf.split(X):\n",
        "    X_train, X_test = X[train_index], X[test_index] \n",
        "    y_train, y_test = y[train_index], y[test_index]"
      ],
      "id": "a2b8f083",
      "execution_count": 72,
      "outputs": []
    },
    {
      "cell_type": "code",
      "metadata": {
        "id": "723066df",
        "colab": {
          "base_uri": "https://localhost:8080/"
        },
        "outputId": "ec24a015-855e-4fd0-fe24-ccc35e2688ff"
      },
      "source": [
        "# predicting accuracy using sklearn inbuilt DecisionTreeClassifier\n",
        "\n",
        "from sklearn.tree import DecisionTreeClassifier\n",
        "\n",
        "def accuracy(y_test, y_pred):\n",
        "    accuracy = np.sum(y_test == y_pred) / len(y_test)\n",
        "    return accuracy\n",
        "\n",
        "clf = DecisionTree(max_depth=10)\n",
        "clf.fit(X_train, y_train)\n",
        "\n",
        "y_pred = clf.predict(X_test)\n",
        "acc = accuracy(y_test, y_pred)\n",
        "\n",
        "print(\"Accuracy: \", acc)"
      ],
      "id": "723066df",
      "execution_count": 73,
      "outputs": [
        {
          "output_type": "stream",
          "name": "stdout",
          "text": [
            "Accuracy:  0.931651906045437\n"
          ]
        }
      ]
    },
    {
      "cell_type": "markdown",
      "metadata": {
        "id": "315317a0"
      },
      "source": [
        "#### b) Stratified k-fold cross validation"
      ],
      "id": "315317a0"
    },
    {
      "cell_type": "code",
      "metadata": {
        "id": "002fe229"
      },
      "source": [
        "from sklearn.model_selection import StratifiedKFold\n",
        "skf = StratifiedKFold(n_splits=5, random_state=None)\n",
        "for train_index, test_index in kf.split(X):\n",
        "    X_train, X_test = X[train_index], X[test_index] \n",
        "    y_train, y_test = y[train_index], y[test_index]"
      ],
      "id": "002fe229",
      "execution_count": 75,
      "outputs": []
    },
    {
      "cell_type": "code",
      "metadata": {
        "id": "4f3ed35b",
        "colab": {
          "base_uri": "https://localhost:8080/"
        },
        "outputId": "89444d82-5638-4477-dcfa-b787a70eb7c6"
      },
      "source": [
        "from sklearn.tree import DecisionTreeClassifier\n",
        "\n",
        "def accuracy(y_test, y_pred):\n",
        "    accuracy = np.sum(y_test == y_pred) / len(y_test)\n",
        "    return accuracy\n",
        "\n",
        "clf = DecisionTreeClassifier(max_depth=10)\n",
        "clf.fit(X_train, y_train)\n",
        "\n",
        "y_pred = clf.predict(X_test)\n",
        "acc = accuracy(y_test, y_pred)\n",
        "\n",
        "print(\"Accuracy: \", acc)"
      ],
      "id": "4f3ed35b",
      "execution_count": 76,
      "outputs": [
        {
          "output_type": "stream",
          "name": "stdout",
          "text": [
            "Accuracy:  0.9337697343088178\n"
          ]
        }
      ]
    },
    {
      "cell_type": "markdown",
      "metadata": {
        "id": "4f1834b1"
      },
      "source": [
        "#### c) Repeated k-fold cross validation with repetition"
      ],
      "id": "4f1834b1"
    },
    {
      "cell_type": "code",
      "metadata": {
        "id": "28bba918"
      },
      "source": [
        "from sklearn.model_selection import RepeatedKFold\n",
        "rkf = RepeatedKFold(n_splits=5, n_repeats=10, random_state=None)\n",
        "for train_index, test_index in kf.split(X):\n",
        "    X_train, X_test = X[train_index], X[test_index] \n",
        "    y_train, y_test = y[train_index], y[test_index]"
      ],
      "id": "28bba918",
      "execution_count": 77,
      "outputs": []
    },
    {
      "cell_type": "code",
      "metadata": {
        "id": "e5980f37",
        "colab": {
          "base_uri": "https://localhost:8080/"
        },
        "outputId": "0422308c-4218-4ba6-f082-3ef1de177d9e"
      },
      "source": [
        "from sklearn.tree import DecisionTreeClassifier\n",
        "\n",
        "def accuracy(y_test, y_pred):\n",
        "    accuracy = np.sum(y_test == y_pred) / len(y_test)\n",
        "    return accuracy\n",
        "\n",
        "clf = DecisionTreeClassifier(max_depth=10)\n",
        "clf.fit(X_train, y_train)\n",
        "\n",
        "y_pred = clf.predict(X_test)\n",
        "acc = accuracy(y_test, y_pred)\n",
        "\n",
        "print(\"Accuracy: \", acc)"
      ],
      "id": "e5980f37",
      "execution_count": 78,
      "outputs": [
        {
          "output_type": "stream",
          "name": "stdout",
          "text": [
            "Accuracy:  0.9331921447824413\n"
          ]
        }
      ]
    },
    {
      "cell_type": "markdown",
      "metadata": {
        "id": "yrY0qu6r9KJC"
      },
      "source": [
        "### Random Forest  "
      ],
      "id": "yrY0qu6r9KJC"
    },
    {
      "cell_type": "code",
      "metadata": {
        "id": "3e744750"
      },
      "source": [
        "from sklearn.ensemble import RandomForestClassifier"
      ],
      "id": "3e744750",
      "execution_count": 79,
      "outputs": []
    },
    {
      "cell_type": "code",
      "metadata": {
        "id": "u3ZKk3l4FXhs"
      },
      "source": [
        "rf = RandomForestClassifier(n_estimators=200, random_state=42, n_jobs=-1)"
      ],
      "id": "u3ZKk3l4FXhs",
      "execution_count": 80,
      "outputs": []
    },
    {
      "cell_type": "code",
      "metadata": {
        "id": "5SpQ9RoXGfk0"
      },
      "source": [
        "X_train, X_test, y_train, y_test = train_test_split(X, y, test_size=0.2, random_state=1234)"
      ],
      "id": "5SpQ9RoXGfk0",
      "execution_count": 81,
      "outputs": []
    },
    {
      "cell_type": "code",
      "metadata": {
        "colab": {
          "base_uri": "https://localhost:8080/"
        },
        "id": "u5DJ2MEMGHyN",
        "outputId": "ed33204d-1513-4fad-a6d8-bda8b0b45e3d"
      },
      "source": [
        "rf.fit(X_train, y_train)"
      ],
      "id": "u5DJ2MEMGHyN",
      "execution_count": 82,
      "outputs": [
        {
          "output_type": "execute_result",
          "data": {
            "text/plain": [
              "RandomForestClassifier(bootstrap=True, ccp_alpha=0.0, class_weight=None,\n",
              "                       criterion='gini', max_depth=None, max_features='auto',\n",
              "                       max_leaf_nodes=None, max_samples=None,\n",
              "                       min_impurity_decrease=0.0, min_impurity_split=None,\n",
              "                       min_samples_leaf=1, min_samples_split=2,\n",
              "                       min_weight_fraction_leaf=0.0, n_estimators=200,\n",
              "                       n_jobs=-1, oob_score=False, random_state=42, verbose=0,\n",
              "                       warm_start=False)"
            ]
          },
          "metadata": {},
          "execution_count": 82
        }
      ]
    },
    {
      "cell_type": "code",
      "metadata": {
        "colab": {
          "base_uri": "https://localhost:8080/"
        },
        "id": "P6QNwKq2Fjy4",
        "outputId": "44c07933-e80b-4131-c696-27aa9253b3a8"
      },
      "source": [
        "pred_val = rf.predict(X_test)\n",
        "pred_val"
      ],
      "id": "P6QNwKq2Fjy4",
      "execution_count": 83,
      "outputs": [
        {
          "output_type": "execute_result",
          "data": {
            "text/plain": [
              "array([1, 0, 1, ..., 1, 0, 1])"
            ]
          },
          "metadata": {},
          "execution_count": 83
        }
      ]
    },
    {
      "cell_type": "code",
      "metadata": {
        "colab": {
          "base_uri": "https://localhost:8080/"
        },
        "id": "ThY_LJ5aG7P4",
        "outputId": "804adaf7-c7ec-46d2-836a-e24db24d6ede"
      },
      "source": [
        "from sklearn.metrics import accuracy_score\n",
        "acc2 = accuracy_score(y_test, pred_val)\n",
        "print(acc2)"
      ],
      "id": "ThY_LJ5aG7P4",
      "execution_count": 84,
      "outputs": [
        {
          "output_type": "stream",
          "name": "stdout",
          "text": [
            "0.9539942252165544\n"
          ]
        }
      ]
    },
    {
      "cell_type": "markdown",
      "metadata": {
        "id": "jRNwX2WiwqNR"
      },
      "source": [
        "#### Confusion matrix for RF"
      ],
      "id": "jRNwX2WiwqNR"
    },
    {
      "cell_type": "code",
      "metadata": {
        "colab": {
          "base_uri": "https://localhost:8080/"
        },
        "id": "5G_ig8PkwugV",
        "outputId": "b655774e-679c-471c-d975-f327f9e2a582"
      },
      "source": [
        "from sklearn.metrics import confusion_matrix\n",
        "cm = confusion_matrix(y_test, pred_val)\n",
        "print(cm)"
      ],
      "id": "5G_ig8PkwugV",
      "execution_count": 85,
      "outputs": [
        {
          "output_type": "stream",
          "name": "stdout",
          "text": [
            "[[2877   93]\n",
            " [ 146 2079]]\n"
          ]
        }
      ]
    },
    {
      "cell_type": "code",
      "metadata": {
        "colab": {
          "base_uri": "https://localhost:8080/",
          "height": 0
        },
        "id": "9e2zpAgRwzyJ",
        "outputId": "88419c00-6293-4366-9034-0c4270b47a07"
      },
      "source": [
        "sns.set(font_scale=1.5)\n",
        "\n",
        "def plot_conf_mat(y_test, pred_val):\n",
        "    \n",
        "    fig, ax = plt.subplots(figsize=(3, 3))\n",
        "    ax = sns.heatmap(confusion_matrix(y_test, pred_val),\n",
        "                     annot=True, \n",
        "                     cbar=False,\n",
        "                    fmt='g', # not to use scientific notation\n",
        "                    cmap='Blues')\n",
        "    \n",
        "    plt.xlabel(\"true label\", weight='bold')\n",
        "    plt.ylabel(\"predicted label\", weight='bold')\n",
        "    \n",
        "plot_conf_mat(y_test, pred_val)"
      ],
      "id": "9e2zpAgRwzyJ",
      "execution_count": 86,
      "outputs": [
        {
          "output_type": "display_data",
          "data": {
            "image/png": "[encoded data removed]",
            "text/plain": [
              "<Figure size 216x216 with 1 Axes>"
            ]
          },
          "metadata": {}
        }
      ]
    },
    {
      "cell_type": "markdown",
      "metadata": {
        "id": "BTMEpNy3Hj_u"
      },
      "source": [
        "### KNN"
      ],
      "id": "BTMEpNy3Hj_u"
    },
    {
      "cell_type": "code",
      "metadata": {
        "colab": {
          "base_uri": "https://localhost:8080/"
        },
        "id": "LWZWlzoeHlqy",
        "outputId": "31d84106-8171-4769-a7a7-631767fa2ba2"
      },
      "source": [
        "from sklearn.neighbors import KNeighborsClassifier\n",
        "classifier = KNeighborsClassifier(n_neighbors=5)\n",
        "classifier.fit(X_train, y_train)"
      ],
      "id": "LWZWlzoeHlqy",
      "execution_count": 87,
      "outputs": [
        {
          "output_type": "execute_result",
          "data": {
            "text/plain": [
              "KNeighborsClassifier(algorithm='auto', leaf_size=30, metric='minkowski',\n",
              "                     metric_params=None, n_jobs=None, n_neighbors=5, p=2,\n",
              "                     weights='uniform')"
            ]
          },
          "metadata": {},
          "execution_count": 87
        }
      ]
    },
    {
      "cell_type": "code",
      "metadata": {
        "id": "LuO_kh4fHnok"
      },
      "source": [
        "y_pred = classifier.predict(X_test)"
      ],
      "id": "LuO_kh4fHnok",
      "execution_count": 88,
      "outputs": []
    },
    {
      "cell_type": "code",
      "metadata": {
        "colab": {
          "base_uri": "https://localhost:8080/"
        },
        "id": "BJMWF8GYHyKC",
        "outputId": "269967b6-7fb0-42a1-fd86-f82771cd1273"
      },
      "source": [
        "from sklearn.metrics import accuracy_score\n",
        "acc3 = accuracy_score(y_test, y_pred)\n",
        "print(acc3)"
      ],
      "id": "BJMWF8GYHyKC",
      "execution_count": 89,
      "outputs": [
        {
          "output_type": "stream",
          "name": "stdout",
          "text": [
            "0.6939364773820982\n"
          ]
        }
      ]
    },
    {
      "cell_type": "code",
      "metadata": {
        "colab": {
          "base_uri": "https://localhost:8080/",
          "height": 0
        },
        "id": "Leb3oXBXxThP",
        "outputId": "1cbe2014-6dbd-49b5-f162-68b1e18779f4"
      },
      "source": [
        "sns.set(font_scale=1.5)\n",
        "\n",
        "def plot_conf_mat(y_test, y_pred):\n",
        "    \n",
        "    fig, ax = plt.subplots(figsize=(3, 3))\n",
        "    ax = sns.heatmap(confusion_matrix(y_test, y_pred),\n",
        "                     annot=True, \n",
        "                     cbar=False,\n",
        "                    fmt='g', # not to use scientific notation\n",
        "                    cmap='Blues')\n",
        "    \n",
        "    plt.xlabel(\"true label\", weight='bold')\n",
        "    plt.ylabel(\"predicted label\", weight='bold')\n",
        "    \n",
        "plot_conf_mat(y_test, y_pred)"
      ],
      "id": "Leb3oXBXxThP",
      "execution_count": 90,
      "outputs": [
        {
          "output_type": "display_data",
          "data": {
            "image/png": "[encoded data removed]",
            "text/plain": [
              "<Figure size 216x216 with 1 Axes>"
            ]
          },
          "metadata": {}
        }
      ]
    },
    {
      "cell_type": "markdown",
      "metadata": {
        "id": "kRhAI_q6xG0W"
      },
      "source": [
        "#### Confusion matrix for KNN"
      ],
      "id": "kRhAI_q6xG0W"
    },
    {
      "cell_type": "code",
      "metadata": {
        "colab": {
          "base_uri": "https://localhost:8080/"
        },
        "id": "l8qYfJBvxJux",
        "outputId": "b9cdbd5e-ed51-4586-a511-40214a97a5cc"
      },
      "source": [
        "from sklearn.metrics import confusion_matrix\n",
        "cm = confusion_matrix(y_test, y_pred)\n",
        "print(cm)"
      ],
      "id": "l8qYfJBvxJux",
      "execution_count": 91,
      "outputs": [
        {
          "output_type": "stream",
          "name": "stdout",
          "text": [
            "[[2222  748]\n",
            " [ 842 1383]]\n"
          ]
        }
      ]
    },
    {
      "cell_type": "markdown",
      "metadata": {
        "id": "S4mUrhrPTm6J"
      },
      "source": [
        "### Evaluating the models on test set "
      ],
      "id": "S4mUrhrPTm6J"
    },
    {
      "cell_type": "code",
      "metadata": {
        "id": "Clk3WuVvTmOG"
      },
      "source": [
        "X = df3[df3.columns[0: len(df3.columns) - 1]].values\n",
        "y = df3[df3.columns[-1]].values"
      ],
      "id": "Clk3WuVvTmOG",
      "execution_count": 92,
      "outputs": []
    },
    {
      "cell_type": "code",
      "metadata": {
        "id": "MS8HERaWUP0F"
      },
      "source": [
        "X_train, X_test, y_train, y_test = train_test_split(X, y, test_size=0.2, random_state=1234)"
      ],
      "id": "MS8HERaWUP0F",
      "execution_count": 93,
      "outputs": []
    },
    {
      "cell_type": "markdown",
      "metadata": {
        "id": "-fKFltBLIlVi"
      },
      "source": [
        "### Graph for comparing accuracy of all 3 algorithms"
      ],
      "id": "-fKFltBLIlVi"
    },
    {
      "cell_type": "code",
      "metadata": {
        "colab": {
          "base_uri": "https://localhost:8080/"
        },
        "id": "GQNYLhIhIqy6",
        "outputId": "694db288-8984-4d09-fcef-3d36c43e4457"
      },
      "source": [
        "models = {'KNN': KNeighborsClassifier(),\n",
        "          'Decision Tree' : DecisionTreeClassifier(),\n",
        "         'Random Forest': RandomForestClassifier()}\n",
        "\n",
        "def fit_and_score(models, X_train, X_test, y_train, y_test):\n",
        "    np.random.seed(42)\n",
        "    \n",
        "    model_scores = {}\n",
        "    \n",
        "    for name, model in models.items():\n",
        "        model.fit(X_train, y_train)\n",
        "        \n",
        "        model_scores[name] = model.score(X_test, y_test)\n",
        "    return model_scores\n",
        "\n",
        "model_scores = fit_and_score(models=models, \n",
        "                             X_train=X_train,\n",
        "                            X_test=X_test,\n",
        "                            y_train=y_train,\n",
        "                            y_test=y_test)\n",
        "model_scores"
      ],
      "id": "GQNYLhIhIqy6",
      "execution_count": 97,
      "outputs": [
        {
          "output_type": "execute_result",
          "data": {
            "text/plain": [
              "{'Decision Tree': 0.9299461123941494,\n",
              " 'KNN': 0.6404926866820632,\n",
              " 'Random Forest': 0.9499615088529638}"
            ]
          },
          "metadata": {},
          "execution_count": 97
        }
      ]
    },
    {
      "cell_type": "code",
      "metadata": {
        "colab": {
          "base_uri": "https://localhost:8080/",
          "height": 382
        },
        "id": "ukCvcD_vS95g",
        "outputId": "ec740fe9-1ad9-4c98-ee7b-49ba96c60f6a"
      },
      "source": [
        "model_comp = pd.DataFrame(model_scores, index=['accuracy'])\n",
        "model_comp.T.plot.bar();"
      ],
      "id": "ukCvcD_vS95g",
      "execution_count": 98,
      "outputs": [
        {
          "output_type": "display_data",
          "data": {
            "image/png": "[encoded data removed]",
            "text/plain": [
              "<Figure size 432x288 with 1 Axes>"
            ]
          },
          "metadata": {}
        }
      ]
    }
  ]
}